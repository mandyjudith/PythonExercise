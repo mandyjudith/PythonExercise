{
 "cells": [
  {
   "cell_type": "markdown",
   "metadata": {
    "colab_type": "text",
    "id": "rP61NmReydKU"
   },
   "source": [
    "# Loops, Conditionals and Algorithmic Thinking Exercise 4A (Compulsory)"
   ]
  },
  {
   "cell_type": "markdown",
   "metadata": {
    "colab_type": "text",
    "id": "KODxX5KvydKX"
   },
   "source": [
    "1. Create an if-else conditional statement where a user inputs a number and outputs positive, negative, zero or string number.\n",
    "\n",
    "\n",
    "```\n",
    "e.g.\n",
    "input: -2 \n",
    "output: Negative\n",
    "```\n",
    "\n"
   ]
  },
  {
   "cell_type": "code",
   "execution_count": 1,
   "metadata": {
    "colab": {},
    "colab_type": "code",
    "id": "U9igFlBMydKZ"
   },
   "outputs": [
    {
     "name": "stdout",
     "output_type": "stream",
     "text": [
      "Enter a number: -2\n",
      "Negative\n"
     ]
    }
   ],
   "source": [
    "num = int(input(\"Enter a number: \"))\n",
    "\n",
    "if num > 0:\n",
    "    print(\"Positive\")\n",
    "elif num <0:\n",
    "    print(\"Negative\")\n",
    "else:\n",
    "    print(\"Zero\")\n",
    "    \n"
   ]
  },
  {
   "cell_type": "markdown",
   "metadata": {
    "colab_type": "text",
    "id": "VSlIMqGSydKg"
   },
   "source": [
    "2. Use a while statement to create a counter for popularity between pizza, tacos, sushi, and hamburger. When the counter for any item reaches 5, print the most popular item. Ensure that user inputs is in lowercase.\n",
    "\n",
    "\n",
    "```\n",
    "e.g.\n",
    "Select between the followings. \n",
    "1. pizza \n",
    "2. tacos \n",
    "3. sushi \n",
    "4. hamburger1\n",
    "Select between the followings. \n",
    "1. pizza \n",
    "2. tacos \n",
    "3. sushi \n",
    "4. hamburger2\n",
    "Select between the followings. \n",
    "1. pizza \n",
    "2. tacos \n",
    "3. sushi \n",
    "4. hamburger1\n",
    "Select between the followings. \n",
    "1. pizza \n",
    "2. tacos \n",
    "3. sushi \n",
    "4. hamburger1\n",
    "Select between the followings. \n",
    "1. pizza \n",
    "2. tacos \n",
    "3. sushi \n",
    "4. hamburger1\n",
    "Select between the followings. \n",
    "1. pizza \n",
    "2. tacos \n",
    "3. sushi \n",
    "4. hamburger1\n",
    "Pizza is the most popular.\n",
    "```\n",
    "\n"
   ]
  },
  {
   "cell_type": "code",
   "execution_count": 9,
   "metadata": {
    "colab": {},
    "colab_type": "code",
    "id": "mssLmOQPy--n"
   },
   "outputs": [
    {
     "name": "stdout",
     "output_type": "stream",
     "text": [
      "Enter your choice: 1\n",
      "Enter your choice: 2\n",
      "Enter your choice: 1\n",
      "Enter your choice: 1\n",
      "Enter your choice: 1\n",
      "Enter your choice: 1\n",
      "Pizza is the most popular\n"
     ]
    }
   ],
   "source": [
    "count_name = ['pizza','tacao','sushi','hamburger']\n",
    "count_list= [0,0,0,0]\n",
    "\n",
    "\n",
    "while max(count_list)<5:\n",
    "    \n",
    "    ans = int(input(\"Enter your choice: \"))\n",
    "    \n",
    "    if ans == 1:\n",
    "        count_list[0] +=1\n",
    "    elif ans == 2:\n",
    "        count_list[1]+=1\n",
    "    elif ans == 3:\n",
    "        count_list[2]+=1\n",
    "    elif ans == 4:\n",
    "        count_list[3] +=1\n",
    "    \n",
    "    if count_list[0] ==5:\n",
    "        print('Pizza is the most popular')\n",
    "    elif count_list[1] == 5:\n",
    "        print('Tacao is the most popular')\n",
    "    elif count_list[2] == 5:\n",
    "        print('Sushi is the most popular')\n",
    "    elif count_list[3] == 5:\n",
    "        print('Hamburger is the most popular')\n",
    "        \n",
    "        "
   ]
  },
  {
   "cell_type": "code",
   "execution_count": 10,
   "metadata": {},
   "outputs": [
    {
     "name": "stdout",
     "output_type": "stream",
     "text": [
      "pizza\n"
     ]
    }
   ],
   "source": [
    "print(f'{count_name[count_list.index(5)]}')"
   ]
  },
  {
   "cell_type": "code",
   "execution_count": null,
   "metadata": {},
   "outputs": [],
   "source": [
    "##ANS from others\n",
    "\n",
    "optiondict={'pizza':0, 'tacos': 0, 'sushi':0, 'hamburger': 0}\n",
    "\n",
    "\n",
    "while(max(optiondict.values()) < 5) :\n",
    "    \n",
    "    x = int(input('''Select between the followings. \n",
    "    1. pizza \n",
    "    2. tacos \n",
    "    3. sushi \n",
    "    4. hamburger   \n",
    "    your favorite food :  '''))\n",
    "          \n",
    "    if x == 1:\n",
    "        optiondict['pizza'] += 1\n",
    "    if x == 2:\n",
    "        optiondict['tacos'] += 1\n",
    "    if x == 3:\n",
    "        optiondict['sushi'] += 1\n",
    "    if x == 4:\n",
    "        optiondict['hamburger'] += 1\n",
    "    \n",
    "\n",
    "inverse = [(value, key) for key, value in optiondict.items()]\n",
    "\n",
    "\n",
    "print (f\"{max(inverse)[1]} is the most pupular\")"
   ]
  },
  {
   "cell_type": "code",
   "execution_count": null,
   "metadata": {},
   "outputs": [],
   "source": [
    "## ANS \n",
    "\n",
    "total_pizza = 0\n",
    "total_taco = 0\n",
    "total_sushi = 0\n",
    "total_hamburger = 0\n",
    "while True:\n",
    "    food = int(input('Select between the followings. \\n1. pizza \\n2. tacos \\n3. sushi \\n4. hamburger'))\n",
    "    if (food == 1):\n",
    "        total_pizza += 1\n",
    "        if total_pizza == 5:\n",
    "            print(\"Pizza is the most popular.\")\n",
    "            break\n",
    "    elif (food == 2):\n",
    "        total_taco += 1\n",
    "        if total_taco == 5:\n",
    "            print(\"Taco is the most popular.\")\n",
    "            break\n",
    "    elif (food == 3):\n",
    "        total_sushi += 1\n",
    "        if total_sushi == 5:\n",
    "            print(\"Sushi is the most popular.\")\n",
    "            break\n",
    "    elif (food == 4):\n",
    "        total_hamburger += 1\n",
    "        if total_hamburger == 5:\n",
    "            print(\"Hamburger is the most popular.\")\n",
    "            break"
   ]
  },
  {
   "cell_type": "code",
   "execution_count": null,
   "metadata": {},
   "outputs": [],
   "source": [
    "##  ( )  --> method, adding, appending\n",
    "## { } --> dictionary\n",
    "## [ ] --> reading, index"
   ]
  },
  {
   "cell_type": "markdown",
   "metadata": {
    "colab_type": "text",
    "id": "MB7sQ7BIydKn"
   },
   "source": [
    "3. Create a while statement that keeps adding numbers until input is a not a digit.\n",
    "\n",
    "\n",
    "```\n",
    "e.g.\n",
    "Enter a number: 8\n",
    "Enter a number: 3\n",
    "Enter a number: 31\n",
    "Enter a number: 4\n",
    "Enter a number: u\n",
    "The sum of the numbers is 46\n",
    "```\n",
    "\n"
   ]
  },
  {
   "cell_type": "code",
   "execution_count": 2,
   "metadata": {
    "colab": {},
    "colab_type": "code",
    "id": "O3UvSBNiydKn"
   },
   "outputs": [
    {
     "name": "stdout",
     "output_type": "stream",
     "text": [
      "Enter a number: 8\n",
      "Enter a number: 3\n",
      "Enter a number: 31\n",
      "Enter a number: 4\n",
      "Enter a number: u\n",
      "The sum of the numbers is 46. \n"
     ]
    }
   ],
   "source": [
    "sum= 0 \n",
    "\n",
    "while type(sum) == int:\n",
    "    num = input('Enter a number: ')\n",
    "    if num.isdigit():\n",
    "        sum += int(num)\n",
    "    else:\n",
    "        break\n",
    "print(f'The sum of the numbers is {sum}. ')"
   ]
  },
  {
   "cell_type": "markdown",
   "metadata": {
    "colab_type": "text",
    "id": "lriHTWUlydKr"
   },
   "source": [
    "4. Given a list of integers, create a for loop to multiply all the integers in the list.\n",
    "\n",
    "\n",
    "```\n",
    "e.g.\n",
    "list =[1,2,3,4,5,6]\n",
    "output: 720 \n",
    "```\n",
    "\n"
   ]
  },
  {
   "cell_type": "code",
   "execution_count": 3,
   "metadata": {
    "colab": {},
    "colab_type": "code",
    "id": "MlLWVLnuydKr"
   },
   "outputs": [
    {
     "name": "stdout",
     "output_type": "stream",
     "text": [
      "720\n"
     ]
    }
   ],
   "source": [
    "list =[1,2,3,4,5,6]\n",
    "sum= 1\n",
    "\n",
    "for i in list:\n",
    "    sum = sum*i\n",
    "print(sum)"
   ]
  },
  {
   "cell_type": "markdown",
   "metadata": {
    "colab_type": "text",
    "id": "FAX0QWFWydKu"
   },
   "source": [
    "5. Create an implementation of the bubble sort."
   ]
  },
  {
   "cell_type": "code",
   "execution_count": 4,
   "metadata": {
    "colab": {},
    "colab_type": "code",
    "id": "gWHfgBY4ydKu"
   },
   "outputs": [
    {
     "name": "stdout",
     "output_type": "stream",
     "text": [
      "[2, 4, 5, 6, 8]\n"
     ]
    }
   ],
   "source": [
    "def bubble_sort(my_list):\n",
    "    for i in range(len(my_list)):\n",
    "        for j in range(len(my_list)-1):\n",
    "            if my_list[j] > my_list[j+1]:\n",
    "                my_list[j],my_list[j+1] =my_list[j+1], my_list[j]\n",
    "\n",
    "                \n",
    "my_list= [8,2,6,4,5]\n",
    "bubble_sort(my_list)\n",
    "print(my_list)"
   ]
  },
  {
   "cell_type": "markdown",
   "metadata": {
    "colab_type": "text",
    "id": "x37t9lt4ydKw"
   },
   "source": [
    "6. Solve this equation using Python:\n",
    "$\\sum_{k=0}^{10}[(\\frac{12\\times23}{3^4})^7 + 2^k]$"
   ]
  },
  {
   "cell_type": "code",
   "execution_count": 5,
   "metadata": {
    "colab": {},
    "colab_type": "code",
    "id": "U3vVTW8SydKw"
   },
   "outputs": [
    {
     "name": "stdout",
     "output_type": "stream",
     "text": [
      "49018.65282514955\n"
     ]
    }
   ],
   "source": [
    "import math\n",
    "t = 0\n",
    "\n",
    "for k in range(1,10):\n",
    "    new_t = math.pow((12*23)/(3**4),7)+ math.pow(2,k)\n",
    "    t += new_t\n",
    "print(t)"
   ]
  },
  {
   "cell_type": "markdown",
   "metadata": {
    "colab_type": "text",
    "id": "-eDuj3goydKz"
   },
   "source": [
    "7. Given a list of integers, loop over the list and print the even numbers in the list\n",
    "\n",
    "\n",
    "```\n",
    "e.g.\n",
    "l = [1,15,73,6,3,3,242,4,2,8,45,7,3]\n",
    "output: \n",
    "6\n",
    "242\n",
    "4\n",
    "2\n",
    "8\n",
    "```\n",
    "\n"
   ]
  },
  {
   "cell_type": "code",
   "execution_count": 6,
   "metadata": {
    "colab": {},
    "colab_type": "code",
    "id": "02Ypg33MydK0"
   },
   "outputs": [
    {
     "name": "stdout",
     "output_type": "stream",
     "text": [
      "6\n",
      "242\n",
      "4\n",
      "2\n",
      "8\n"
     ]
    }
   ],
   "source": [
    "l = [1,15,73,6,3,3,242,4,2,8,45,7,3]\n",
    "\n",
    "for i in l:\n",
    "    if i %2 == 0:\n",
    "        print(i)\n",
    "    else: \n",
    "        pass\n",
    "    "
   ]
  },
  {
   "cell_type": "markdown",
   "metadata": {
    "colab_type": "text",
    "id": "y_9ERSB7ydK2"
   },
   "source": [
    "8. Using a for-loop and an if-statement, print each letter in the string \"abcdefghij\", if that letter is a vowel.\n",
    "\n",
    "\n",
    "```\n",
    "e.g.\n",
    "letter = \"abcdefghij\"\n",
    "output:\n",
    "a\n",
    "e\n",
    "i\n",
    "```\n",
    "\n"
   ]
  },
  {
   "cell_type": "code",
   "execution_count": 8,
   "metadata": {
    "colab": {},
    "colab_type": "code",
    "id": "jYDR6yFWydK2"
   },
   "outputs": [
    {
     "name": "stdout",
     "output_type": "stream",
     "text": [
      "a\n",
      "e\n",
      "i\n"
     ]
    }
   ],
   "source": [
    "letter = \"abcdefghij\"\n",
    "vowel = ['a','e','i','o','u']\n",
    "\n",
    "for i in letter:\n",
    "    if i in vowel:\n",
    "        print(i)"
   ]
  },
  {
   "cell_type": "markdown",
   "metadata": {
    "colab_type": "text",
    "id": "gCS50WUcydK6"
   },
   "source": [
    "9. Given a list of nonzero, positive numbers, x, append the sum of that list to the end of it. Do this until the last value in x is at least 100. Use a while-loop.\n",
    "\n",
    "If you start with x = [1], then by the end of your while-loop x should be [1, 1, 2, 4, 8, 16, 32, 64, 128]."
   ]
  },
  {
   "cell_type": "code",
   "execution_count": 4,
   "metadata": {
    "colab": {},
    "colab_type": "code",
    "id": "m1w8kWovydK7"
   },
   "outputs": [
    {
     "name": "stdout",
     "output_type": "stream",
     "text": [
      "[1, 1, 2, 4, 8, 16, 32, 64, 128]\n"
     ]
    }
   ],
   "source": [
    "list1= [1]\n",
    "\n",
    "while max(list1)<100:\n",
    "    sum1 = sum(list1)\n",
    "    list1.append(sum1)\n",
    "    \n",
    "print(list1)\n"
   ]
  },
  {
   "cell_type": "markdown",
   "metadata": {
    "colab_type": "text",
    "id": "wpWk0lfOydK9"
   },
   "source": [
    "10. Loop over a list of integers repeatedly, summing up all of its even values, and adding the content to a total. Repeat this process until the the total exceeds 100, or if you have looped over the list more than 50 times. Print the total only if it exceeds 100.\n",
    "```\n",
    "e.g.\n",
    "x = [3, 4, 1, 2, 8, 10, -3, 0]\n",
    "output: 120\n",
    "```\n",
    "\n"
   ]
  },
  {
   "cell_type": "code",
   "execution_count": 7,
   "metadata": {
    "colab": {},
    "colab_type": "code",
    "id": "aL-Fs7mqydK9"
   },
   "outputs": [
    {
     "name": "stdout",
     "output_type": "stream",
     "text": [
      "120\n"
     ]
    }
   ],
   "source": [
    "x = [3, 4, 1, 2, 8, 10, -3, 0]\n",
    "total = 0\n",
    "count = 0\n",
    "\n",
    "while total <100:\n",
    "    for i in x:\n",
    "        if i %2 ==0:\n",
    "            total += i\n",
    "            count +=1\n",
    "    if count>50:\n",
    "        break\n",
    "        \n",
    "print(total)"
   ]
  },
  {
   "cell_type": "code",
   "execution_count": 1,
   "metadata": {},
   "outputs": [
    {
     "output_type": "stream",
     "name": "stdout",
     "text": [
      "500\n"
     ]
    }
   ],
   "source": [
    "def dose(needs):\n",
    "    injections_lst = []\n",
    "    vitamins_lst= []\n",
    "    needs = [250, 0, 250, 0, 0, 0 ]\n",
    "\n",
    "    total_attribute = 0\n",
    "    for i in needs:\n",
    "        total_attribute += i\n",
    "    print(total_attribute)\n",
    "        \n",
    "\n",
    "    if total_attribute > 500 and i >250:\n",
    "        print('No medicine given')\n",
    "\n",
    "    else:\n",
    "        for i in range(len(needs)):\n",
    "            x = str(i)\n",
    "            injections= (10- int(x[-1]))*1\n",
    "            injections_lst.append(injections)\n",
    "            if int(x) <100 :\n",
    "                vitamins = (int(x[0])+1)*10\n",
    "                vitamins_lst.append(vitamins)\n",
    "\n",
    "            else:\n",
    "                vitamins = (int(x[0]+x[1])+1)*10\n",
    "                vitamins_lst.append(vitamins)\n",
    "            \n",
    "\n",
    "            \n",
    "dose([250, 0, 250, 0, 0, 0 ])"
   ]
  },
  {
   "cell_type": "code",
   "execution_count": 12,
   "metadata": {},
   "outputs": [
    {
     "output_type": "execute_result",
     "data": {
      "text/plain": [
       "22"
      ]
     },
     "metadata": {},
     "execution_count": 12
    }
   ],
   "source": [
    "a = 223\n",
    "b = str(a)\n",
    "b\n",
    "b[1]\n",
    "int(b[0]+b[1])"
   ]
  },
  {
   "cell_type": "code",
   "execution_count": 55,
   "metadata": {},
   "outputs": [
    {
     "output_type": "stream",
     "name": "stdout",
     "text": [
      "410\n[23, 2, 13, 0, 4, 2]\n[7, 8, 4, 0, 3, 8]\n[(23, 7), (2, 8), (13, 4), (0, 0), (4, 3), (2, 8)]\n"
     ]
    }
   ],
   "source": [
    "injections_lst = []\n",
    "vitamins_lst= []\n",
    "needs = [223, 12, 126, 0, 37, 12 ]\n",
    "\n",
    "total_attribute = 0\n",
    "for i in needs:\n",
    "    total_attribute += i\n",
    "print(total_attribute)\n",
    "\n",
    "        \n",
    "\n",
    "if total_attribute > 500 and max(needs)>250:\n",
    "    print('No medicine given')\n",
    "\n",
    "else:\n",
    "    for i in needs:\n",
    "        x = str(i)\n",
    "        # print(x)\n",
    "\n",
    "        if i == 0:\n",
    "            vitamins_lst.append(0)\n",
    "            injections_lst.append(0)\n",
    "\n",
    "        else:\n",
    "            injections= (10- int(x[-1]))*1\n",
    "            if injections == 10 :\n",
    "                injections = 0\n",
    "            injections_lst.append(injections)\n",
    "            \n",
    "\n",
    "            if i <100 :\n",
    "                vitamins = (int(x[0])+1)*10\n",
    "                vitamins_lst.append(int(x[0])+1)\n",
    "\n",
    "            else:\n",
    "                vitamins = (int(x[0]+x[1])+1)*10\n",
    "                vitamins_lst.append(int(x[0]+x[1])+1)\n",
    "\n",
    "\n",
    "print(vitamins_lst)\n",
    "print(injections_lst)\n",
    "\n",
    "# new = [(vitamins_lst[i],injections_lst[j])]\n",
    "new2 = []\n",
    "for i in range(len(vitamins_lst)):\n",
    "    new2.append((vitamins_lst[i],injections_lst[i]))\n",
    "print(new2)\n",
    "\n",
    "\n"
   ]
  },
  {
   "cell_type": "code",
   "execution_count": null,
   "metadata": {},
   "outputs": [],
   "source": []
  },
  {
   "cell_type": "code",
   "execution_count": null,
   "metadata": {},
   "outputs": [],
   "source": [
    "def dose(needs):\n",
    "    #YOUR SOLUTION STARTS HERE\n",
    "    import math\n",
    "    def roundup(x):\n",
    "        return int(math.ceil(x / 10.0)) *10\n",
    "\n",
    "\n",
    "    # injections_lst = []\n",
    "    # vitamins_lst= []\n",
    "    vi=[]\n",
    "    total_attribute = 0\n",
    "    if sum(needs)>500 or max(needs)>250:\n",
    "        return ('No medicine given')\n",
    "    else:\n",
    "        for i in needs:\n",
    "    \n",
    "            v=roundup(i)/10\n",
    "            inj=roundup(i)-i\n",
    "            vi.append((v,inj))\n",
    "    return vi\n",
    "            "
   ]
  },
  {
   "cell_type": "code",
   "execution_count": 67,
   "metadata": {},
   "outputs": [],
   "source": [
    "def dose(needs):\n",
    "    #YOUR SOLUTION STARTS HERE\n",
    "    import math\n",
    "    def roundup(x):\n",
    "        return int(math.ceil(x / 10.0)) *10\n",
    "\n",
    "    vi=[]\n",
    "    total_attribute = 0\n",
    "    if sum(needs)>500 or max(needs)>250:\n",
    "        return ('No medicine given')\n",
    "    else:\n",
    "        for i in needs:\n",
    "    \n",
    "            v=int(roundup(i)/10)\n",
    "            inj=roundup(i)-i\n",
    "            vi.append((v,inj))\n",
    "    return vi\n",
    "            "
   ]
  },
  {
   "cell_type": "code",
   "execution_count": 68,
   "metadata": {},
   "outputs": [
    {
     "output_type": "execute_result",
     "data": {
      "text/plain": [
       "[(24, 8), (1, 7), (1, 6), (9, 6), (4, 7), (1, 5)]"
      ]
     },
     "metadata": {},
     "execution_count": 68
    }
   ],
   "source": [
    "dose([232,3,4,84,33,5])"
   ]
  },
  {
   "cell_type": "code",
   "execution_count": null,
   "metadata": {},
   "outputs": [],
   "source": []
  }
 ],
 "metadata": {
  "colab": {
   "collapsed_sections": [],
   "name": "LoopsConditionalsAlgorithmicThinking-Exercise-4A.ipynb",
   "provenance": []
  },
  "kernelspec": {
   "name": "python376jvsc74a57bd065217befdecd77df966a0fc871a0f674f96e08082e68f0c74d27e5780f39628d",
   "display_name": "Python 3.7.6 64-bit (conda)"
  },
  "language_info": {
   "codemirror_mode": {
    "name": "ipython",
    "version": 3
   },
   "file_extension": ".py",
   "mimetype": "text/x-python",
   "name": "python",
   "nbconvert_exporter": "python",
   "pygments_lexer": "ipython3",
   "version": "3.7.6"
  },
  "toc": {
   "base_numbering": 1,
   "nav_menu": {},
   "number_sections": true,
   "sideBar": true,
   "skip_h1_title": false,
   "title_cell": "Table of Contents",
   "title_sidebar": "Contents",
   "toc_cell": false,
   "toc_position": {},
   "toc_section_display": true,
   "toc_window_display": false
  },
  "varInspector": {
   "cols": {
    "lenName": 16,
    "lenType": 16,
    "lenVar": 40
   },
   "kernels_config": {
    "python": {
     "delete_cmd_postfix": "",
     "delete_cmd_prefix": "del ",
     "library": "var_list.py",
     "varRefreshCmd": "print(var_dic_list())"
    },
    "r": {
     "delete_cmd_postfix": ") ",
     "delete_cmd_prefix": "rm(",
     "library": "var_list.r",
     "varRefreshCmd": "cat(var_dic_list()) "
    }
   },
   "types_to_exclude": [
    "module",
    "function",
    "builtin_function_or_method",
    "instance",
    "_Feature"
   ],
   "window_display": false
  }
 },
 "nbformat": 4,
 "nbformat_minor": 1
}