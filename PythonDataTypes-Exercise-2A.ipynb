{
 "cells": [
  {
   "cell_type": "markdown",
   "metadata": {
    "colab_type": "text",
    "id": "P9aRb0p9_0RP"
   },
   "source": [
    "# Python Data Types & Containers Exercise 2A (Compulsory)"
   ]
  },
  {
   "cell_type": "markdown",
   "metadata": {
    "colab_type": "text",
    "id": "dPhgZHjB_0RR"
   },
   "source": [
    "1. Is the following list assignment correct? If not, explain why it isn't. If it is, print out _this_list_.\n",
    "```\n",
    "one = 'one'\n",
    "two = 2\n",
    "three = 3\n",
    "four = 'four'\n",
    "list_1 = [\"a\", 7]\n",
    "this_list = [one, 'two', 3, four, list_1]\n",
    "```"
   ]
  },
  {
   "cell_type": "code",
   "execution_count": null,
   "metadata": {},
   "outputs": [],
   "source": [
    "## correct"
   ]
  },
  {
   "cell_type": "code",
   "execution_count": 1,
   "metadata": {
    "colab": {},
    "colab_type": "code",
    "id": "gPj8yW1JQQa-"
   },
   "outputs": [
    {
     "name": "stdout",
     "output_type": "stream",
     "text": [
      "['one', 'two', 3, 'four', ['a', 7]]\n"
     ]
    }
   ],
   "source": [
    "# The list assignment is correct\n",
    "one = 'one'\n",
    "two = 2\n",
    "three = 3\n",
    "four = 'four'\n",
    "list_1 = [\"a\", 7]\n",
    "this_list = [one, 'two', 3, four, list_1]\n",
    "print(this_list)"
   ]
  },
  {
   "cell_type": "markdown",
   "metadata": {
    "colab_type": "text",
    "id": "JBgxfDs2_0RV"
   },
   "source": [
    "2. What is the set of the tuple ```(1,2,3,33,3,3,4,5)```?\n",
    "\n",
    "Expected output: `{1, 2, 3, 4, 5, 33}`"
   ]
  },
  {
   "cell_type": "code",
   "execution_count": null,
   "metadata": {},
   "outputs": [],
   "source": [
    "## correct"
   ]
  },
  {
   "cell_type": "code",
   "execution_count": 8,
   "metadata": {
    "colab": {},
    "colab_type": "code",
    "id": "f7FTRUFFQQbH"
   },
   "outputs": [
    {
     "name": "stdout",
     "output_type": "stream",
     "text": [
      "{1, 2, 3, 4, 33, 5}\n"
     ]
    }
   ],
   "source": [
    "s= {1,2,3,33,3,3,4,5}\n",
    "print(s)"
   ]
  },
  {
   "cell_type": "code",
   "execution_count": 19,
   "metadata": {},
   "outputs": [
    {
     "data": {
      "text/plain": [
       "{1, 2, 3, 4, 5, 33}"
      ]
     },
     "execution_count": 19,
     "metadata": {},
     "output_type": "execute_result"
    }
   ],
   "source": [
    "##ANS\n",
    "t =(1,2,3,33,3,3,4,5)\n",
    "set(t)"
   ]
  },
  {
   "cell_type": "markdown",
   "metadata": {
    "colab_type": "text",
    "id": "Qiqv6oXn_0RY"
   },
   "source": [
    "3. For the dictionary ```food_counts = {'eggs':6 , 'bacon':1 , 'sausages':4}```, add a new key in the dictionary called _milk_ with value 1.\n",
    "\n",
    "Expected output: `{'eggs': 6, 'bacon': 1, 'sausages': 4, 'milk': 1}`"
   ]
  },
  {
   "cell_type": "code",
   "execution_count": null,
   "metadata": {},
   "outputs": [],
   "source": [
    "## correct"
   ]
  },
  {
   "cell_type": "code",
   "execution_count": 9,
   "metadata": {
    "colab": {},
    "colab_type": "code",
    "id": "7glH7UFjQQbM",
    "outputId": "21985665-fbd4-4efe-b14d-e6b3d41d71a2"
   },
   "outputs": [
    {
     "name": "stdout",
     "output_type": "stream",
     "text": [
      "{'eggs': 6, 'bacon': 1, 'sausages': 4, 'milk': 1}\n"
     ]
    }
   ],
   "source": [
    "food_counts = {'eggs':6 , 'bacon':1 , 'sausages':4}\n",
    "food_counts['milk'] = 1\n",
    "print(food_counts)"
   ]
  },
  {
   "cell_type": "markdown",
   "metadata": {
    "colab_type": "text",
    "id": "ujc4S5jl_0Rb"
   },
   "source": [
    "4. For the string ```supercalifragilisticexpialidocious```, print out the string ```fragilistic``` using slicing."
   ]
  },
  {
   "cell_type": "code",
   "execution_count": null,
   "metadata": {},
   "outputs": [],
   "source": [
    "## correct"
   ]
  },
  {
   "cell_type": "code",
   "execution_count": 10,
   "metadata": {
    "colab": {},
    "colab_type": "code",
    "id": "sEJU4jJNQQbQ"
   },
   "outputs": [
    {
     "data": {
      "text/plain": [
       "'fragilistic'"
      ]
     },
     "execution_count": 10,
     "metadata": {},
     "output_type": "execute_result"
    }
   ],
   "source": [
    "s = 'supercalifragilisticexpialidocious'\n",
    "s[9:20]"
   ]
  },
  {
   "cell_type": "markdown",
   "metadata": {
    "colab_type": "text",
    "id": "RC9LkzNb_0Rf"
   },
   "source": [
    "5. Given the dictionary ```{1: ['this', 'is', ['a', 'list']], '2': {'a': 'nother', 'd':'ictionary', '3': [1,2,3,4,5]}, 'three': ['list',{2:'woah', 3: 'good job!'}]}```\n",
    "\n",
    "Return the string _'good job'_ through indexing."
   ]
  },
  {
   "cell_type": "code",
   "execution_count": null,
   "metadata": {},
   "outputs": [],
   "source": [
    "## correct"
   ]
  },
  {
   "cell_type": "code",
   "execution_count": 12,
   "metadata": {
    "colab": {},
    "colab_type": "code",
    "id": "u2mSgxvPQQbT"
   },
   "outputs": [
    {
     "data": {
      "text/plain": [
       "'good job!'"
      ]
     },
     "execution_count": 12,
     "metadata": {},
     "output_type": "execute_result"
    }
   ],
   "source": [
    "d = {1: ['this', 'is', ['a', 'list']], '2': {'a': 'nother', 'd':'ictionary', '3': [1,2,3,4,5]}, 'three': ['list',{2:'woah', 3: 'good job!'}]}\n",
    "d['three'][1][3]"
   ]
  },
  {
   "cell_type": "code",
   "execution_count": 21,
   "metadata": {},
   "outputs": [
    {
     "data": {
      "text/plain": [
       "'good job'"
      ]
     },
     "execution_count": 21,
     "metadata": {},
     "output_type": "execute_result"
    }
   ],
   "source": [
    "##ANS \n",
    "## without the ' ! '\n",
    "\n",
    "d = {1: ['this', 'is', ['a', 'list']], '2': {'a': 'nother', 'd':'ictionary', '3': [1,2,3,4,5]}, 'three': ['list',{2:'woah', 3: 'good job!'}]}\n",
    "d['three'][1][3][:-1]\n"
   ]
  },
  {
   "cell_type": "markdown",
   "metadata": {
    "colab_type": "text",
    "id": "d66BpJcoQQbV"
   },
   "source": [
    "6. Return the total number of lists inside a given list.\n",
    "\n",
    "```\n",
    "eg.\n",
    "for [[1, 2, 3], [1, 2, 3], [1, 2, 3], [1, 2, 3]] there are 4 sub-lists inside the list\n",
    "```"
   ]
  },
  {
   "cell_type": "code",
   "execution_count": 40,
   "metadata": {
    "colab": {},
    "colab_type": "code",
    "id": "hsTzriUNSEEM"
   },
   "outputs": [
    {
     "name": "stdout",
     "output_type": "stream",
     "text": [
      "24\n"
     ]
    }
   ],
   "source": [
    "## My Practice for sum of the list\n",
    "l =  [[1, 2, 3], [1, 2, 3], [1, 2, 3], [1, 2, 3]] \n",
    "index = 0\n",
    "total = 0\n",
    "\n",
    "for i in l:\n",
    "    for j in l[index]:\n",
    "        total += j \n",
    "print(total)\n",
    "        "
   ]
  },
  {
   "cell_type": "code",
   "execution_count": null,
   "metadata": {},
   "outputs": [],
   "source": [
    "##correct"
   ]
  },
  {
   "cell_type": "code",
   "execution_count": 15,
   "metadata": {},
   "outputs": [
    {
     "name": "stdout",
     "output_type": "stream",
     "text": [
      "4\n"
     ]
    }
   ],
   "source": [
    "l =  [[1, 2, 3], [1, 2, 3], [1, 2, 3], [1, 2, 3]] \n",
    "nums = 0\n",
    "\n",
    "for i in range(len(l)):\n",
    "    if  isinstance(l[i], list):\n",
    "        nums += 1\n",
    "print(nums)"
   ]
  },
  {
   "cell_type": "code",
   "execution_count": 22,
   "metadata": {},
   "outputs": [
    {
     "name": "stdout",
     "output_type": "stream",
     "text": [
      "6\n",
      "<class 'list'>\n",
      "<class 'list'>\n",
      "<class 'list'>\n",
      "<class 'list'>\n",
      "<class 'int'>\n",
      "<class 'int'>\n",
      "4\n"
     ]
    }
   ],
   "source": [
    "##ANS\n",
    "lst = [[1, 2, [3,'[9]']], [1, 2, 3], [1, 2, 3], [1, 2, 3], 1, 3]\n",
    "print(len(lst))\n",
    "count = 0\n",
    "for i in lst:\n",
    "  print(type(i))\n",
    "  if isinstance(i,list):      # isinstance(variable, variable type) --> TRUE / FALSE\n",
    "    count +=1\n",
    "print(count)"
   ]
  },
  {
   "cell_type": "markdown",
   "metadata": {
    "colab_type": "text",
    "id": "E-hp62GsQQbY"
   },
   "source": [
    "7. Return the indices of all occurrences of an item in the list.\n",
    "\n",
    "```\n",
    "eg.\n",
    "For the list [1, 5, 2, 7, 5], if we are trying to find all of the occurrences of 5, their indices are 1 and 4\n",
    "```"
   ]
  },
  {
   "cell_type": "code",
   "execution_count": null,
   "metadata": {},
   "outputs": [],
   "source": [
    "## correct"
   ]
  },
  {
   "cell_type": "code",
   "execution_count": 42,
   "metadata": {
    "colab": {},
    "colab_type": "code",
    "id": "_31PsPfJQQbZ"
   },
   "outputs": [
    {
     "name": "stdout",
     "output_type": "stream",
     "text": [
      "1\n",
      "4\n"
     ]
    }
   ],
   "source": [
    "list1 = [1, 5, 2, 7, 5]\n",
    "index= -1\n",
    "\n",
    "for i in list1:\n",
    "    index+=1\n",
    "    if i == 5:\n",
    "        print(index)"
   ]
  },
  {
   "cell_type": "code",
   "execution_count": null,
   "metadata": {},
   "outputs": [],
   "source": [
    "##ANS\n",
    "lst = [1, 5, 2, 7, 5]\n",
    "el = 5\n",
    "mylist = [ ]\n",
    "\n",
    "for i in range(len(lst)):\n",
    "    if lst[i] == el:\n",
    "        mylist.append(i)\n",
    "        \n",
    "print(mylist)\n",
    "\n",
    "#ANS - Method2\n",
    "[ i for i in range(len(lst)) id lst[i]== el]\n"
   ]
  },
  {
   "cell_type": "markdown",
   "metadata": {
    "colab_type": "text",
    "id": "pZyFoW3tQQbb"
   },
   "source": [
    "8. Take a dictionary and return the keys and values as separate lists.\n",
    "\n",
    "e.g. if `dict={\"a\": \"Apple\", \"b\": \"Microsoft\", \"c\": \"Google\"}`\n",
    "\n",
    "then output should be `[['a', 'b', 'c'], ['Apple', 'Microsoft', 'Google']]`\n",
    "\n",
    "\n"
   ]
  },
  {
   "cell_type": "code",
   "execution_count": null,
   "metadata": {},
   "outputs": [],
   "source": [
    "## correct"
   ]
  },
  {
   "cell_type": "code",
   "execution_count": 5,
   "metadata": {
    "colab": {},
    "colab_type": "code",
    "id": "X5NalJZfQQbb"
   },
   "outputs": [
    {
     "name": "stdout",
     "output_type": "stream",
     "text": [
      "['a', 'b', 'c'], ['Apple', 'Microsoft', 'Google']\n"
     ]
    }
   ],
   "source": [
    "dict={\"a\": \"Apple\", \"b\": \"Microsoft\", \"c\": \"Google\"}\n",
    "key_list = [ ]\n",
    "value_list = [ ]\n",
    "\n",
    "for i in dict:\n",
    "    key_list.append(i)\n",
    "    \n",
    "for j in dict.values( ):\n",
    "    value_list.append(j)\n",
    "\n",
    "print(f'{key_list}, {value_list}')\n",
    "\n"
   ]
  },
  {
   "cell_type": "code",
   "execution_count": 6,
   "metadata": {},
   "outputs": [
    {
     "name": "stdout",
     "output_type": "stream",
     "text": [
      "['a', 'b', 'c'] ['Apple', 'Microsoft', 'Google']\n"
     ]
    }
   ],
   "source": [
    "dict={\"a\": \"Apple\", \"b\": \"Microsoft\", \"c\": \"Google\"}\n",
    "key_list=list(dict.keys( ))\n",
    "value_list = list(dict.values( ))\n",
    "\n",
    "print(key_list, value_list)"
   ]
  },
  {
   "cell_type": "code",
   "execution_count": 5,
   "metadata": {},
   "outputs": [
    {
     "data": {
      "text/plain": [
       "[('a', 'b', 'c'), ('Apple', 'Microsoft', 'Google')]"
      ]
     },
     "execution_count": 5,
     "metadata": {},
     "output_type": "execute_result"
    }
   ],
   "source": [
    "##ANS\n",
    "d ={\"a\": \"Apple\", \"b\": \"Microsoft\", \"c\": \"Google\"}\n",
    "list(zip(*sorted(d.items( ))))     ## \" * \" means unpacking"
   ]
  },
  {
   "cell_type": "code",
   "execution_count": 6,
   "metadata": {},
   "outputs": [
    {
     "data": {
      "text/plain": [
       "dict_items([('a', 'Apple'), ('b', 'Microsoft'), ('c', 'Google')])"
      ]
     },
     "execution_count": 6,
     "metadata": {},
     "output_type": "execute_result"
    }
   ],
   "source": [
    "d.items( )"
   ]
  },
  {
   "cell_type": "code",
   "execution_count": 7,
   "metadata": {},
   "outputs": [
    {
     "data": {
      "text/plain": [
       "[('a', 'Apple'), ('b', 'Microsoft'), ('c', 'Google')]"
      ]
     },
     "execution_count": 7,
     "metadata": {},
     "output_type": "execute_result"
    }
   ],
   "source": [
    "sorted(d.items( ))"
   ]
  },
  {
   "cell_type": "code",
   "execution_count": 8,
   "metadata": {},
   "outputs": [
    {
     "data": {
      "text/plain": [
       "[('a', 'b', 'c'), ('Apple', 'Microsoft', 'Google')]"
      ]
     },
     "execution_count": 8,
     "metadata": {},
     "output_type": "execute_result"
    }
   ],
   "source": [
    "list(zip(*sorted(d.items( ))))"
   ]
  },
  {
   "cell_type": "code",
   "execution_count": 11,
   "metadata": {},
   "outputs": [
    {
     "data": {
      "text/plain": [
       "[(1, 4, 'a'), (2, 5, 'b'), (3, 6, 'c')]"
      ]
     },
     "execution_count": 11,
     "metadata": {},
     "output_type": "execute_result"
    }
   ],
   "source": [
    "### func :  zip( _ , _ )  -->can be more than 2\n",
    "l  = [1,2,3]\n",
    "m = [4,5,6]\n",
    "c = ['a','b','c']\n",
    "list(zip(l,m,c))"
   ]
  },
  {
   "cell_type": "markdown",
   "metadata": {
    "colab_type": "text",
    "id": "pZEKdEcWQQbd"
   },
   "source": [
    "9. Take an integer and output an n x n square solely consisting of the integer n.\n",
    "\n",
    "```\n",
    "eg.\n",
    "For n = 3,\n",
    "the output should be\n",
    "\n",
    "3, 3, 3\n",
    "3, 3, 3\n",
    "3, 3, 3\n",
    "```"
   ]
  },
  {
   "cell_type": "code",
   "execution_count": null,
   "metadata": {},
   "outputs": [],
   "source": [
    "## correct"
   ]
  },
  {
   "cell_type": "code",
   "execution_count": 36,
   "metadata": {
    "colab": {
     "base_uri": "https://localhost:8080/",
     "height": 357
    },
    "colab_type": "code",
    "executionInfo": {
     "elapsed": 746,
     "status": "ok",
     "timestamp": 1597825653556,
     "user": {
      "displayName": "KING CHAK HO",
      "photoUrl": "",
      "userId": "01684497642639073245"
     },
     "user_tz": -480
    },
    "id": "fVCbl_A5QQbe",
    "outputId": "ca0d11df-7fc9-4df7-d832-f377abba1c16"
   },
   "outputs": [
    {
     "name": "stdout",
     "output_type": "stream",
     "text": [
      "3,3,3,\n",
      "3,3,3,\n",
      "3,3,3,\n"
     ]
    }
   ],
   "source": [
    "n = 3\n",
    "\n",
    "for i in range(n):\n",
    "    for j in range(n):\n",
    "        print(n, end=\",\")\n",
    "    print( )\n"
   ]
  },
  {
   "cell_type": "code",
   "execution_count": null,
   "metadata": {},
   "outputs": [],
   "source": [
    "##ANS Method 2\n",
    "def n_square(n):\n",
    "    output = \"\"\n",
    "    for row in range(n):\n",
    "        for col in range(n):\n",
    "            output+=str(n)\n",
    "            if col < n-1:\n",
    "                output+=', '\n",
    "        output+='\\n'\n",
    "    return output\n",
    "print(n_square(3))"
   ]
  },
  {
   "cell_type": "code",
   "execution_count": null,
   "metadata": {},
   "outputs": [],
   "source": [
    "##ANS Method 3\n",
    "def function(num):\n",
    "    for i in range(num):\n",
    "        for j in range(num):\n",
    "            if (j < num -1):\n",
    "                print(num, end=\", \")\n",
    "            if (j == num-1):\n",
    "                print(num, end=\"\\n\")\n",
    "\n",
    "function(20)"
   ]
  },
  {
   "cell_type": "markdown",
   "metadata": {
    "colab_type": "text",
    "id": "rCEm2wyQQQbg"
   },
   "source": [
    "10. Given a phrase, return False if any individual word in the phrase contains duplicate letters. Return True otherwise."
   ]
  },
  {
   "cell_type": "code",
   "execution_count": 13,
   "metadata": {},
   "outputs": [
    {
     "data": {
      "text/plain": [
       "False"
      ]
     },
     "execution_count": 13,
     "metadata": {},
     "output_type": "execute_result"
    }
   ],
   "source": [
    "word = 'Apple'\n",
    "word_len = len(word)\n",
    "word_set =len(set(word))\n",
    "word_len == word_set\n"
   ]
  },
  {
   "cell_type": "code",
   "execution_count": 14,
   "metadata": {},
   "outputs": [
    {
     "data": {
      "text/plain": [
       "True"
      ]
     },
     "execution_count": 14,
     "metadata": {},
     "output_type": "execute_result"
    }
   ],
   "source": [
    "word = 'you'\n",
    "word_len = len(word)\n",
    "word_set =len(set(word))\n",
    "word_len == word_set\n",
    "\n"
   ]
  }
 ],
 "metadata": {
  "colab": {
   "collapsed_sections": [],
   "name": "PythonDataTypes-Exercise-2A.ipynb",
   "provenance": []
  },
  "kernelspec": {
   "display_name": "Python 3",
   "language": "python",
   "name": "python3"
  },
  "language_info": {
   "codemirror_mode": {
    "name": "ipython",
    "version": 3
   },
   "file_extension": ".py",
   "mimetype": "text/x-python",
   "name": "python",
   "nbconvert_exporter": "python",
   "pygments_lexer": "ipython3",
   "version": "3.8.5"
  }
 },
 "nbformat": 4,
 "nbformat_minor": 1
}
