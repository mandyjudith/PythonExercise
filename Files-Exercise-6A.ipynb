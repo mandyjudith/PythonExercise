{
 "cells": [
  {
   "cell_type": "code",
   "execution_count": null,
   "metadata": {
    "colab": {},
    "colab_type": "code",
    "id": "tDpKNXqMGabC"
   },
   "outputs": [],
   "source": [
    "# File IO Exercise 6A (Compulsory)\n",
    "\n",
    "For this exercise, please refer to the text files located in the data folder."
   ]
  },
  {
   "cell_type": "markdown",
   "metadata": {
    "colab_type": "text",
    "id": "XsitxLc0GabZ"
   },
   "source": [
    "1. Count the frequency of words in the text file \"Python-wiki.txt\".\n",
    "\n",
    "```\n",
    "NB. By default, the system will try to open text files with UTF-8 encoding, which only supports the ASCII character set and some common characters. But the text file Python-wiki contains characters that are not supported by UTF-8, so you will have to specify the encoding of the file in order to open it. (Hint: It's using the latin_1 encoding.)\n",
    "```"
   ]
  },
  {
   "cell_type": "code",
   "execution_count": 18,
   "metadata": {
    "colab": {},
    "colab_type": "code",
    "id": "KdA4t8Ws-LPr"
   },
   "outputs": [
    {
     "name": "stdout",
     "output_type": "stream",
     "text": [
      "Number of words in the file: 22\n"
     ]
    }
   ],
   "source": [
    "import os\n",
    "\n",
    "file = \"./data/Python-wiki.txt\"\n",
    "\n",
    "def w_count(file):\n",
    "    with open(file,encoding='latin_1'):\n",
    "        count = 0\n",
    "        for line in file:\n",
    "            words= line.split(\" \")\n",
    "            count += len(words)\n",
    "        print(f'Number of words in the file: {count}')\n",
    "        \n",
    "w_count(file)       \n",
    "    "
   ]
  },
  {
   "cell_type": "code",
   "execution_count": 1,
   "metadata": {},
   "outputs": [
    {
     "output_type": "stream",
     "name": "stdout",
     "text": [
      "3031\n"
     ]
    }
   ],
   "source": [
    "## FROM OTHER\n",
    "import os\n",
    "\n",
    "with open('./data/Python-wiki.txt','r', encoding='latin-1') as f:\n",
    "    hand = f.read()\n",
    "\n",
    "list0 = list()\n",
    "list1 = list()\n",
    "list0 = hand.split('\\n\\n')\n",
    "\n",
    "for line in list0:\n",
    "    hand = line.split()\n",
    "    for word in hand:\n",
    "        list1.append(word)\n",
    "\n",
    "print(len(list1))"
   ]
  },
  {
   "cell_type": "code",
   "execution_count": 8,
   "metadata": {
    "tags": [
     "outputPrepend"
    ]
   },
   "outputs": [
    {
     "output_type": "stream",
     "name": "stdout",
     "text": [
      "s: 2\n",
      "Frequency of blocks, is: 1\n",
      "Frequency of semicolons is: 1\n",
      "Frequency of after is: 2\n",
      "Frequency of statements is: 3\n",
      "Frequency of optional. is: 1\n",
      "Frequency of fewer is: 1\n",
      "Frequency of syntactic is: 2\n",
      "Frequency of exceptions is: 2\n",
      "Frequency of special is: 1\n",
      "Frequency of cases is: 1\n",
      "Frequency of Pascal.[60] is: 1\n",
      "Frequency of Indentation is: 2\n",
      "Frequency of § is: 1\n",
      "Frequency of whitespace is: 1\n",
      "Frequency of indentation, is: 1\n",
      "Frequency of rather is: 4\n",
      "Frequency of keywords, is: 1\n",
      "Frequency of blocks. is: 1\n",
      "Frequency of increase is: 1\n",
      "Frequency of indentation is: 2\n",
      "Frequency of comes is: 1\n",
      "Frequency of certain is: 1\n",
      "Frequency of statements; is: 1\n",
      "Frequency of decrease is: 1\n",
      "Frequency of signifies is: 1\n",
      "Frequency of end is: 2\n",
      "Frequency of current is: 2\n",
      "Frequency of block.[61] is: 1\n",
      "Frequency of Thus, is: 2\n",
      "Frequency of program's is: 2\n",
      "Frequency of visual is: 1\n",
      "Frequency of structure is: 1\n",
      "Frequency of accurately is: 1\n",
      "Frequency of represents is: 1\n",
      "Frequency of semantic is: 1\n",
      "Frequency of structure.[1] is: 1\n",
      "Frequency of feature is: 1\n",
      "Frequency of sometimes is: 1\n",
      "Frequency of termed is: 4\n",
      "Frequency of off-side is: 1\n",
      "Frequency of rule. is: 1\n",
      "Frequency of Statements is: 2\n",
      "Frequency of control is: 1\n",
      "Frequency of flow is: 1\n",
      "Frequency of (among is: 1\n",
      "Frequency of others): is: 1\n",
      "Frequency of assignment is: 4\n",
      "Frequency of statement is: 4\n",
      "Frequency of (token is: 1\n",
      "Frequency of '=', is: 1\n",
      "Frequency of equals is: 1\n",
      "Frequency of sign). is: 1\n",
      "Frequency of operates is: 1\n",
      "Frequency of differently is: 1\n",
      "Frequency of traditional is: 1\n",
      "Frequency of imperative is: 1\n",
      "Frequency of this is: 3\n",
      "Frequency of fundamental is: 1\n",
      "Frequency of mechanism is: 1\n",
      "Frequency of nature is: 2\n",
      "Frequency of variables) is: 1\n",
      "Frequency of illuminates is: 1\n",
      "Frequency of Assignment is: 1\n",
      "Frequency of e.g., is: 2\n",
      "Frequency of x is: 7\n",
      "Frequency of = is: 12\n",
      "Frequency of \"typed is: 1\n",
      "Frequency of receives is: 2\n",
      "Frequency of copy is: 2\n",
      "Frequency of numeric is: 3\n",
      "Frequency of value is: 5\n",
      "Frequency of 2\". is: 1\n",
      "Frequency of (right-hand) is: 1\n",
      "Frequency of copied is: 1\n",
      "Frequency of allocated is: 3\n",
      "Frequency of storage is: 3\n",
      "Frequency of location is: 2\n",
      "Frequency of (left-hand) is: 1\n",
      "Frequency of symbolic is: 2\n",
      "Frequency of address. is: 1\n",
      "Frequency of enough is: 1\n",
      "Frequency of (potentially is: 1\n",
      "Frequency of quite is: 1\n",
      "Frequency of large) is: 1\n",
      "Frequency of declared is: 1\n",
      "Frequency of type. is: 2\n",
      "Frequency of simplest is: 1\n",
      "Frequency of case is: 2\n",
      "Frequency of assignment, is: 1\n",
      "Frequency of using is: 4\n",
      "Frequency of same is: 2\n",
      "Frequency of example, is: 4\n",
      "Frequency of \"(generic) is: 1\n",
      "Frequency of separate, is: 1\n",
      "Frequency of object is: 7\n",
      "Frequency of (int) is: 1\n",
      "Frequency of type is: 7\n",
      "Frequency of 2.\" is: 1\n",
      "Frequency of binding is: 1\n",
      "Frequency of object. is: 1\n",
      "Frequency of Since is: 2\n",
      "Frequency of name's is: 1\n",
      "Frequency of doesn't is: 1\n",
      "Frequency of contain is: 2\n",
      "Frequency of indicated is: 1\n",
      "Frequency of value, is: 2\n",
      "Frequency of improper is: 1\n",
      "Frequency of call is: 2\n",
      "Frequency of variable. is: 1\n",
      "Frequency of Names is: 1\n",
      "Frequency of may is: 6\n",
      "Frequency of subsequently is: 1\n",
      "Frequency of rebound is: 1\n",
      "Frequency of any is: 1\n",
      "Frequency of time is: 2\n",
      "Frequency of objects is: 6\n",
      "Frequency of greatly is: 1\n",
      "Frequency of varying is: 1\n",
      "Frequency of types, is: 1\n",
      "Frequency of strings, is: 2\n",
      "Frequency of procedures, is: 1\n",
      "Frequency of data is: 2\n",
      "Frequency of methods, is: 1\n",
      "Frequency of etc. is: 1\n",
      "Frequency of Successive is: 1\n",
      "Frequency of assignments is: 1\n",
      "Frequency of names, is: 1\n",
      "Frequency of 2; is: 3\n",
      "Frequency of y is: 2\n",
      "Frequency of z is: 1\n",
      "Frequency of result is: 1\n",
      "Frequency of allocating is: 1\n",
      "Frequency of most) is: 1\n",
      "Frequency of three is: 4\n",
      "Frequency of object, is: 3\n",
      "Frequency of bound. is: 1\n",
      "Frequency of generic is: 1\n",
      "Frequency of holder is: 1\n",
      "Frequency of unreasonable is: 1\n",
      "Frequency of associate is: 1\n",
      "Frequency of fixed is: 1\n",
      "Frequency of it. is: 1\n",
      "Frequency of However is: 1\n",
      "Frequency of given is: 3\n",
      "Frequency of will is: 4\n",
      "Frequency of bound is: 1\n",
      "Frequency of type; is: 1\n",
      "Frequency of thus is: 2\n",
      "Frequency of there is: 1\n",
      "Frequency of typing. is: 1\n",
      "Frequency of if is: 5\n",
      "Frequency of statement, is: 12\n",
      "Frequency of conditionally is: 1\n",
      "Frequency of executes is: 3\n",
      "Frequency of block is: 8\n",
      "Frequency of code, is: 1\n",
      "Frequency of along is: 1\n",
      "Frequency of else is: 2\n",
      "Frequency of elif is: 1\n",
      "Frequency of (a is: 2\n",
      "Frequency of contraction is: 1\n",
      "Frequency of else-if). is: 1\n",
      "Frequency of iterates is: 1\n",
      "Frequency of over is: 1\n",
      "Frequency of iterable is: 2\n",
      "Frequency of capturing is: 1\n",
      "Frequency of each is: 3\n",
      "Frequency of element is: 2\n",
      "Frequency of local is: 2\n",
      "Frequency of attached is: 3\n",
      "Frequency of block. is: 2\n",
      "Frequency of long is: 2\n",
      "Frequency of condition is: 1\n",
      "Frequency of true. is: 1\n",
      "Frequency of try is: 1\n",
      "Frequency of allows is: 4\n",
      "Frequency of raised is: 1\n",
      "Frequency of caught is: 2\n",
      "Frequency of handled is: 1\n",
      "Frequency of except is: 1\n",
      "Frequency of clauses; is: 1\n",
      "Frequency of ensures is: 1\n",
      "Frequency of clean-up is: 1\n",
      "Frequency of finally is: 1\n",
      "Frequency of always is: 1\n",
      "Frequency of regardless is: 1\n",
      "Frequency of how is: 1\n",
      "Frequency of exits. is: 1\n",
      "Frequency of raise is: 2\n",
      "Frequency of used is: 12\n",
      "Frequency of specified is: 1\n",
      "Frequency of re-raise is: 1\n",
      "Frequency of exception. is: 1\n",
      "Frequency of class is: 3\n",
      "Frequency of attaches is: 1\n",
      "Frequency of namespace is: 1\n",
      "Frequency of class, is: 2\n",
      "Frequency of def is: 1\n",
      "Frequency of defines is: 1\n",
      "Frequency of function is: 4\n",
      "Frequency of method. is: 1\n",
      "Frequency of 2.5 is: 1\n",
      "Frequency of September is: 1\n",
      "Frequency of 2006,[62] is: 1\n",
      "Frequency of encloses is: 1\n",
      "Frequency of within is: 1\n",
      "Frequency of context is: 1\n",
      "Frequency of manager is: 1\n",
      "Frequency of (for is: 3\n",
      "Frequency of acquiring is: 1\n",
      "Frequency of lock is: 2\n",
      "Frequency of before is: 1\n",
      "Frequency of releasing is: 1\n",
      "Frequency of afterwards, is: 1\n",
      "Frequency of opening is: 1\n",
      "Frequency of file is: 1\n",
      "Frequency of closing is: 1\n",
      "Frequency of it), is: 1\n",
      "Frequency of allowing is: 2\n",
      "Frequency of Resource is: 1\n",
      "Frequency of Acquisition is: 1\n",
      "Frequency of Is is: 1\n",
      "Frequency of Initialization is: 1\n",
      "Frequency of (RAII)-like is: 1\n",
      "Frequency of behavior is: 2\n",
      "Frequency of replaces is: 1\n",
      "Frequency of try/finally is: 1\n",
      "Frequency of idiom.[63] is: 1\n",
      "Frequency of pass is: 2\n",
      "Frequency of serves is: 1\n",
      "Frequency of NOP. is: 1\n",
      "Frequency of syntactically is: 2\n",
      "Frequency of needed is: 1\n",
      "Frequency of create is: 1\n",
      "Frequency of empty is: 1\n",
      "Frequency of assert is: 1\n",
      "Frequency of debugging is: 1\n",
      "Frequency of check is: 1\n",
      "Frequency of conditions is: 1\n",
      "Frequency of ought is: 1\n",
      "Frequency of apply. is: 1\n",
      "Frequency of yield is: 2\n",
      "Frequency of returns is: 2\n",
      "Frequency of function. is: 1\n",
      "Frequency of From is: 3\n",
      "Frequency of 2.5, is: 4\n",
      "Frequency of operator. is: 1\n",
      "Frequency of form is: 2\n",
      "Frequency of coroutines. is: 1\n",
      "Frequency of import is: 5\n",
      "Frequency of whose is: 1\n",
      "Frequency of variables is: 1\n",
      "Frequency of program. is: 1\n",
      "Frequency of There is: 2\n",
      "Frequency of ways is: 1\n",
      "Frequency of import: is: 1\n",
      "Frequency of <module is: 3\n",
      "Frequency of name> is: 3\n",
      "Frequency of [as is: 3\n",
      "Frequency of <alias>] is: 1\n",
      "Frequency of * is: 1\n",
      "Frequency of <definition is: 2\n",
      "Frequency of 1> is: 1\n",
      "Frequency of <alias is: 2\n",
      "Frequency of 1>], is: 1\n",
      "Frequency of 2> is: 1\n",
      "Frequency of 2>], is: 1\n",
      "Frequency of .... is: 1\n",
      "Frequency of print is: 1\n",
      "Frequency of changed is: 1\n",
      "Frequency of print() is: 1\n",
      "Frequency of 3.[64] is: 1\n",
      "Frequency of tail is: 1\n",
      "Frequency of optimization is: 1\n",
      "Frequency of first-class is: 1\n",
      "Frequency of continuations, is: 1\n",
      "Frequency of and, is: 3\n",
      "Frequency of according is: 1\n",
      "Frequency of Rossum, is: 1\n",
      "Frequency of never is: 1\n",
      "Frequency of will.[65][66] is: 1\n",
      "Frequency of However, is: 1\n",
      "Frequency of coroutine-like is: 1\n",
      "Frequency of provided is: 4\n",
      "Frequency of extending is: 1\n",
      "Frequency of generators.[67] is: 1\n",
      "Frequency of Before is: 2\n",
      "Frequency of generators is: 1\n",
      "Frequency of lazy is: 1\n",
      "Frequency of iterators; is: 1\n",
      "Frequency of information is: 3\n",
      "Frequency of passed is: 2\n",
      "Frequency of unidirectionally is: 1\n",
      "Frequency of generator. is: 1\n",
      "Frequency of possible is: 1\n",
      "Frequency of back is: 2\n",
      "Frequency of function, is: 1\n",
      "Frequency of 3.3, is: 1\n",
      "Frequency of through is: 2\n",
      "Frequency of stack is: 1\n",
      "Frequency of levels.[68] is: 1\n",
      "Frequency of Expressions is: 1\n",
      "Frequency of Some is: 1\n",
      "Frequency of expressions is: 7\n",
      "Frequency of similar is: 1\n",
      "Frequency of Java, is: 3\n",
      "Frequency of not: is: 1\n",
      "Frequency of Addition, is: 1\n",
      "Frequency of subtraction, is: 1\n",
      "Frequency of multiplication is: 1\n",
      "Frequency of same, is: 2\n",
      "Frequency of division is: 2\n",
      "Frequency of differs. is: 1\n",
      "Frequency of types is: 3\n",
      "Frequency of divisions is: 1\n",
      "Frequency of Python. is: 2\n",
      "Frequency of They is: 2\n",
      "Frequency of floor is: 1\n",
      "Frequency of integer is: 1\n",
      "Frequency of division.[69] is: 1\n",
      "Frequency of added is: 2\n",
      "Frequency of ** is: 1\n",
      "Frequency of operator is: 8\n",
      "Frequency of exponentiation. is: 1\n",
      "Frequency of 3.5, is: 2\n",
      "Frequency of @ is: 1\n",
      "Frequency of infix is: 1\n",
      "Frequency of introduced. is: 1\n",
      "Frequency of intended is: 1\n",
      "Frequency of libraries is: 1\n",
      "Frequency of NumPy is: 1\n",
      "Frequency of matrix is: 1\n",
      "Frequency of multiplication.[70][71] is: 1\n",
      "Frequency of == is: 2\n",
      "Frequency of compares is: 2\n",
      "Frequency of versus is: 1\n",
      "Frequency of numerics is: 1\n",
      "Frequency of value[72] is: 1\n",
      "Frequency of reference.[73] is: 1\n",
      "Frequency of (Value is: 1\n",
      "Frequency of comparisons is: 2\n",
      "Frequency of Java is: 2\n",
      "Frequency of performed is: 1\n",
      "Frequency of equals() is: 1\n",
      "Frequency of method.) is: 1\n",
      "Frequency of compare is: 1\n",
      "Frequency of identities is: 1\n",
      "Frequency of (comparison is: 1\n",
      "Frequency of reference). is: 1\n",
      "Frequency of chained, is: 1\n",
      "Frequency of example is: 2\n",
      "Frequency of <= is: 2\n",
      "Frequency of b is: 1\n",
      "Frequency of c. is: 1\n",
      "Frequency of words is: 1\n",
      "Frequency of or, is: 1\n",
      "Frequency of boolean is: 1\n",
      "Frequency of operators is: 1\n",
      "Frequency of &&, is: 1\n",
      "Frequency of ||, is: 1\n",
      "Frequency of ! is: 1\n",
      "Frequency of C. is: 1\n",
      "Frequency of expression is: 4\n",
      "Frequency of comprehension. is: 1\n",
      "Frequency of 2.4 is: 1\n",
      "Frequency of general is: 1\n",
      "Frequency of expression.[50] is: 1\n",
      "Frequency of Anonymous is: 1\n",
      "Frequency of implemented is: 1\n",
      "Frequency of lambda is: 2\n",
      "Frequency of expressions; is: 1\n",
      "Frequency of however, is: 1\n",
      "Frequency of these is: 1\n",
      "Frequency of limited is: 1\n",
      "Frequency of expression. is: 1\n",
      "Frequency of Conditional is: 2\n",
      "Frequency of c is: 3\n",
      "Frequency of y[74] is: 1\n",
      "Frequency of (different is: 1\n",
      "Frequency of order is: 1\n",
      "Frequency of operands is: 1\n",
      "Frequency of ? is: 1\n",
      "Frequency of : is: 1\n",
      "Frequency of languages). is: 1\n",
      "Frequency of distinction is: 2\n",
      "Frequency of between is: 2\n",
      "Frequency of lists is: 1\n",
      "Frequency of tuples. is: 2\n",
      "Frequency of Lists is: 1\n",
      "Frequency of [1, is: 1\n",
      "Frequency of 3], is: 1\n",
      "Frequency of mutable, is: 1\n",
      "Frequency of cannot is: 4\n",
      "Frequency of keys is: 3\n",
      "Frequency of dictionaries is: 1\n",
      "Frequency of (dictionary is: 1\n",
      "Frequency of must is: 1\n",
      "Frequency of immutable is: 3\n",
      "Frequency of Python). is: 1\n",
      "Frequency of Tuples is: 1\n",
      "Frequency of (1, is: 3\n",
      "Frequency of 3), is: 2\n",
      "Frequency of elements is: 4\n",
      "Frequency of tuple is: 4\n",
      "Frequency of immutable. is: 1\n",
      "Frequency of + is: 3\n",
      "Frequency of concatenate is: 1\n",
      "Frequency of tuples, is: 1\n",
      "Frequency of directly is: 2\n",
      "Frequency of modify is: 1\n",
      "Frequency of contents, is: 1\n",
      "Frequency of produces is: 2\n",
      "Frequency of containing is: 1\n",
      "Frequency of both is: 3\n",
      "Frequency of t is: 4\n",
      "Frequency of equal is: 3\n",
      "Frequency of executing is: 1\n",
      "Frequency of (4, is: 2\n",
      "Frequency of 5) is: 1\n",
      "Frequency of evaluates is: 2\n",
      "Frequency of 5), is: 2\n",
      "Frequency of yields is: 1\n",
      "Frequency of 3, is: 1\n",
      "Frequency of 4, is: 1\n",
      "Frequency of assigned is: 2\n",
      "Frequency of t, is: 2\n",
      "Frequency of thereby is: 1\n",
      "Frequency of effectively is: 1\n",
      "Frequency of \"modifying is: 1\n",
      "Frequency of contents\" is: 1\n",
      "Frequency of conforming is: 1\n",
      "Frequency of objects. is: 1\n",
      "Frequency of Parentheses is: 1\n",
      "Frequency of optional is: 2\n",
      "Frequency of tuples is: 1\n",
      "Frequency of unambiguous is: 1\n",
      "Frequency of contexts.[75] is: 1\n",
      "Frequency of sequence is: 1\n",
      "Frequency of unpacking is: 1\n",
      "Frequency of expressions, is: 4\n",
      "Frequency of evaluating is: 1\n",
      "Frequency of anything is: 1\n",
      "Frequency of variable, is: 1\n",
      "Frequency of writable is: 2\n",
      "Frequency of property, is: 1\n",
      "Frequency of etc.), is: 1\n",
      "Frequency of associated is: 1\n",
      "Frequency of identical is: 1\n",
      "Frequency of manner is: 1\n",
      "Frequency of forming is: 1\n",
      "Frequency of literals is: 1\n",
      "Frequency of whole, is: 1\n",
      "Frequency of put is: 1\n",
      "Frequency of left is: 1\n",
      "Frequency of hand is: 2\n",
      "Frequency of side is: 2\n",
      "Frequency of sign is: 2\n",
      "Frequency of statement. is: 2\n",
      "Frequency of expects is: 1\n",
      "Frequency of right is: 1\n",
      "Frequency of number is: 2\n",
      "Frequency of values is: 2\n",
      "Frequency of iterated is: 1\n",
      "Frequency of through, is: 1\n",
      "Frequency of iterate is: 1\n",
      "Frequency of it, is: 1\n",
      "Frequency of assigning is: 1\n",
      "Frequency of produced is: 1\n",
      "Frequency of corresponding is: 1\n",
      "Frequency of left.[76] is: 1\n",
      "Frequency of \"string is: 1\n",
      "Frequency of format\" is: 1\n",
      "Frequency of %. is: 1\n",
      "Frequency of analogous is: 1\n",
      "Frequency of printf is: 1\n",
      "Frequency of format is: 1\n",
      "Frequency of strings is: 2\n",
      "Frequency of e.g. is: 2\n",
      "Frequency of \"spam=%s is: 1\n",
      "Frequency of eggs=%d\" is: 1\n",
      "Frequency of % is: 1\n",
      "Frequency of (\"blah\", is: 1\n",
      "Frequency of 2) is: 1\n",
      "Frequency of \"spam=blah is: 1\n",
      "Frequency of eggs=2\". is: 1\n",
      "Frequency of 2.6+, is: 1\n",
      "Frequency of supplemented is: 1\n",
      "Frequency of format() is: 1\n",
      "Frequency of str is: 1\n",
      "Frequency of \"spam={0} is: 1\n",
      "Frequency of eggs={1}\".format(\"blah\", is: 1\n",
      "Frequency of 2). is: 1\n",
      "Frequency of 3.6 is: 2\n",
      "Frequency of \"f-strings\": is: 1\n",
      "Frequency of blah is: 1\n",
      "Frequency of \"blah\"; is: 1\n",
      "Frequency of f'spam={blah} is: 1\n",
      "Frequency of eggs={eggs}'.[77] is: 1\n",
      "Frequency of various is: 1\n",
      "Frequency of kinds is: 4\n",
      "Frequency of string is: 5\n",
      "Frequency of literals: is: 1\n",
      "Frequency of Strings is: 1\n",
      "Frequency of delimited is: 1\n",
      "Frequency of single is: 3\n",
      "Frequency of double is: 3\n",
      "Frequency of quote is: 4\n",
      "Frequency of marks. is: 2\n",
      "Frequency of Unix is: 1\n",
      "Frequency of shells, is: 2\n",
      "Frequency of Perl is: 2\n",
      "Frequency of Perl-influenced is: 1\n",
      "Frequency of marks is: 2\n",
      "Frequency of identically. is: 1\n",
      "Frequency of Both is: 1\n",
      "Frequency of backslash is: 1\n",
      "Frequency of (\\) is: 1\n",
      "Frequency of escape is: 1\n",
      "Frequency of character. is: 1\n",
      "Frequency of String is: 1\n",
      "Frequency of interpolation is: 1\n",
      "Frequency of became is: 1\n",
      "Frequency of \"formatted is: 1\n",
      "Frequency of literals\".[77] is: 1\n",
      "Frequency of Triple-quoted is: 1\n",
      "Frequency of begin is: 1\n",
      "Frequency of series is: 1\n",
      "Frequency of span is: 1\n",
      "Frequency of lines is: 1\n",
      "Frequency of here is: 1\n",
      "Frequency of documents is: 1\n",
      "Frequency of Ruby. is: 2\n",
      "Frequency of Raw is: 1\n",
      "Frequency of varieties, is: 1\n",
      "Frequency of denoted is: 2\n",
      "Frequency of prefixing is: 1\n",
      "Frequency of literal is: 2\n",
      "Frequency of r. is: 1\n",
      "Frequency of Escape is: 1\n",
      "Frequency of sequences is: 1\n",
      "Frequency of interpreted; is: 1\n",
      "Frequency of hence is: 1\n",
      "Frequency of raw is: 1\n",
      "Frequency of useful is: 1\n",
      "Frequency of backslashes is: 1\n",
      "Frequency of common, is: 1\n",
      "Frequency of regular is: 1\n",
      "Frequency of Windows-style is: 1\n",
      "Frequency of paths. is: 1\n",
      "Frequency of Compare is: 1\n",
      "Frequency of \"@-quoting\" is: 1\n",
      "Frequency of C#. is: 1\n",
      "Frequency of array is: 2\n",
      "Frequency of index is: 2\n",
      "Frequency of slicing is: 1\n",
      "Frequency of lists, is: 1\n",
      "Frequency of a[key], is: 1\n",
      "Frequency of a[start:stop] is: 1\n",
      "Frequency of a[start:stop:step]. is: 1\n",
      "Frequency of Indexes is: 1\n",
      "Frequency of zero-based, is: 1\n",
      "Frequency of negative is: 1\n",
      "Frequency of indexes is: 2\n",
      "Frequency of relative is: 1\n",
      "Frequency of end. is: 1\n",
      "Frequency of Slices is: 1\n",
      "Frequency of take is: 1\n",
      "Frequency of start is: 1\n",
      "Frequency of up is: 1\n",
      "Frequency of to, is: 1\n",
      "Frequency of including, is: 1\n",
      "Frequency of stop is: 1\n",
      "Frequency of index. is: 1\n",
      "Frequency of third is: 1\n",
      "Frequency of slice is: 2\n",
      "Frequency of parameter, is: 1\n",
      "Frequency of step is: 1\n",
      "Frequency of stride, is: 1\n",
      "Frequency of skipped is: 1\n",
      "Frequency of reversed. is: 1\n",
      "Frequency of Slice is: 1\n",
      "Frequency of omitted, is: 1\n",
      "Frequency of a[:] is: 1\n",
      "Frequency of entire is: 1\n",
      "Frequency of list. is: 1\n",
      "Frequency of Each is: 1\n",
      "Frequency of shallow is: 1\n",
      "Frequency of copy. is: 1\n",
      "Frequency of rigidly is: 1\n",
      "Frequency of enforced, is: 1\n",
      "Frequency of Common is: 1\n",
      "Frequency of Lisp, is: 1\n",
      "Frequency of Scheme, is: 1\n",
      "Frequency of leads is: 1\n",
      "Frequency of duplicating is: 1\n",
      "Frequency of functionality. is: 1\n",
      "Frequency of example: is: 1\n",
      "Frequency of List is: 1\n",
      "Frequency of vs. is: 3\n",
      "Frequency of for-loops is: 1\n",
      "Frequency of blocks is: 1\n",
      "Frequency of eval() is: 1\n",
      "Frequency of exec() is: 1\n",
      "Frequency of built-in is: 1\n",
      "Frequency of (in is: 1\n",
      "Frequency of exec is: 1\n",
      "Frequency of statement); is: 1\n",
      "Frequency of former is: 1\n",
      "Frequency of latter is: 1\n",
      "Frequency of statements. is: 2\n",
      "Frequency of part is: 2\n",
      "Frequency of expression, is: 1\n",
      "Frequency of so is: 1\n",
      "Frequency of being is: 3\n",
      "Frequency of particular is: 1\n",
      "Frequency of 1 is: 1\n",
      "Frequency of conditional is: 2\n",
      "Frequency of advantage is: 1\n",
      "Frequency of avoiding is: 1\n",
      "Frequency of classic is: 1\n",
      "Frequency of error is: 2\n",
      "Frequency of mistaking is: 1\n",
      "Frequency of equality is: 1\n",
      "Frequency of conditions: is: 1\n",
      "Frequency of (c is: 1\n",
      "Frequency of 1) is: 1\n",
      "Frequency of { is: 1\n",
      "Frequency of ... is: 2\n",
      "Frequency of } is: 1\n",
      "Frequency of valid is: 1\n",
      "Frequency of (but is: 1\n",
      "Frequency of probably is: 1\n",
      "Frequency of unintended) is: 1\n",
      "Frequency of 1: is: 1\n",
      "Frequency of causes is: 1\n",
      "Frequency of Methods is: 2\n",
      "Frequency of object's is: 1\n",
      "Frequency of class; is: 1\n",
      "Frequency of instance.method(argument) is: 1\n",
      "Frequency of is, is: 1\n",
      "Frequency of normal is: 1\n",
      "Frequency of methods is: 2\n",
      "Frequency of functions, is: 1\n",
      "Frequency of sugar is: 1\n",
      "Frequency of Class.method(instance, is: 1\n",
      "Frequency of argument). is: 1\n",
      "Frequency of explicit is: 1\n",
      "Frequency of self is: 2\n",
      "Frequency of parameter is: 1\n",
      "Frequency of access is: 1\n",
      "Frequency of instance is: 2\n",
      "Frequency of data, is: 1\n",
      "Frequency of (or is: 1\n",
      "Frequency of this) is: 1\n",
      "Frequency of (e.g., is: 1\n",
      "Frequency of C++, is: 1\n",
      "Frequency of Objective-C, is: 1\n",
      "Frequency of Ruby).[78] is: 1\n",
      "Frequency of Typing is: 1\n",
      "Frequency of hierarchy is: 1\n",
      "Frequency of duck is: 1\n",
      "Frequency of typing is: 1\n",
      "Frequency of untyped is: 1\n",
      "Frequency of names. is: 1\n",
      "Frequency of Type is: 1\n",
      "Frequency of constraints is: 1\n",
      "Frequency of checked is: 2\n",
      "Frequency of compile is: 1\n",
      "Frequency of time; is: 1\n",
      "Frequency of rather, is: 1\n",
      "Frequency of operations is: 2\n",
      "Frequency of fail, is: 1\n",
      "Frequency of signifying is: 1\n",
      "Frequency of suitable is: 1\n",
      "Frequency of Despite is: 1\n",
      "Frequency of typed, is: 2\n",
      "Frequency of strongly is: 1\n",
      "Frequency of forbidding is: 1\n",
      "Frequency of well-defined is: 1\n",
      "Frequency of string) is: 1\n",
      "Frequency of silently is: 1\n",
      "Frequency of attempting is: 1\n",
      "Frequency of make is: 1\n",
      "Frequency of sense is: 1\n",
      "Frequency of them. is: 1\n",
      "Frequency of define is: 1\n",
      "Frequency of own is: 1\n",
      "Frequency of classes, is: 1\n",
      "Frequency of most is: 1\n",
      "Frequency of New is: 1\n",
      "Frequency of instances is: 3\n",
      "Frequency of classes is: 5\n",
      "Frequency of constructed is: 1\n",
      "Frequency of calling is: 1\n",
      "Frequency of SpamClass() is: 1\n",
      "Frequency of EggsClass()), is: 1\n",
      "Frequency of metaclass is: 1\n",
      "Frequency of itself), is: 1\n",
      "Frequency of metaprogramming is: 1\n",
      "Frequency of reflection. is: 1\n",
      "Frequency of had is: 1\n",
      "Frequency of classes: is: 1\n",
      "Frequency of old-style is: 1\n",
      "Frequency of new-style.[79] is: 1\n",
      "Frequency of styles is: 1\n",
      "Frequency of difference is: 1\n",
      "Frequency of whether is: 1\n",
      "Frequency of inherited is: 1\n",
      "Frequency of from, is: 1\n",
      "Frequency of indirectly is: 1\n",
      "Frequency of (all is: 1\n",
      "Frequency of new-style is: 1\n",
      "Frequency of inherit is: 1\n",
      "Frequency of type). is: 1\n",
      "Frequency of versions is: 1\n",
      "Frequency of 2.2 is: 1\n",
      "Frequency of onwards, is: 1\n",
      "Frequency of used. is: 1\n",
      "Frequency of Old-style is: 1\n",
      "Frequency of eliminated is: 1\n",
      "Frequency of 3.0. is: 1\n",
      "Frequency of term is: 1\n",
      "Frequency of plan is: 1\n",
      "Frequency of gradual is: 1\n",
      "Frequency of typing[80] is: 1\n",
      "Frequency of specifying is: 1\n",
      "Frequency of static is: 2\n",
      "Frequency of they is: 1\n",
      "Frequency of default is: 1\n",
      "Frequency of implementation, is: 1\n",
      "Frequency of CPython. is: 1\n",
      "Frequency of experimental is: 1\n",
      "Frequency of checker is: 1\n",
      "Frequency of named is: 1\n",
      "Frequency of mypy is: 1\n",
      "Frequency of compile-time is: 1\n",
      "Frequency of checking.[81] is: 1\n"
     ]
    }
   ],
   "source": [
    "## ANS\n",
    "def freq(word):\n",
    "    words = word.split()\n",
    "    words_2 = []\n",
    "    for i in words: \n",
    "        if i not in words_2:\n",
    "            words_2.append(i)\n",
    "    for i in range(0,len(words_2)):\n",
    "        print('Frequency of', words_2[i],'is:',words.count(words_2[i])) \n",
    "\n",
    "import os\n",
    "with open('./data/Python-wiki.txt','r', encoding='latin-1') as f:\n",
    "    word = f.read()\n",
    "freq(word)"
   ]
  },
  {
   "cell_type": "code",
   "execution_count": 4,
   "metadata": {},
   "outputs": [
    {
     "output_type": "stream",
     "name": "stdout",
     "text": [
      "3031\n"
     ]
    }
   ],
   "source": [
    "## ANS FROM OTHER\n",
    "f = open(\"./data/Python-wiki.txt\", encoding=\"latin_1\")\n",
    "text = f.read()\n",
    "word = text.split()  \n",
    "print(len(word))"
   ]
  },
  {
   "cell_type": "markdown",
   "metadata": {
    "colab_type": "text",
    "id": "1bRHqO4_Gabw"
   },
   "source": [
    "2. Read the first n lines of the file \"zen-of-python.txt\" and put the lines in a list.\n",
    "\n",
    "```\n",
    "e.g.\n",
    "input: 6\n",
    "ouput: ['Beautiful is better than ugly.\\n', 'Explicit is better than implicit.\\n', 'Simple is better than complex.\\n', 'Complex is better than complicated.\\n', 'Flat is better than nested.\\n', 'Sparse is better than dense.\\n']\n",
    "```\n",
    "\n"
   ]
  },
  {
   "cell_type": "code",
   "execution_count": 32,
   "metadata": {
    "colab": {},
    "colab_type": "code",
    "id": "q1Rd_nFuGab4",
    "outputId": "892fb3bb-0385-4519-9187-b7b1cee3743b"
   },
   "outputs": [
    {
     "name": "stdout",
     "output_type": "stream",
     "text": [
      "Enter n lines: 6\n",
      "['Beautiful is better than ugly.\\n', 'Explicit is better than implicit.\\n', 'Simple is better than complex.\\n', 'Complex is better than complicated.\\n', 'Flat is better than nested.\\n', 'Sparse is better than dense.\\n']\n"
     ]
    }
   ],
   "source": [
    "n =  int(input(\"Enter n lines: \"))  \n",
    "lst= [ ]\n",
    "with open(\"./data/zen-of-python.txt\",\"r\") as f:\n",
    "    for line in (f.readlines( ) [:n]):\n",
    "        lst.append(line)\n",
    "\n",
    "print(lst)\n",
    "            "
   ]
  },
  {
   "cell_type": "code",
   "execution_count": null,
   "metadata": {},
   "outputs": [],
   "source": [
    "##ANS FROM OTHER\n",
    "import os\n",
    "os.getcwd()\n",
    "with open ('./data/zen-of-python.txt','r') as f:\n",
    "    content = f.readlines()\n",
    "    x = int(input('Enter a num: '))\n",
    "    print (content[0:x])"
   ]
  },
  {
   "cell_type": "markdown",
   "metadata": {
    "colab_type": "text",
    "id": "JaogbuAOGacM"
   },
   "source": [
    "3. Remove newline characters from the file \"zen-of-python.txt\"."
   ]
  },
  {
   "cell_type": "code",
   "execution_count": 21,
   "metadata": {
    "colab": {},
    "colab_type": "code",
    "id": "8ycu4uFEnx1M"
   },
   "outputs": [
    {
     "name": "stdout",
     "output_type": "stream",
     "text": [
      "Beautiful is better than ugly.\n",
      "Explicit is better than implicit.\n",
      "Simple is better than complex.\n",
      "Complex is better than complicated.\n",
      "Flat is better than nested.\n",
      "Sparse is better than dense.\n",
      "Readability counts.\n",
      "Special cases aren't special enough to break the rules.\n",
      "Although practicality beats purity.\n",
      "Errors should never pass silently.\n",
      "Unless explicitly silenced.\n",
      "In the face of ambiguity, refuse the temptation to guess.\n",
      "There should be one-- and preferably only one --obvious way to do it.\n",
      "Although that way may not be obvious at first unless you're Dutch.\n",
      "Now is better than never.\n",
      "Although never is often better than *right* now.\n",
      "If the implementation is hard to explain, it's a bad idea.\n",
      "If the implementation is easy to explain, it may be a good idea.\n",
      "Namespaces are one honking great idea -- let's do more of those!\n"
     ]
    }
   ],
   "source": [
    "with open(\"./data/zen-of-python.txt\",\"r\") as f:\n",
    "    f_lines = f.readlines( )\n",
    "    for s in f_lines:\n",
    "        n= s.rstrip('\\n')\n",
    "        print(n)\n"
   ]
  },
  {
   "cell_type": "code",
   "execution_count": 12,
   "metadata": {},
   "outputs": [
    {
     "output_type": "stream",
     "name": "stdout",
     "text": [
      "Beautiful is better than ugly.Explicit is better than implicit.Simple is better than complex.Complex is better than complicated.Flat is better than nested.Sparse is better than dense.Readability counts.Special cases aren't special enough to break the rules.Although practicality beats purity.Errors should never pass silently.Unless explicitly silenced.In the face of ambiguity, refuse the temptation to guess.There should be one-- and preferably only one --obvious way to do it.Although that way may not be obvious at first unless you're Dutch.Now is better than never.Although never is often better than *right* now.If the implementation is hard to explain, it's a bad idea.If the implementation is easy to explain, it may be a good idea.Namespaces are one honking great idea -- let's do more of those!\n"
     ]
    }
   ],
   "source": [
    "##ANS FROM OTHER\n",
    "with open('./data/zen-of-python.txt', 'r') as f:\n",
    "    f_contents = f.read()\n",
    "    f_words = f_contents.split()  #split it word by word\n",
    "    #print(f_contents)\n",
    "    if f_words == \"\\n\":\n",
    "        i.replace(\"\\n\",\"\")\n",
    "    else:\n",
    "        pass\n",
    "    # print(f_contents)\n",
    "\n",
    "## IMPROVMENT\n",
    "\n",
    "with open('./data/zen-of-python.txt', 'r') as f:\n",
    "    f_contents = f.read()\n",
    "    f_contents= f_contents.replace('\\n','')\n",
    "    \n",
    "    print(f_contents)"
   ]
  },
  {
   "cell_type": "code",
   "execution_count": 10,
   "metadata": {},
   "outputs": [
    {
     "output_type": "execute_result",
     "data": {
      "text/plain": [
       "\"Beautiful is better than ugly. Explicit is better than implicit. Simple is better than complex. Complex is better than complicated. Flat is better than nested. Sparse is better than dense. Readability counts. Special cases aren't special enough to break the rules. Although practicality beats purity. Errors should never pass silently. Unless explicitly silenced. In the face of ambiguity, refuse the temptation to guess. There should be one-- and preferably only one --obvious way to do it. Although that way may not be obvious at first unless you're Dutch. Now is better than never. Although never is often better than *right* now. If the implementation is hard to explain, it's a bad idea. If the implementation is easy to explain, it may be a good idea. Namespaces are one honking great idea -- let's do more of those!\""
      ]
     },
     "metadata": {},
     "execution_count": 10
    }
   ],
   "source": [
    "##ANS FROM OTHER (BETTER)\n",
    "\n",
    "with open(\"./data/zen-of-python.txt\", 'r') as f:\n",
    "    lines = f.read()\n",
    "    lines = lines.replace('\\n', \" \")\n",
    "lines"
   ]
  },
  {
   "cell_type": "code",
   "execution_count": 13,
   "metadata": {},
   "outputs": [
    {
     "output_type": "stream",
     "name": "stdout",
     "text": [
      "['Beautiful is better than ugly.', 'Explicit is better than implicit.', 'Simple is better than complex.', 'Complex is better than complicated.', 'Flat is better than nested.', 'Sparse is better than dense.', 'Readability counts.', \"Special cases aren't special enough to break the rules.\", 'Although practicality beats purity.', 'Errors should never pass silently.', 'Unless explicitly silenced.', 'In the face of ambiguity, refuse the temptation to guess.', 'There should be one-- and preferably only one --obvious way to do it.', \"Although that way may not be obvious at first unless you're Dutch.\", 'Now is better than never.', 'Although never is often better than *right* now.', \"If the implementation is hard to explain, it's a bad idea.\", 'If the implementation is easy to explain, it may be a good idea.', \"Namespaces are one honking great idea -- let's do more of those!\"]\n"
     ]
    }
   ],
   "source": [
    "##ANS FROM OTHER\n",
    "\n",
    "with open(\"./data/zen-of-python.txt\") as f:\n",
    "    lines = f.readlines()\n",
    "\n",
    "strg = str([ i.rstrip('\\n') for i in lines ])\n",
    "\n",
    "print(strg)"
   ]
  },
  {
   "cell_type": "markdown",
   "metadata": {
    "colab_type": "text",
    "id": "sPe0uqCYntUm"
   },
   "source": [
    "4. Make a copy  of quick-fox.txt using python."
   ]
  },
  {
   "cell_type": "code",
   "execution_count": 49,
   "metadata": {
    "colab": {},
    "colab_type": "code",
    "id": "zZKHb0WGGacT"
   },
   "outputs": [],
   "source": [
    "with open(\"./data/quick-fox.txt\",\"r\") as f:\n",
    "    with open(\"./data/new_quick-fox.txt\",\"a\") as e:\n",
    "        for data in f:\n",
    "            e.write(data)\n",
    "        "
   ]
  },
  {
   "cell_type": "code",
   "execution_count": 14,
   "metadata": {},
   "outputs": [
    {
     "output_type": "execute_result",
     "data": {
      "text/plain": [
       "['.DS_Store',\n",
       " 'new_quick-fox.txt',\n",
       " 'new_zen-of-python.txt',\n",
       " 'Python-wiki.txt',\n",
       " 'quick-fox-copy.txt',\n",
       " 'quick-fox.txt',\n",
       " 'quick-fox_copy.txt',\n",
       " 'some-text.txt',\n",
       " 'zen-of-python.txt']"
      ]
     },
     "metadata": {},
     "execution_count": 14
    }
   ],
   "source": [
    "##ANS FROM OTHER\n",
    "\n",
    "import os\n",
    "import shutil\n",
    "\n",
    "source = './data/quick-fox.txt'\n",
    "destination = 'data/quick-fox_copy.txt'\n",
    "\n",
    "dest = shutil.copyfile(source, destination)\n",
    "\n",
    "os.listdir(\"data\")"
   ]
  },
  {
   "cell_type": "markdown",
   "metadata": {
    "colab_type": "text",
    "id": "tCn22nze9T0w"
   },
   "source": [
    "5. Create a new text file called 'some-text.txt' that has \"first sentence\" as its first line and \"second sentence\" as its second line."
   ]
  },
  {
   "cell_type": "code",
   "execution_count": 53,
   "metadata": {
    "colab": {},
    "colab_type": "code",
    "id": "8GcosRyI9T0x"
   },
   "outputs": [],
   "source": [
    "with open(\"./data/some-text.txt\",'w') as f:\n",
    "    f.write( \"first sentence\\n\")\n",
    "    f.write( \"second sentence\\n\")\n",
    "    "
   ]
  },
  {
   "cell_type": "markdown",
   "metadata": {
    "colab_type": "text",
    "id": "mxKW6TPK9T0y"
   },
   "source": [
    "6. Capitalize all the words in \"quick-fox.txt\"."
   ]
  },
  {
   "cell_type": "code",
   "execution_count": 12,
   "metadata": {
    "colab": {},
    "colab_type": "code",
    "id": "ppavlKxa9T0z"
   },
   "outputs": [
    {
     "name": "stdout",
     "output_type": "stream",
     "text": [
      "The Quick Brown Fox Jumps Over The Lazy Dog.\n",
      "['The', 'quick', 'brown', 'fox', 'jumps', 'over', 'the', 'lazy', 'dog.']\n"
     ]
    }
   ],
   "source": [
    "with open(\"./data/quick-fox.txt\",'r+') as f:\n",
    "#      cap_msg = \" \".join([word.capitalize( ) for word in f.split(\" \")])\n",
    "    for i in f.readlines():\n",
    "        cap_msg = \" \".join([word.capitalize( ) for word in i.split(\" \")])\n",
    "        print(cap_msg)\n",
    "        "
   ]
  },
  {
   "cell_type": "code",
   "execution_count": 16,
   "metadata": {},
   "outputs": [
    {
     "output_type": "stream",
     "name": "stdout",
     "text": [
      "THE QUICK BROWN FOX JUMPS OVER THE LAZY DOG.\n"
     ]
    }
   ],
   "source": [
    "##ANS FROM OTHER\n",
    "with open('./data/quick-fox.txt', 'r') as f:\n",
    "    words = f.read()\n",
    "    cap_words = words.upper()\n",
    "    print(cap_words)\n"
   ]
  },
  {
   "cell_type": "markdown",
   "metadata": {
    "colab_type": "text",
    "id": "jBWKHQm59T00"
   },
   "source": [
    "7. Remove all the vowels in the text file \"zen-of-python.txt\"."
   ]
  },
  {
   "cell_type": "code",
   "execution_count": 50,
   "metadata": {
    "colab": {},
    "colab_type": "code",
    "id": "X113cLRl9T01"
   },
   "outputs": [
    {
     "name": "stdout",
     "output_type": "stream",
     "text": [
      "['Beautiful is better than ugly.\\n', 'Explicit is better than implicit.\\n', 'Simple is better than complex.\\n', 'Complex is better than complicated.\\n', 'Flat is better than nested.\\n', 'Sparse is better than dense.\\n', 'Readability counts.\\n', \"Special cases aren't special enough to break the rules.\\n\", 'Although practicality beats purity.\\n', 'Errors should never pass silently.\\n', 'Unless explicitly silenced.\\n', 'In the face of ambiguity, refuse the temptation to guess.\\n', 'There should be one-- and preferably only one --obvious way to do it.\\n', \"Although that way may not be obvious at first unless you're Dutch.\\n\", 'Now is better than never.\\n', 'Although never is often better than *right* now.\\n', \"If the implementation is hard to explain, it's a bad idea.\\n\", 'If the implementation is easy to explain, it may be a good idea.\\n', \"Namespaces are one honking great idea -- let's do more of those!\"]\n"
     ]
    },
    {
     "data": {
      "text/plain": [
       "['Btfl s bttr thn gly.\\n',\n",
       " 'xplct s bttr thn mplct.\\n',\n",
       " 'Smpl s bttr thn cmplx.\\n',\n",
       " 'Cmplx s bttr thn cmplctd.\\n',\n",
       " 'Flt s bttr thn nstd.\\n',\n",
       " 'Sprs s bttr thn dns.\\n',\n",
       " 'Rdblty cnts.\\n',\n",
       " \"Spcl css rn't spcl ngh t brk th rls.\\n\",\n",
       " 'lthgh prctclty bts prty.\\n',\n",
       " 'rrrs shld nvr pss slntly.\\n',\n",
       " 'nlss xplctly slncd.\\n',\n",
       " 'n th fc f mbgty, rfs th tmpttn t gss.\\n',\n",
       " 'Thr shld b n-- nd prfrbly nly n --bvs wy t d t.\\n',\n",
       " \"lthgh tht wy my nt b bvs t frst nlss y'r Dtch.\\n\",\n",
       " 'Nw s bttr thn nvr.\\n',\n",
       " 'lthgh nvr s ftn bttr thn *rght* nw.\\n',\n",
       " \"f th mplmnttn s hrd t xpln, t's  bd d.\\n\",\n",
       " 'f th mplmnttn s sy t xpln, t my b  gd d.\\n',\n",
       " \"Nmspcs r n hnkng grt d -- lt's d mr f ths!\"]"
      ]
     },
     "execution_count": 50,
     "metadata": {},
     "output_type": "execute_result"
    }
   ],
   "source": [
    "vowel = ['a','e','i','o','u','A','E','I','O','U']\n",
    "\n",
    "with open ('./data/zen-of-python.txt','r+') as f:\n",
    "        ff=f.readlines()\n",
    "        print(ff)\n",
    "        ff_lst = [ ]\n",
    "        for i in ff:\n",
    "            for j in vowel:\n",
    "                i=i.replace(j,'')\n",
    "            ff_lst.append(i)\n",
    "            \n",
    "ff_lst"
   ]
  },
  {
   "cell_type": "code",
   "execution_count": 17,
   "metadata": {},
   "outputs": [
    {
     "output_type": "stream",
     "name": "stdout",
     "text": [
      "Btfl s bttr thn gly.\nxplct s bttr thn mplct.\nSmpl s bttr thn cmplx.\nCmplx s bttr thn cmplctd.\nFlt s bttr thn nstd.\nSprs s bttr thn dns.\nRdblty cnts.\nSpcl css rn't spcl ngh t brk th rls.\nlthgh prctclty bts prty.\nrrrs shld nvr pss slntly.\nnlss xplctly slncd.\nn th fc f mbgty, rfs th tmpttn t gss.\nThr shld b n-- nd prfrbly nly n --bvs wy t d t.\nlthgh tht wy my nt b bvs t frst nlss y'r Dtch.\nNw s bttr thn nvr.\nlthgh nvr s ftn bttr thn *rght* nw.\nf th mplmnttn s hrd t xpln, t's  bd d.\nf th mplmnttn s sy t xpln, t my b  gd d.\nNmspcs r n hnkng grt d -- lt's d mr f ths!\n"
     ]
    }
   ],
   "source": [
    "## ANS FROM OTHER\n",
    "\n",
    "with open(\"./data/zen-of-python.txt\", \"r\") as f:\n",
    "    text = f.read()\n",
    "\n",
    "low_vowels = [\"a\", \"e\", \"i\", \"o\", \"u\"]\n",
    "upp_vowels = []\n",
    "for i in low_vowels:  # transfer the lower vowel to upper vowel\n",
    "    i = i.capitalize()\n",
    "    upp_vowels.append(i)\n",
    "\n",
    "vowels = low_vowels + upp_vowels\n",
    "\n",
    "for i in text:\n",
    "    if i in vowels:\n",
    "        text = text.replace(i,\"\")\n",
    "\n",
    "print(text)"
   ]
  },
  {
   "cell_type": "code",
   "execution_count": 18,
   "metadata": {},
   "outputs": [
    {
     "output_type": "execute_result",
     "data": {
      "text/plain": [
       "\"Btfl s bttr thn gly.\\nxplct s bttr thn mplct.\\nSmpl s bttr thn cmplx.\\nCmplx s bttr thn cmplctd.\\nFlt s bttr thn nstd.\\nSprs s bttr thn dns.\\nRdblty cnts.\\nSpcl css rn't spcl ngh t brk th rls.\\nlthgh prctclty bts prty.\\nrrrs shld nvr pss slntly.\\nnlss xplctly slncd.\\nn th fc f mbgty, rfs th tmpttn t gss.\\nThr shld b n-- nd prfrbly nly n --bvs wy t d t.\\nlthgh tht wy my nt b bvs t frst nlss y'r Dtch.\\nNw s bttr thn nvr.\\nlthgh nvr s ftn bttr thn *rght* nw.\\nf th mplmnttn s hrd t xpln, t's  bd d.\\nf th mplmnttn s sy t xpln, t my b  gd d.\\nNmspcs r n hnkng grt d -- lt's d mr f ths!\""
      ]
     },
     "metadata": {},
     "execution_count": 18
    }
   ],
   "source": [
    "## ANS FROM OTHER\n",
    "\n",
    "with open(\"./data/zen-of-python.txt\", 'r') as f:\n",
    "    lines = f.read()\n",
    "    vowels = 'aeiouAEIOU'\n",
    "    for x in lines:\n",
    "        if x in vowels:\n",
    "            lines= lines.replace(x, \"\")\n",
    "lines"
   ]
  },
  {
   "cell_type": "markdown",
   "metadata": {
    "colab_type": "text",
    "id": "AUipIuBr9T04"
   },
   "source": [
    "8. Replace all fullstops with exclamation marks in the text file \"zen-of-python.txt\"."
   ]
  },
  {
   "cell_type": "code",
   "execution_count": 54,
   "metadata": {
    "colab": {},
    "colab_type": "code",
    "id": "N5Auh9us9T04"
   },
   "outputs": [
    {
     "data": {
      "text/plain": [
       "['Beautiful is better than ugly!\\n',\n",
       " 'Explicit is better than implicit!\\n',\n",
       " 'Simple is better than complex!\\n',\n",
       " 'Complex is better than complicated!\\n',\n",
       " 'Flat is better than nested!\\n',\n",
       " 'Sparse is better than dense!\\n',\n",
       " 'Readability counts!\\n',\n",
       " \"Special cases aren't special enough to break the rules!\\n\",\n",
       " 'Although practicality beats purity!\\n',\n",
       " 'Errors should never pass silently!\\n',\n",
       " 'Unless explicitly silenced!\\n',\n",
       " 'In the face of ambiguity, refuse the temptation to guess!\\n',\n",
       " 'There should be one-- and preferably only one --obvious way to do it!\\n',\n",
       " \"Although that way may not be obvious at first unless you're Dutch!\\n\",\n",
       " 'Now is better than never!\\n',\n",
       " 'Although never is often better than *right* now!\\n',\n",
       " \"If the implementation is hard to explain, it's a bad idea!\\n\",\n",
       " 'If the implementation is easy to explain, it may be a good idea!\\n']"
      ]
     },
     "execution_count": 54,
     "metadata": {},
     "output_type": "execute_result"
    }
   ],
   "source": [
    "with open ('./data/zen-of-python.txt','r+') as f:\n",
    "    f2=f.readlines()\n",
    "    f2_lst = [ ]\n",
    "    for i in ff:\n",
    "        for j in i:\n",
    "            if j =='.' :\n",
    "                i=i.replace(j,'!')\n",
    "                f2_lst.append(i)\n",
    "            \n",
    "f2_lst"
   ]
  },
  {
   "cell_type": "markdown",
   "metadata": {
    "colab_type": "text",
    "id": "yBHmtFfs9T05"
   },
   "source": [
    "9. Count the frequency of the word \"Python\" in the text file \"Python-wiki.txt\".\n",
    "\n",
    "\n",
    "```\n",
    "expected output: Frequency of Python is : 78\n",
    "```\n",
    "\n"
   ]
  },
  {
   "cell_type": "code",
   "execution_count": 121,
   "metadata": {
    "colab": {},
    "colab_type": "code",
    "id": "nwhS0sGC9T05"
   },
   "outputs": [
    {
     "name": "stdout",
     "output_type": "stream",
     "text": [
      "55\n"
     ]
    }
   ],
   "source": [
    "with open (\"./data/Python-wiki.txt\",encoding='latin_1') as f:\n",
    "    f4 = f.read( ).split(' ')\n",
    "    count = 0\n",
    "    for i in f4:\n",
    "        if  'Python' == i :\n",
    "            count+=1\n",
    "            \n",
    "print(count)"
   ]
  },
  {
   "cell_type": "code",
   "execution_count": 28,
   "metadata": {},
   "outputs": [
    {
     "output_type": "stream",
     "name": "stdout",
     "text": [
      "55\n"
     ]
    }
   ],
   "source": [
    "with open (\"./data/Python-wiki.txt\",encoding='latin_1') as f:\n",
    "    f4 = f.read( ).split(' ')\n",
    "    f4_dict = { }\n",
    "    for i in f4:\n",
    "        if i not  in f4_dict:\n",
    "            f4_dict[i] = 1\n",
    "        else:\n",
    "            f4_dict[i] += 1\n",
    "    print(f4_dict['Python'])\n",
    "       \n",
    "\n"
   ]
  },
  {
   "cell_type": "code",
   "execution_count": 26,
   "metadata": {},
   "outputs": [
    {
     "output_type": "stream",
     "name": "stdout",
     "text": [
      "78\n"
     ]
    }
   ],
   "source": [
    "#IMPROVMENT for my ans\n",
    "with open (\"./data/Python-wiki.txt\",encoding='latin_1') as f:\n",
    "    f4 = f.read( ).split()\n",
    "    f4_dict = { }\n",
    "    for i in f4:\n",
    "        if i not  in f4_dict:\n",
    "            f4_dict[i] = 1\n",
    "        else:\n",
    "            f4_dict[i] += 1\n",
    "    print(f4_dict['Python'])"
   ]
  },
  {
   "cell_type": "code",
   "execution_count": 21,
   "metadata": {},
   "outputs": [
    {
     "output_type": "stream",
     "name": "stdout",
     "text": [
      "Frequency of Python is : 104\n"
     ]
    }
   ],
   "source": [
    "##ANS FROM OTHER (OUTPUT: 104)\n",
    "with open('./data/Python-wiki.txt','r', encoding='latin-1') as f:\n",
    "    hand = f.read()\n",
    "    \n",
    "print(f\"Frequency of Python is : {hand.count('Python')}\")"
   ]
  },
  {
   "cell_type": "code",
   "execution_count": 20,
   "metadata": {},
   "outputs": [
    {
     "output_type": "stream",
     "name": "stdout",
     "text": [
      "Frequency of Python is :  78\n"
     ]
    }
   ],
   "source": [
    "##ANS FROM OTHER (OUTPUT: 78)\n",
    "c1=0\n",
    "\n",
    "f = open('./data/Python-wiki.txt','r',encoding='latin_1')\n",
    "pyt_wiki = f.read()\n",
    "f.close()\n",
    "\n",
    "type(pyt_wiki)\n",
    "\n",
    "l1=pyt_wiki.split()\n",
    "\n",
    "for i in l1:\n",
    "    if i == \"Python\":\n",
    "        c1+=1\n",
    "        \n",
    "print(\"Frequency of Python is : \", c1)\n"
   ]
  },
  {
   "cell_type": "markdown",
   "metadata": {
    "colab_type": "text",
    "id": "1qWdfu9n9T07"
   },
   "source": [
    "10. Count the frequency of each alphabet in the text file \"Python-wiki.txt\"."
   ]
  },
  {
   "cell_type": "code",
   "execution_count": 99,
   "metadata": {
    "colab": {},
    "colab_type": "code",
    "id": "9jDGXX369T07"
   },
   "outputs": [
    {
     "name": "stdout",
     "output_type": "stream",
     "text": [
      "{'a': 1274, 'b': 238, 'c': 608, 'd': 526, 'e': 1760, 'f': 302, 'g': 331, 'h': 566, 'i': 1091, 'j': 46, 'k': 71, 'l': 657, 'm': 475, 'n': 1207, 'o': 1164, 'p': 489, 'q': 18, 'r': 890, 's': 1093, 't': 1446, 'u': 395, 'v': 121, 'w': 145, 'x': 93, 'y': 331, 'z': 10}\n"
     ]
    }
   ],
   "source": [
    "with open (\"./data/Python-wiki.txt\",encoding='latin_1') as f:\n",
    "    f5 = f.read( ).lower( )\n",
    "    f5_dict = { }\n",
    "    for i in f5:\n",
    "        if i.isalpha( ):\n",
    "            if i not  in f5_dict:\n",
    "                f5_dict[i] = 1\n",
    "            else:\n",
    "                f5_dict[i] += 1\n",
    "    \n",
    "    f5_dict_sort=dict(sorted(f5_dict.items()))\n",
    "    print(f5_dict_sort)"
   ]
  },
  {
   "cell_type": "code",
   "execution_count": 49,
   "metadata": {},
   "outputs": [
    {
     "output_type": "execute_result",
     "data": {
      "text/plain": [
       "{'a': 1274,\n",
       " 'b': 238,\n",
       " 'c': 608,\n",
       " 'd': 526,\n",
       " 'e': 1760,\n",
       " 'f': 302,\n",
       " 'g': 331,\n",
       " 'h': 566,\n",
       " 'i': 1091,\n",
       " 'j': 46,\n",
       " 'k': 71,\n",
       " 'l': 657,\n",
       " 'm': 475,\n",
       " 'n': 1207,\n",
       " 'o': 1164,\n",
       " 'p': 489,\n",
       " 'q': 18,\n",
       " 'r': 890,\n",
       " 's': 1093,\n",
       " 't': 1446,\n",
       " 'u': 395,\n",
       " 'v': 121,\n",
       " 'w': 145,\n",
       " 'x': 93,\n",
       " 'y': 331,\n",
       " 'z': 10}"
      ]
     },
     "metadata": {},
     "execution_count": 49
    }
   ],
   "source": [
    "##ANS FROM OTHER\n",
    "f = open('./data/Python-wiki.txt','r',encoding='latin_1')\n",
    "pyt_wiki = f.read()\n",
    "f.close()\n",
    "\n",
    "d1={}\n",
    "\n",
    "for i in pyt_wiki:\n",
    "    if i.isalpha()==True:\n",
    "        if i.lower() not in d1:\n",
    "            d1[i.lower()]=1\n",
    "        else:\n",
    "            d1[i.lower()]+=1\n",
    "d1=dict(sorted(d1.items()))\n",
    "d1"
   ]
  },
  {
   "cell_type": "code",
   "execution_count": 42,
   "metadata": {},
   "outputs": [
    {
     "output_type": "execute_result",
     "data": {
      "text/plain": [
       "' '"
      ]
     },
     "metadata": {},
     "execution_count": 42
    }
   ],
   "source": []
  },
  {
   "cell_type": "code",
   "execution_count": null,
   "metadata": {},
   "outputs": [],
   "source": []
  }
 ],
 "metadata": {
  "colab": {
   "collapsed_sections": [],
   "name": "Files-Exercise-6A.ipynb",
   "provenance": []
  },
  "kernelspec": {
   "display_name": "Python 3",
   "language": "python",
   "name": "python3"
  },
  "language_info": {
   "codemirror_mode": {
    "name": "ipython",
    "version": 3
   },
   "file_extension": ".py",
   "mimetype": "text/x-python",
   "name": "python",
   "nbconvert_exporter": "python",
   "pygments_lexer": "ipython3",
   "version": "3.7.6-final"
  },
  "toc": {
   "base_numbering": 1,
   "nav_menu": {},
   "number_sections": true,
   "sideBar": true,
   "skip_h1_title": false,
   "title_cell": "Table of Contents",
   "title_sidebar": "Contents",
   "toc_cell": false,
   "toc_position": {},
   "toc_section_display": true,
   "toc_window_display": false
  },
  "varInspector": {
   "cols": {
    "lenName": 16,
    "lenType": 16,
    "lenVar": 40
   },
   "kernels_config": {
    "python": {
     "delete_cmd_postfix": "",
     "delete_cmd_prefix": "del ",
     "library": "var_list.py",
     "varRefreshCmd": "print(var_dic_list())"
    },
    "r": {
     "delete_cmd_postfix": ") ",
     "delete_cmd_prefix": "rm(",
     "library": "var_list.r",
     "varRefreshCmd": "cat(var_dic_list()) "
    }
   },
   "types_to_exclude": [
    "module",
    "function",
    "builtin_function_or_method",
    "instance",
    "_Feature"
   ],
   "window_display": false
  }
 },
 "nbformat": 4,
 "nbformat_minor": 1
}