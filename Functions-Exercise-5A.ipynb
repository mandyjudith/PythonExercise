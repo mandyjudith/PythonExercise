{
 "cells": [
  {
   "cell_type": "markdown",
   "metadata": {},
   "source": [
    "# Functions Exercise 5A (Compulsory)"
   ]
  },
  {
   "cell_type": "markdown",
   "metadata": {},
   "source": [
    "1. Write a function that takes a positive integer as input and returns a list of squared numbers from 1 to the inputted positive integer."
   ]
  },
  {
   "cell_type": "code",
   "execution_count": 4,
   "metadata": {},
   "outputs": [
    {
     "name": "stdout",
     "output_type": "stream",
     "text": [
      "Enter a positive integer: 3\n",
      "1 squared is 1\n",
      "2 squared is 4\n",
      "3 squared is 9\n"
     ]
    }
   ],
   "source": [
    "def square( ):\n",
    "    num = int(input(\"Enter a positive integer: \"))\n",
    "    lst = list(range(1,num+1))\n",
    "    \n",
    "    for i in lst:\n",
    "        ans = i*i\n",
    "        print(f'{i} squared is {ans}')\n",
    "              \n",
    "x= square( ) \n",
    "              \n"
   ]
  },
  {
   "cell_type": "markdown",
   "metadata": {},
   "source": [
    "2. Create a palindrome function to check if a string is a palindrome. A palindrome is a string that is the same forwards and backwards such as radar, kayak, and racecar."
   ]
  },
  {
   "cell_type": "code",
   "execution_count": 6,
   "metadata": {},
   "outputs": [
    {
     "name": "stdout",
     "output_type": "stream",
     "text": [
      "Enter a word to check if it is a palindrome: kayak\n",
      "TRUE\n"
     ]
    }
   ],
   "source": [
    "def palindrime(s):\n",
    "    return s== s[::-1]\n",
    "\n",
    "s = input('Enter a word to check if it is a palindrome: ')\n",
    "ans = palindrime(s)\n",
    "\n",
    "if palindrime(s):\n",
    "    print('TRUE')\n",
    "else:\n",
    "    print(\"FALSE\")"
   ]
  },
  {
   "cell_type": "markdown",
   "metadata": {},
   "source": [
    "3. Write a function where a user can choose Celsius to Fahrenheit or Fahrenheit to Celsius and converts a float or integer according to the choice. For reference, here are the formulae for each choice:\n",
    " \n",
    "    Given 𝑥 is the value to convert. \n",
    " - Celsius to Fahrenheit: (𝑥°C × 9/5) + 32\n",
    " - Fahrenheit to Celsius: (𝑥°F − 32) × 5/9"
   ]
  },
  {
   "cell_type": "code",
   "execution_count": 13,
   "metadata": {},
   "outputs": [
    {
     "name": "stdout",
     "output_type": "stream",
     "text": [
      "Input the temperature you like to convert ? (e.g. 36C, 102F etc): 36C\n",
      " The temperature in Fehrenheit is 96 degree. \n"
     ]
    }
   ],
   "source": [
    "def convert(x):\n",
    "    degree = int(x[:-1])\n",
    "\n",
    "    if x[-1] == 'F':\n",
    "        x_cel = int((degree - 32)*(5/9)) \n",
    "        print(f' The temperature in Celslus is {x_cel} degree. ')\n",
    "    \n",
    "    elif x[-1] == 'C':\n",
    "        x_fah =int((degree)*(9/5)+32)\n",
    "        print(f' The temperature in Fehrenheit is {x_fah} degree. ')\n",
    "\n",
    "    else:\n",
    "        print(\"Wrong Input!!! Please re-enter the temperature you would like to convert? \")\n",
    "    \n",
    "x = input('Input the temperature you like to convert ? (e.g. 36C, 102F etc): ')\n",
    "convert(x)"
   ]
  },
  {
   "cell_type": "markdown",
   "metadata": {},
   "source": [
    "4.  Write a function that takes a string as input to remove all duplicate words, then sort in alphabetical order."
   ]
  },
  {
   "cell_type": "code",
   "execution_count": 5,
   "metadata": {},
   "outputs": [
    {
     "name": "stdout",
     "output_type": "stream",
     "text": [
      "Enter String:hi i am mandy\n",
      "['am', 'hi', 'i', 'mandy']\n"
     ]
    }
   ],
   "source": [
    "def alp_sort(str):\n",
    "    str_lst =  str.split( )\n",
    "    str_set = sorted(set(str_lst))\n",
    "    print(str_set)\n",
    "    \n",
    "str = input(\"Enter String:\")\n",
    "alp_sort(str)\n",
    "    "
   ]
  },
  {
   "cell_type": "code",
   "execution_count": 8,
   "metadata": {},
   "outputs": [
    {
     "name": "stdout",
     "output_type": "stream",
     "text": [
      "['a', 'another', 'fox', 'jumped', 'over']\n"
     ]
    }
   ],
   "source": [
    "def clean_text(text):\n",
    "    print(sorted(set(text.split())))\n",
    "    \n",
    "text = 'a fox jumped over another fox'\n",
    "clean_text(text)"
   ]
  },
  {
   "cell_type": "markdown",
   "metadata": {},
   "source": [
    "5. Given a lower limit and upper limit as integers, create a function that generates random integers with the given range."
   ]
  },
  {
   "cell_type": "code",
   "execution_count": 2,
   "metadata": {},
   "outputs": [
    {
     "name": "stdout",
     "output_type": "stream",
     "text": [
      "Enter lower limit: 1\n",
      "Enter upper limit: 100\n",
      "[20, 20, 92, 31, 9, 86, 1, 39, 23, 30]\n"
     ]
    }
   ],
   "source": [
    "import random\n",
    "\n",
    "def rand(start, end ,num):\n",
    "    res = [ ]\n",
    "    \n",
    "    for i in range(num):\n",
    "        res.append(random.randint(start,end))\n",
    "    return res\n",
    "\n",
    "start = int(input('Enter lower limit: '))\n",
    "end = int(input('Enter upper limit: '))\n",
    "num = 10\n",
    "\n",
    "print(rand(start,end,num))"
   ]
  },
  {
   "cell_type": "markdown",
   "metadata": {},
   "source": [
    "6. Create a function that takes a string of lowercase characters and returns that string reversed and in upper case."
   ]
  },
  {
   "cell_type": "code",
   "execution_count": 6,
   "metadata": {},
   "outputs": [
    {
     "name": "stdout",
     "output_type": "stream",
     "text": [
      "Input in lower case: hello\n",
      "OLLEH \n"
     ]
    }
   ],
   "source": [
    "def reverse(string):\n",
    "    reversed_string = \" \"\n",
    "    for i in string:\n",
    "        reversed_string = i +reversed_string\n",
    "    print(reversed_string)\n",
    "    \n",
    "enter = input('Input in lower case: ')\n",
    "string = enter.upper( )\n",
    "reverse(string) \n"
   ]
  },
  {
   "cell_type": "markdown",
   "metadata": {},
   "source": [
    "7. Write a function that takes a string, breaks it up and returns it with vowels first, consonants second. For any character that's not a vowel (like special characters or spaces), treat them like consonants."
   ]
  },
  {
   "cell_type": "code",
   "execution_count": 4,
   "metadata": {},
   "outputs": [
    {
     "name": "stdout",
     "output_type": "stream",
     "text": [
      "aAeIeoUfkvdf\n"
     ]
    }
   ],
   "source": [
    "def vowel_func(v):\n",
    "    list1 = list(v)\n",
    "    vowel = ['a','e','i','o','u','A','E','I','O','U']\n",
    "    vowel_list = \"\"\n",
    "    consonant_list =\"\"\n",
    "    \n",
    "\n",
    "    for i in list1:\n",
    "        if i in vowel:\n",
    "            vowel_list +=i\n",
    "        else:\n",
    "            consonant_list+= i\n",
    "    print(str(vowel_list)+str(consonant_list))\n",
    "\n",
    "str1 = 'aAefkvdfIeoU'\n",
    "vowel_func(str1)\n",
    "        "
   ]
  },
  {
   "cell_type": "markdown",
   "metadata": {},
   "source": [
    "8. You will be implementing a basic case of the map-reduce pattern in programming. Given a vector stored as a list of integers, find the magnitude of the vector. Use the standard distance formula for n-dimensional Cartesian coordinates. sqrt(x1**2 + x2**2....)\n",
    "\n",
    "Examples\n",
    "\n",
    "magnitude([3, 4]) ➞ 5\n",
    "\n",
    "magnitude([0, 0, -10]) ➞ 10\n",
    "\n",
    "magnitude([]) ➞ 0\n",
    "\n",
    "magnitude([2, 3, 6, 1, 8] ) ➞ 10.677078252031311"
   ]
  },
  {
   "cell_type": "code",
   "execution_count": 6,
   "metadata": {},
   "outputs": [
    {
     "name": "stdout",
     "output_type": "stream",
     "text": [
      "magnitude ([3, 4]) --> 5.0\n",
      "magnitude ([0, 0, -10]) --> 10.0\n",
      "magnitude ([]) --> 0.0\n",
      "magnitude ([2, 3, 6, 1, 8]) --> 10.677078252031311\n"
     ]
    }
   ],
   "source": [
    "def mag(l):\n",
    "    import numpy\n",
    "    x = numpy.array(l)\n",
    "    print(f'magnitude ({l}) --> {numpy.linalg.norm(x)}')\n",
    "    \n",
    "mag([3,4])\n",
    "mag([0, 0, -10])\n",
    "mag([]) \n",
    "mag([2, 3, 6, 1, 8] )"
   ]
  },
  {
   "cell_type": "code",
   "execution_count": 9,
   "metadata": {},
   "outputs": [
    {
     "name": "stdout",
     "output_type": "stream",
     "text": [
      "5.0\n",
      "10.0\n"
     ]
    }
   ],
   "source": [
    "##ANS\n",
    "def magnitude(l):\n",
    "    total = 0\n",
    "    for item in l:\n",
    "        total += item**2\n",
    "    return(total**0.5)\n",
    "\n",
    "\n",
    "print(magnitude([3, 4]))\n",
    "print(magnitude([0, 0, -10]))"
   ]
  },
  {
   "cell_type": "code",
   "execution_count": 11,
   "metadata": {},
   "outputs": [
    {
     "name": "stdout",
     "output_type": "stream",
     "text": [
      "5.0\n",
      "10.0\n"
     ]
    }
   ],
   "source": [
    "#ANS\n",
    "import math\n",
    "def magnitude(l):\n",
    "    total = 0\n",
    "    for item in l:\n",
    "        total += item**2\n",
    "    return(math.sqrt(total))\n",
    "print(magnitude([3, 4]))\n",
    "print(magnitude([0, 0, -10]))"
   ]
  },
  {
   "cell_type": "markdown",
   "metadata": {},
   "source": [
    "9. Create a function that takes a string as an argument and returns a coded version of the string. In order to work properly, the function should replace all 'a's with 4, 'e's with 3, 'i's with 1, 'o's with 0, and 's's with 5."
   ]
  },
  {
   "cell_type": "code",
   "execution_count": 7,
   "metadata": {},
   "outputs": [
    {
     "name": "stdout",
     "output_type": "stream",
     "text": [
      "Entre a string: aeihhos\n",
      " 431hh05\n"
     ]
    }
   ],
   "source": [
    "def replace(s):\n",
    "    convert = \" \"\n",
    "    for i in s :\n",
    "        if i ==\"a\":\n",
    "            convert += \"4\"\n",
    "        elif i == \"e\":\n",
    "            convert+= \"3\"\n",
    "        elif i == \"i\":\n",
    "            convert+= \"1\"\n",
    "        elif i == \"o\":\n",
    "            convert+= \"0\"\n",
    "        elif i == \"s\":\n",
    "            convert+= \"5\"\n",
    "        else:\n",
    "            convert+= i\n",
    "    print(convert)\n",
    "    \n",
    "string = input(\"Entre a string: \")\n",
    "replace(string)"
   ]
  },
  {
   "cell_type": "markdown",
   "metadata": {},
   "source": [
    "10. A repdigit is a positive number composed out of the same digit.\n",
    "\n",
    "Create a function that takes an integer and returns whether it's a repdigit or not."
   ]
  },
  {
   "cell_type": "code",
   "execution_count": 12,
   "metadata": {},
   "outputs": [
    {
     "name": "stdout",
     "output_type": "stream",
     "text": [
      "Enter the positive number to check whether it's a repdigit or not: 777\n",
      " It's a repdigit\n"
     ]
    }
   ],
   "source": [
    "def repdigit(num):\n",
    "    n = len(set(list(str(num))))\n",
    "    if n ==1:\n",
    "        print(\" It's a repdigit\")\n",
    "    else:\n",
    "        print(\" It's NOT a repdigit\")\n",
    "\n",
    "n = input(\"Enter the positive number to check whether it's a repdigit or not: \")\n",
    "repdigit(n)"
   ]
  }
 ],
 "metadata": {
  "kernelspec": {
   "display_name": "Python 3",
   "language": "python",
   "name": "python3"
  },
  "language_info": {
   "codemirror_mode": {
    "name": "ipython",
    "version": 3
   },
   "file_extension": ".py",
   "mimetype": "text/x-python",
   "name": "python",
   "nbconvert_exporter": "python",
   "pygments_lexer": "ipython3",
   "version": "3.8.5"
  },
  "toc": {
   "base_numbering": 1,
   "nav_menu": {},
   "number_sections": true,
   "sideBar": true,
   "skip_h1_title": false,
   "title_cell": "Table of Contents",
   "title_sidebar": "Contents",
   "toc_cell": false,
   "toc_position": {},
   "toc_section_display": true,
   "toc_window_display": false
  },
  "varInspector": {
   "cols": {
    "lenName": 16,
    "lenType": 16,
    "lenVar": 40
   },
   "kernels_config": {
    "python": {
     "delete_cmd_postfix": "",
     "delete_cmd_prefix": "del ",
     "library": "var_list.py",
     "varRefreshCmd": "print(var_dic_list())"
    },
    "r": {
     "delete_cmd_postfix": ") ",
     "delete_cmd_prefix": "rm(",
     "library": "var_list.r",
     "varRefreshCmd": "cat(var_dic_list()) "
    }
   },
   "types_to_exclude": [
    "module",
    "function",
    "builtin_function_or_method",
    "instance",
    "_Feature"
   ],
   "window_display": false
  }
 },
 "nbformat": 4,
 "nbformat_minor": 2
}
