{
 "cells": [
  {
   "cell_type": "markdown",
   "metadata": {
    "colab_type": "text",
    "id": "9NgbqTUtFbCS"
   },
   "source": [
    "# Classes"
   ]
  },
  {
   "cell_type": "markdown",
   "metadata": {
    "colab_type": "text",
    "id": "0IfRRDUvFbCU"
   },
   "source": [
    "** 1.) ** Imagine that you want to develop a game and in that game you'll have monsters. Create a class called ‘Monster' and:\n",
    "\n",
    "* Initialize the Monster’s health as 100 and give the monster a name.\n",
    "* Give that monster a method called wounded, that takes one parameter. The parameter reduces the monsters health. \n",
    "* Create a function `strike` that returns a random number between 5-20, which is the damamge to be delt.\n",
    "* Use `strike` and the monsters wounded method to damge the monster until it's health is bellow 0.\n",
    "* When health is 0 print(‘monster dead’)\n"
   ]
  },
  {
   "cell_type": "markdown",
   "metadata": {
    "colab_type": "text",
    "id": "P15EXcS9FbCV"
   },
   "source": [
    "\n",
    "*Hint* :The Monster class should roughly look like this:\n",
    "\n",
    "\n",
    "```python\n",
    "\n",
    "class Monster:\n",
    "    \n",
    "    def __init__(self,name,health=100):\n",
    "        #initialize your stuff here\n",
    "\n",
    "\n",
    "    def wound(self,damage):\n",
    "        #Here is where you can damage the monster\n",
    "\n",
    "```\n",
    "\n",
    "You can create a random int using the random library.\n",
    "\n",
    "```python\n",
    "random.randint(start,stop)\n",
    "```\n",
    "\n"
   ]
  },
  {
   "cell_type": "code",
   "execution_count": 0,
   "metadata": {
    "colab": {},
    "colab_type": "code",
    "id": "uYV0qb4fFbCW",
    "outputId": "14884ec8-9a87-416e-821d-921a01ab524b"
   },
   "outputs": [
    {
     "name": "stdout",
     "output_type": "stream",
     "text": [
      "Bob health is 100\n",
      "Bob health is 81\n",
      "Bob health is 66\n",
      "Bob health is 45\n",
      "Bob health is 26\n",
      "Bob health is 17\n",
      "Bob health is 3\n",
      "Bob is dead\n"
     ]
    }
   ],
   "source": [
    "# %load solutions/one.py\n"
   ]
  },
  {
   "cell_type": "code",
   "execution_count": 6,
   "metadata": {},
   "outputs": [
    {
     "output_type": "stream",
     "name": "stdout",
     "text": [
      "Mike health is 82\nMike health is 73\nMike health is 58\nMike health is 45\nMike health is 30\nMike health is 15\nMike health is 4\nMike health is -3\nMike is dead!!\n"
     ]
    }
   ],
   "source": [
    "import random \n",
    "\n",
    "class Monster:\n",
    "\n",
    "    def __init__(self,name,health=100):\n",
    "        self.name = name\n",
    "        self.health = health\n",
    "\n",
    "\n",
    "    def wound(self,damage):\n",
    "        self.damage = self.strike()\n",
    "        self.health -= self.damage\n",
    "        print(f\"{self.name} health is {self.health}\")\n",
    "        if self.health <= 0:\n",
    "            print(f'{self.name} is dead!!')\n",
    "        \n",
    "        \n",
    "    def strike(self):\n",
    "        return random.randint(5,20)\n",
    "  \n",
    "m = Monster('Mike')\n",
    "\n",
    "while m.health>0:\n",
    "    m.wound(15)\n",
    "\n",
    "\n"
   ]
  },
  {
   "cell_type": "markdown",
   "metadata": {
    "colab_type": "text",
    "id": "G2XB52nlFbCd"
   },
   "source": [
    "** 2.) ** Create a class to represent a person, they should have a name and an age. The person should have a `info` method which should return a string with his information, something like the bellow.\n",
    "\n",
    "```python\n",
    "\n",
    "person = Person(\"Tom\",44)\n",
    "person.info()\n",
    "\n",
    "'The person is called Tom an is 44 years old'\n",
    "```"
   ]
  },
  {
   "cell_type": "code",
   "execution_count": 2,
   "metadata": {
    "colab": {},
    "colab_type": "code",
    "id": "qmfEVkvMFbCd"
   },
   "outputs": [
    {
     "output_type": "stream",
     "name": "stdout",
     "text": [
      "The person is called Tom is 44 years old. \n"
     ]
    }
   ],
   "source": [
    "# %load solutions/two.py\n",
    "class person:\n",
    "\n",
    "    def __init__(self,name, age):\n",
    "        self.name = name\n",
    "        self.age = age\n",
    "        \n",
    "\n",
    "    def info(self):\n",
    "        print(f'The person is called {self.name} is {self.age} years old. ')\n",
    "\n",
    "ppl = person('Tom',44)\n",
    "ppl.info()"
   ]
  },
  {
   "cell_type": "markdown",
   "metadata": {
    "colab_type": "text",
    "id": "2HUGH7gsFbCg"
   },
   "source": [
    "\n",
    "** 3.) ** Continuing on from 2, create a class called Student which has the property gpa. Your student class should inherit from the `Person`, * hint * your need to use `super`.  Overwrite the info method so that .info() method returns the following string instead.  \n",
    "\n",
    "```python\n",
    "student = Student(\"Tom\",22,4.0)\n",
    "student.info()\n",
    "\n",
    "'The student is called Tom and is 22 years old. He has a overall GPA of 4.0 at uni.'\n",
    "\n",
    "```"
   ]
  },
  {
   "cell_type": "code",
   "execution_count": 9,
   "metadata": {
    "colab": {},
    "colab_type": "code",
    "id": "u_nbm7E5FbCh"
   },
   "outputs": [
    {
     "output_type": "stream",
     "name": "stdout",
     "text": [
      "The student is called Tom and is 22 years old. He has a overall GPA of 4.0 at uni.\n"
     ]
    }
   ],
   "source": [
    "# %load solutions/three.py\n",
    "class Student(person):\n",
    "    \n",
    "\n",
    "    def __init__(self,name,age, gpa):\n",
    "        super().__init__(name,age)\n",
    "        self.gpa = gpa\n",
    "\n",
    "    def info(self):\n",
    "        print(f'The student is called {self.name} and is {self.age} years old. He has a overall GPA of {self.gpa} at uni.')\n",
    "\n",
    "student = Student(\"Tom\",22,4.0)\n",
    "student.info()\n"
   ]
  },
  {
   "cell_type": "markdown",
   "metadata": {
    "colab_type": "text",
    "id": "lvMFNumkoddU"
   },
   "source": [
    "(Optional) Based on extra reading - generators. \n",
    "Write a generator function to calculate the fibonaci sequence, each time you call next on the generator it should return the next number in the sequence\n",
    "\n",
    "```python\n",
    "\n",
    "fib = fib_generator()\n",
    "\n",
    ">>> next(fib) \n",
    "1\n",
    ">>> next(fib) \n",
    "1\n",
    ">>> next(fib) \n",
    "2\n",
    ">>> next(fib) \n",
    "3\n",
    "\n",
    "```"
   ]
  },
  {
   "cell_type": "code",
   "execution_count": 34,
   "metadata": {
    "colab": {},
    "colab_type": "code",
    "id": "Hu76tOHdod7b"
   },
   "outputs": [
    {
     "output_type": "stream",
     "name": "stdout",
     "text": [
      "1\n2\n3\n5\n8\n13\n21\n34\n"
     ]
    }
   ],
   "source": [
    "\n",
    "    def generator(n):\n",
    "        a = 0 \n",
    "        b = 1\n",
    "        if n <= 0 :\n",
    "            print(\"Incorrect \")\n",
    "        elif n == 1:\n",
    "            return b\n",
    "        else:\n",
    "            for i in range(2,n):\n",
    "                c = a+b\n",
    "                a = b\n",
    "                b = c\n",
    "                gen_lst.append(b)\n",
    "            return b\n",
    "        \n",
    "\n",
    "gen_lst = [ ]    \n",
    "n = 20\n",
    "fib = generator(n)\n",
    "it_lst = iter(gen_lst)\n",
    "x = next(it_lst)\n",
    "print(x)\n",
    "x = next(it_lst)\n",
    "print(x)\n",
    "x = next(it_lst)\n",
    "print(x)\n",
    "x = next(it_lst)\n",
    "print(x)\n",
    "x = next(it_lst)\n",
    "print(x)\n",
    "x = next(it_lst)\n",
    "print(x)\n",
    "x = next(it_lst)\n",
    "print(x)\n",
    "x = next(it_lst)\n",
    "print(x)"
   ]
  },
  {
   "cell_type": "code",
   "execution_count": 5,
   "metadata": {},
   "outputs": [
    {
     "output_type": "stream",
     "name": "stdout",
     "text": [
      "1\n1\n2\n3\n5\n8\n13\n21\n34\n"
     ]
    }
   ],
   "source": [
    "class fib_generator:\n",
    "\n",
    "    def __init__(self,a=0,b=1):\n",
    "        self.a = a\n",
    "        self.b = b\n",
    "\n",
    "    def __next__(self):\n",
    "        c = self.a+self.b\n",
    "        self.a = self.b\n",
    "        self.b = c\n",
    "        print(self.a) \n",
    "\n",
    "fib = fib_generator()\n",
    "next(fib)\n",
    "next(fib)\n",
    "next(fib)\n",
    "next(fib)\n",
    "next(fib)\n",
    "next(fib)\n",
    "next(fib)\n",
    "next(fib)\n",
    "next(fib)"
   ]
  },
  {
   "cell_type": "code",
   "execution_count": null,
   "metadata": {},
   "outputs": [],
   "source": []
  }
 ],
 "metadata": {
  "colab": {
   "collapsed_sections": [],
   "name": "classes.ipynb",
   "provenance": []
  },
  "kernelspec": {
   "display_name": "Python 3",
   "language": "python",
   "name": "python3"
  },
  "language_info": {
   "codemirror_mode": {
    "name": "ipython",
    "version": 3
   },
   "file_extension": ".py",
   "mimetype": "text/x-python",
   "name": "python",
   "nbconvert_exporter": "python",
   "pygments_lexer": "ipython3",
   "version": "3.7.6-final"
  }
 },
 "nbformat": 4,
 "nbformat_minor": 1
}