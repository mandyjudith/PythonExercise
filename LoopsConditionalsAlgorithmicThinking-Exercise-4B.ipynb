{
 "cells": [
  {
   "cell_type": "markdown",
   "metadata": {
    "colab_type": "text",
    "id": "4ie3Pp0i0jW7"
   },
   "source": [
    "# Loops, Conditionals and Algorithmic Thinking Exercise 4B"
   ]
  },
  {
   "cell_type": "markdown",
   "metadata": {
    "colab_type": "text",
    "id": "cM-L2vI70jW-"
   },
   "source": [
    "1. Find the numbers which are divisible by 7 and multiple of 5, between 1200 and 3800 (both included)."
   ]
  },
  {
   "cell_type": "code",
   "execution_count": null,
   "metadata": {
    "colab": {},
    "colab_type": "code",
    "id": "TjKu2KuO0jW_"
   },
   "outputs": [],
   "source": [
    "for i in range(1200,3801):\n",
    "    if i %7 ==0 :\n",
    "        if i %5 == 0:\n",
    "            print(i)\n",
    "        else:\n",
    "            pass"
   ]
  },
  {
   "cell_type": "markdown",
   "metadata": {
    "colab_type": "text",
    "id": "30ct7GTn0jXG"
   },
   "source": [
    "2. Find numbers between 100 and 400 (both included) where each digit of a number is an even number. The numbers obtained should be printed in a comma-separated sequence."
   ]
  },
  {
   "cell_type": "code",
   "execution_count": 14,
   "metadata": {
    "colab": {},
    "colab_type": "code",
    "id": "Xj856Hsg0xxH"
   },
   "outputs": [
    {
     "name": "stdout",
     "output_type": "stream",
     "text": [
      "100 ,\n",
      "102 ,\n",
      "104 ,\n",
      "106 ,\n",
      "108 ,\n",
      "110 ,\n",
      "112 ,\n",
      "114 ,\n",
      "116 ,\n",
      "118 ,\n",
      "120 ,\n",
      "122 ,\n",
      "124 ,\n",
      "126 ,\n",
      "128 ,\n",
      "130 ,\n",
      "132 ,\n",
      "134 ,\n",
      "136 ,\n",
      "138 ,\n",
      "140 ,\n",
      "142 ,\n",
      "144 ,\n",
      "146 ,\n",
      "148 ,\n",
      "150 ,\n",
      "152 ,\n",
      "154 ,\n",
      "156 ,\n",
      "158 ,\n",
      "160 ,\n",
      "162 ,\n",
      "164 ,\n",
      "166 ,\n",
      "168 ,\n",
      "170 ,\n",
      "172 ,\n",
      "174 ,\n",
      "176 ,\n",
      "178 ,\n",
      "180 ,\n",
      "182 ,\n",
      "184 ,\n",
      "186 ,\n",
      "188 ,\n",
      "190 ,\n",
      "192 ,\n",
      "194 ,\n",
      "196 ,\n",
      "198 ,\n",
      "200 ,\n",
      "202 ,\n",
      "204 ,\n",
      "206 ,\n",
      "208 ,\n",
      "210 ,\n",
      "212 ,\n",
      "214 ,\n",
      "216 ,\n",
      "218 ,\n",
      "220 ,\n",
      "222 ,\n",
      "224 ,\n",
      "226 ,\n",
      "228 ,\n",
      "230 ,\n",
      "232 ,\n",
      "234 ,\n",
      "236 ,\n",
      "238 ,\n",
      "240 ,\n",
      "242 ,\n",
      "244 ,\n",
      "246 ,\n",
      "248 ,\n",
      "250 ,\n",
      "252 ,\n",
      "254 ,\n",
      "256 ,\n",
      "258 ,\n",
      "260 ,\n",
      "262 ,\n",
      "264 ,\n",
      "266 ,\n",
      "268 ,\n",
      "270 ,\n",
      "272 ,\n",
      "274 ,\n",
      "276 ,\n",
      "278 ,\n",
      "280 ,\n",
      "282 ,\n",
      "284 ,\n",
      "286 ,\n",
      "288 ,\n",
      "290 ,\n",
      "292 ,\n",
      "294 ,\n",
      "296 ,\n",
      "298 ,\n",
      "300 ,\n",
      "302 ,\n",
      "304 ,\n",
      "306 ,\n",
      "308 ,\n",
      "310 ,\n",
      "312 ,\n",
      "314 ,\n",
      "316 ,\n",
      "318 ,\n",
      "320 ,\n",
      "322 ,\n",
      "324 ,\n",
      "326 ,\n",
      "328 ,\n",
      "330 ,\n",
      "332 ,\n",
      "334 ,\n",
      "336 ,\n",
      "338 ,\n",
      "340 ,\n",
      "342 ,\n",
      "344 ,\n",
      "346 ,\n",
      "348 ,\n",
      "350 ,\n",
      "352 ,\n",
      "354 ,\n",
      "356 ,\n",
      "358 ,\n",
      "360 ,\n",
      "362 ,\n",
      "364 ,\n",
      "366 ,\n",
      "368 ,\n",
      "370 ,\n",
      "372 ,\n",
      "374 ,\n",
      "376 ,\n",
      "378 ,\n",
      "380 ,\n",
      "382 ,\n",
      "384 ,\n",
      "386 ,\n",
      "388 ,\n",
      "390 ,\n",
      "392 ,\n",
      "394 ,\n",
      "396 ,\n",
      "398 ,\n",
      "400 ,\n"
     ]
    }
   ],
   "source": [
    "odd_list= [ ]\n",
    "for i in range(100,401):\n",
    "    if i %2 == 0:\n",
    "        print(i,\",\")\n",
    "    "
   ]
  },
  {
   "cell_type": "markdown",
   "metadata": {
    "colab_type": "text",
    "id": "K2leMqKq0jXb"
   },
   "source": [
    "3. Write a program to calculate a dog's age in dog's years.\n",
    "\n",
    "Note: For the first two years, a dog year is equal to 10.5 human years. After that, each dog year equals 4 human years.\n",
    "\n",
    "\n",
    "```\n",
    "e.g.\n",
    "Input a dog's age in human years: 200\n",
    "The dog's age in dog's years is 813\n",
    "```\n",
    "\n"
   ]
  },
  {
   "cell_type": "code",
   "execution_count": 4,
   "metadata": {
    "colab": {},
    "colab_type": "code",
    "id": "ysUBn-2y0jXc"
   },
   "outputs": [
    {
     "name": "stdout",
     "output_type": "stream",
     "text": [
      "Enter the dog age in human year:200\n",
      "813.0\n"
     ]
    }
   ],
   "source": [
    "h_yr = int(input('Enter the dog age in human year:'))\n",
    "\n",
    "\n",
    "if h_yr <0 :\n",
    "    print(\"Enter a positive number!! \")\n",
    "    \n",
    "elif h_yr <= 2:\n",
    "    dog_yr = h_yr * 10.5\n",
    "    \n",
    "elif h_yr > 2:\n",
    "    dog_yr = (10.5*2) + (h_yr-2)*4\n",
    "    \n",
    "print(dog_yr)\n"
   ]
  },
  {
   "cell_type": "markdown",
   "metadata": {
    "colab_type": "text",
    "id": "dhbj1Uwj0jXf"
   },
   "source": [
    "4. Write a program that accepts a string and calculate the number of digits and letters.\n",
    "```\n",
    "e.g.\n",
    "Input a string:hellofrom852\n",
    "Letters 9\n",
    "Digits 3\n",
    "```\n",
    "\n"
   ]
  },
  {
   "cell_type": "code",
   "execution_count": 5,
   "metadata": {
    "colab": {},
    "colab_type": "code",
    "id": "Lnd4C1li0jXg"
   },
   "outputs": [
    {
     "name": "stdout",
     "output_type": "stream",
     "text": [
      "Letters: 9\n",
      "Digits: 3\n"
     ]
    }
   ],
   "source": [
    "str1 = 'hellofrom852'\n",
    "Letters = 0\n",
    "Digits = 0\n",
    "\n",
    "for i in str1:\n",
    "    if i.isalpha():\n",
    "        Letters += 1\n",
    "        \n",
    "    elif i.isdigit():\n",
    "        Digits += 1\n",
    "        \n",
    "print('Letters:', Letters)\n",
    "print('Digits:', Digits)"
   ]
  },
  {
   "cell_type": "markdown",
   "metadata": {
    "colab_type": "text",
    "id": "ZhYS9Ouf0jXh"
   },
   "source": [
    "5. Write a program to convert month name to a number of days.\n",
    "```\n",
    "e.g.\n",
    "Input the name of Month: February                                       \n",
    "No. of days: 28/29 days\n",
    "```"
   ]
  },
  {
   "cell_type": "code",
   "execution_count": 7,
   "metadata": {
    "colab": {},
    "colab_type": "code",
    "id": "ay7xpUF40jXi"
   },
   "outputs": [
    {
     "name": "stdout",
     "output_type": "stream",
     "text": [
      "Input the name of Month:February\n",
      "No of days: 28/29 days\n"
     ]
    }
   ],
   "source": [
    "month = input(\"Input the name of Month:\")\n",
    "\n",
    "if month == \"February\" :\n",
    "    print('No of days: 28/29 days')\n",
    "elif month in (\"April\", \"June\", \"September\", \"November\"):\n",
    "    print(\"No. of days: 30 days\")\n",
    "elif month in (\"January\", \"March\", \"May\", \"July\", \"August\", \"October\", \"December\"):\n",
    "    print(\"No. of days: 31 day\")\n",
    "else:\n",
    "    print(\"Wrong month name\") "
   ]
  },
  {
   "cell_type": "markdown",
   "metadata": {
    "colab_type": "text",
    "id": "ruutOYYn0jXj"
   },
   "source": [
    "6. Write a program to check a triangle is equilateral, isosceles or scalene.\n",
    "\n",
    "Note :\n",
    "An equilateral triangle is a triangle in which all three sides are equal.\n",
    "A scalene triangle is a triangle that has three unequal sides.\n",
    "An isosceles triangle is a triangle with (at least) two equal sides.\n",
    "```\n",
    "e.g.\n",
    "Input lengths of the triangle sides: \n",
    "x: 3\n",
    "y: 3\n",
    "z: 5\n",
    "isosceles triangle\n",
    "```\n",
    "\n"
   ]
  },
  {
   "cell_type": "code",
   "execution_count": 8,
   "metadata": {
    "colab": {},
    "colab_type": "code",
    "id": "kOQHEJsq0jXk"
   },
   "outputs": [
    {
     "name": "stdout",
     "output_type": "stream",
     "text": [
      "Input lengths of the triangle 1st side:3\n",
      "Input lengths of the triangle 2nd side:3\n",
      "Input lengths of the triangle 3rd side:5\n",
      "isosceles triangle\n"
     ]
    }
   ],
   "source": [
    "x = int(input(\"Input lengths of the triangle 1st side:\"))\n",
    "y = int(input(\"Input lengths of the triangle 2nd side:\"))\n",
    "z = int(input(\"Input lengths of the triangle 3rd side:\"))\n",
    "\n",
    "if x==y==z :\n",
    "    print( 'equilateral triangle' )\n",
    "\n",
    "elif x!=y!=z :\n",
    "    print('scalene triangle')\n",
    "\n",
    "else:\n",
    "    print('isosceles triangle')\n"
   ]
  },
  {
   "cell_type": "markdown",
   "metadata": {
    "colab_type": "text",
    "id": "-v0VN-Z20jXl"
   },
   "source": [
    "7. Write a program that reads two integers representing a month and day and prints the season for that month and day.\n",
    "```\n",
    "e.g.\n",
    "Input the month (e.g. January, February etc.): February\n",
    "Input the day: 6\n",
    "Season is winter\n",
    "```\n",
    "\n"
   ]
  },
  {
   "cell_type": "code",
   "execution_count": 9,
   "metadata": {
    "colab": {},
    "colab_type": "code",
    "id": "TI0Cpz7S0jXm"
   },
   "outputs": [
    {
     "name": "stdout",
     "output_type": "stream",
     "text": [
      "Input the month (e.g. January, February etc.):February\n",
      "Input the day: 6\n",
      "Winter\n"
     ]
    }
   ],
   "source": [
    "# Spring: Mar - May, Summer: Jun- Aug, Autum: Sep-Nov, Winter: Dec-Feb\n",
    "month = input(\"Input the month (e.g. January, February etc.):\")\n",
    "day = input('Input the day: ')\n",
    "\n",
    "if month in ( 'March','April', 'May' ):\n",
    "    print('Spring')\n",
    "\n",
    "elif month in ( 'June', 'July', 'August' ):\n",
    "    print('Summer')\n",
    "    \n",
    "elif month in ('September', 'October', 'November' ):\n",
    "    print('Autum')\n",
    "    \n",
    "elif month in ( 'December', 'January', 'February' ):\n",
    "    print('Winter')\n",
    "    "
   ]
  },
  {
   "cell_type": "markdown",
   "metadata": {
    "colab_type": "text",
    "id": "WsHkb8ZC0jXn"
   },
   "source": [
    "8. Write a program to display astrological sign for given date of birth.\n",
    "```\n",
    "e.g.\n",
    "Input birthday: 6\n",
    "Input month of birth (e.g. march, july etc): july\n",
    "Your Astrological sign is : Cancer\n",
    "```\n",
    "\n"
   ]
  },
  {
   "cell_type": "code",
   "execution_count": 11,
   "metadata": {
    "colab": {},
    "colab_type": "code",
    "id": "Xniy2y2w0jXn"
   },
   "outputs": [
    {
     "name": "stdout",
     "output_type": "stream",
     "text": [
      "Input birthday:6\n",
      "Input month of birth (e.g. march, july etc): july\n",
      "Your Astrological sign is :  Cancer\n"
     ]
    }
   ],
   "source": [
    "bday = int(input('Input birthday:'))\n",
    "month_of_birth =input('Input month of birth (e.g. march, july etc): ')\n",
    "\n",
    "if month_of_birth == 'march':\n",
    "    if bday>20:\n",
    "        astro_sign = 'Aries'\n",
    "    else:\n",
    "        astro_sign = 'Pisces'\n",
    "        \n",
    "elif month_of_birth == 'april':\n",
    "    if bday>19:\n",
    "        astro_sign = 'Taurus'\n",
    "    else:\n",
    "        astro_sign = 'Aries'\n",
    "        \n",
    "elif month_of_birth == 'may':\n",
    "    if bday>20:\n",
    "        astro_sign = 'Gemini'\n",
    "    else:\n",
    "        astro_sign = 'Taurus'\n",
    "        \n",
    "elif month_of_birth == 'june':\n",
    "    if bday>21:\n",
    "        astro_sign = 'Cancer'\n",
    "    else:\n",
    "        astro_sign = 'Gemini'\n",
    "        \n",
    "elif month_of_birth == 'july':\n",
    "    if bday>22:\n",
    "        astro_sign = 'Leo'\n",
    "    else:\n",
    "        astro_sign = 'Cancer'\n",
    "        \n",
    "elif month_of_birth == 'august':\n",
    "    if bday>22:\n",
    "        astro_sign = 'Virgo'\n",
    "    else:\n",
    "        astro_sign = 'Leo'\n",
    "        \n",
    "elif month_of_birth == 'september':\n",
    "    if bday>22:\n",
    "        astro_sign = 'Libra'\n",
    "    else:\n",
    "        astro_sign = 'Virgo'\n",
    "        \n",
    "elif month_of_birth == 'october':\n",
    "    if bday>23:\n",
    "        astro_sign = 'Libra'\n",
    "    else:\n",
    "        astro_sign = 'Scorpius'\n",
    "        \n",
    "elif month_of_birth == 'november':\n",
    "    if bday>21:\n",
    "        astro_sign = 'Sagittarius'\n",
    "    else:\n",
    "        astro_sign = 'Scorpiuss'\n",
    "        \n",
    "elif month_of_birth == 'december':\n",
    "    if bday>21:\n",
    "        astro_sign = 'Capricornus'\n",
    "    else:\n",
    "        astro_sign = 'Sagittarius'\n",
    "        \n",
    "elif month_of_birth == 'january':\n",
    "    if bday>19:\n",
    "        astro_sign = 'Aquarius'\n",
    "    else:\n",
    "        astro_sign = 'Capricornus'\n",
    "        \n",
    "elif month_of_birth == 'february':\n",
    "    if bday>19:\n",
    "        astro_sign = 'Pisces'\n",
    "    else:\n",
    "        astro_sign = 'Aquarius'\n",
    "        \n",
    "print('Your Astrological sign is : ', astro_sign)\n",
    "        "
   ]
  },
  {
   "cell_type": "markdown",
   "metadata": {
    "colab_type": "text",
    "id": "-JfQu1YT0jXo"
   },
   "source": [
    "9. Write a program to construct the following pattern, using a nested loop number.\n",
    "e.g.\n",
    "\n",
    "```\n",
    "1\n",
    "22\n",
    "333\n",
    "4444\n",
    "55555\n",
    "666666\n",
    "7777777\n",
    "88888888\n",
    "999999999\n",
    "```"
   ]
  },
  {
   "cell_type": "code",
   "execution_count": 12,
   "metadata": {
    "colab": {},
    "colab_type": "code",
    "id": "4Wu09Mjv0jXp"
   },
   "outputs": [
    {
     "name": "stdout",
     "output_type": "stream",
     "text": [
      "\n",
      "1\n",
      "22\n",
      "333\n",
      "4444\n",
      "55555\n",
      "666666\n",
      "7777777\n",
      "88888888\n",
      "999999999\n"
     ]
    }
   ],
   "source": [
    "for i in range(10):\n",
    "    for j in range(i):\n",
    "        print(i, end=\"\")\n",
    "    print( )\n",
    "    "
   ]
  },
  {
   "cell_type": "markdown",
   "metadata": {
    "colab_type": "text",
    "id": "nGRTeEgw0jXq"
   },
   "source": [
    "10. Write a program to find the median of three values.\n",
    "\n",
    "```\n",
    "e.g.\n",
    "Input first number: 57\n",
    "Input second number: 6\n",
    "Input third number: 8\n",
    "The median is 8.0\n",
    "```\n",
    "\n"
   ]
  },
  {
   "cell_type": "code",
   "execution_count": 13,
   "metadata": {
    "colab": {},
    "colab_type": "code",
    "id": "hfP57ceA0jXq"
   },
   "outputs": [
    {
     "name": "stdout",
     "output_type": "stream",
     "text": [
      "Input first number: 57\n",
      "Input second number: 6\n",
      "Input third number: 8\n",
      "The median is 8.0\n"
     ]
    }
   ],
   "source": [
    "first_no = float(input('Input first number: '))\n",
    "second_no = float(input('Input second number: '))\n",
    "third_no = float(input('Input third number: '))\n",
    "\n",
    "if first_no > second_no :\n",
    "    if first_no < third_no:\n",
    "        median = first_no\n",
    "    elif second_no > third_no:\n",
    "        median = second_no\n",
    "    else:\n",
    "        median = third_no\n",
    "else:\n",
    "    if first_no >third_no:\n",
    "        median = first_no\n",
    "    elif second_no < third_no:\n",
    "        median = second_no\n",
    "    else:\n",
    "        median = third_no\n",
    "\n",
    "print('The median is', median)\n",
    "\n"
   ]
  }
 ],
 "metadata": {
  "colab": {
   "collapsed_sections": [],
   "name": "LoopsConditionalsAlgorithmicThinking-Exercise-4B.ipynb",
   "provenance": []
  },
  "kernelspec": {
   "display_name": "Python 3",
   "language": "python",
   "name": "python3"
  },
  "language_info": {
   "codemirror_mode": {
    "name": "ipython",
    "version": 3
   },
   "file_extension": ".py",
   "mimetype": "text/x-python",
   "name": "python",
   "nbconvert_exporter": "python",
   "pygments_lexer": "ipython3",
   "version": "3.8.5"
  },
  "toc": {
   "base_numbering": 1,
   "nav_menu": {},
   "number_sections": true,
   "sideBar": true,
   "skip_h1_title": false,
   "title_cell": "Table of Contents",
   "title_sidebar": "Contents",
   "toc_cell": false,
   "toc_position": {},
   "toc_section_display": true,
   "toc_window_display": false
  },
  "varInspector": {
   "cols": {
    "lenName": 16,
    "lenType": 16,
    "lenVar": 40
   },
   "kernels_config": {
    "python": {
     "delete_cmd_postfix": "",
     "delete_cmd_prefix": "del ",
     "library": "var_list.py",
     "varRefreshCmd": "print(var_dic_list())"
    },
    "r": {
     "delete_cmd_postfix": ") ",
     "delete_cmd_prefix": "rm(",
     "library": "var_list.r",
     "varRefreshCmd": "cat(var_dic_list()) "
    }
   },
   "position": {
    "height": "193px",
    "left": "990px",
    "right": "20px",
    "top": "120px",
    "width": "350px"
   },
   "types_to_exclude": [
    "module",
    "function",
    "builtin_function_or_method",
    "instance",
    "_Feature"
   ],
   "window_display": true
  }
 },
 "nbformat": 4,
 "nbformat_minor": 1
}