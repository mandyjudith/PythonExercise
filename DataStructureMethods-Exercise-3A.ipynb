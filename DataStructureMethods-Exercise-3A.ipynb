{
 "cells": [
  {
   "cell_type": "markdown",
   "metadata": {
    "colab_type": "text",
    "id": "-FcKMTIBt2C5"
   },
   "source": [
    "# Data Structure Methods & Comprehensions Exercise 3A (Compulsory)"
   ]
  },
  {
   "cell_type": "markdown",
   "metadata": {
    "colab_type": "text",
    "id": "kqbxYAMut2C7"
   },
   "source": [
    "1. Create a list with only odd numbers from 1 to 23.\n",
    "\n",
    "\n",
    "```\n",
    "e.g. [1, 3, 5, 7, 9, 11, 13, 15, 17, 19, 21, 23]\n",
    "```\n",
    "\n"
   ]
  },
  {
   "cell_type": "code",
   "execution_count": null,
   "metadata": {},
   "outputs": [],
   "source": [
    "## correct"
   ]
  },
  {
   "cell_type": "code",
   "execution_count": 38,
   "metadata": {
    "colab": {},
    "colab_type": "code",
    "executionInfo": {
     "elapsed": 969,
     "status": "ok",
     "timestamp": 1596179630865,
     "user": {
      "displayName": "KING CHAK HO",
      "photoUrl": "",
      "userId": "01684497642639073245"
     },
     "user_tz": -480
    },
    "id": "I3cxjQsvt2DE"
   },
   "outputs": [
    {
     "name": "stdout",
     "output_type": "stream",
     "text": [
      "[1, 3, 5, 7, 9, 11, 13, 15, 17, 19, 21, 23]\n"
     ]
    }
   ],
   "source": [
    "odd = [ ]\n",
    "\n",
    "for i in range(24):\n",
    "    if i %2 != 0:\n",
    "        odd.append(i)\n",
    "        \n",
    "print(odd)\n"
   ]
  },
  {
   "cell_type": "markdown",
   "metadata": {
    "colab_type": "text",
    "id": "gdOpNQQOt2DI"
   },
   "source": [
    "2. Calculate the sum of the digits from the string:\n",
    "```'2347805673456'```"
   ]
  },
  {
   "cell_type": "code",
   "execution_count": null,
   "metadata": {},
   "outputs": [],
   "source": [
    "## correct"
   ]
  },
  {
   "cell_type": "code",
   "execution_count": 6,
   "metadata": {
    "colab": {},
    "colab_type": "code",
    "executionInfo": {
     "elapsed": 854,
     "status": "ok",
     "timestamp": 1596179643960,
     "user": {
      "displayName": "KING CHAK HO",
      "photoUrl": "",
      "userId": "01684497642639073245"
     },
     "user_tz": -480
    },
    "id": "PR8yFjfnt2DJ"
   },
   "outputs": [
    {
     "name": "stdout",
     "output_type": "stream",
     "text": [
      "60\n"
     ]
    }
   ],
   "source": [
    "s ='2347805673456'\n",
    "sum = 0\n",
    "\n",
    "for i in s:\n",
    "    num = int(i)\n",
    "    sum+= num\n",
    "    \n",
    "print(sum)"
   ]
  },
  {
   "cell_type": "markdown",
   "metadata": {
    "colab_type": "text",
    "id": "dt5F5uZVt2DS"
   },
   "source": [
    "3. Convert the string to a list and uppercase each word.\n",
    "```\n",
    "s = \"hello world and practice makes permanent and hello world again\"\n",
    "```\n",
    "```\n",
    "output:\n",
    "['HELLO',\n",
    " 'WORLD',\n",
    " 'AND',\n",
    " 'PRACTICE',\n",
    " 'MAKES',\n",
    " 'PERMANENT',\n",
    " 'AND',\n",
    " 'HELLO',\n",
    " 'WORLD',\n",
    " 'AGAIN']\n",
    "```\n",
    "\n"
   ]
  },
  {
   "cell_type": "code",
   "execution_count": null,
   "metadata": {},
   "outputs": [],
   "source": [
    "## correct"
   ]
  },
  {
   "cell_type": "code",
   "execution_count": 8,
   "metadata": {
    "colab": {},
    "colab_type": "code",
    "id": "5VUIavTmvImI"
   },
   "outputs": [
    {
     "name": "stdout",
     "output_type": "stream",
     "text": [
      "['HELLO', 'WORLD', 'AND', 'PRACTICE', 'MAKES', 'PERMANENT', 'AND', 'HELLO', 'WORLD', 'AGAIN']\n"
     ]
    }
   ],
   "source": [
    "s = \"hello world and practice makes permanent and hello world again\"\n",
    "lst = list( s.upper().split() )\n",
    "\n",
    "print(lst) \n"
   ]
  },
  {
   "cell_type": "markdown",
   "metadata": {
    "colab_type": "text",
    "id": "R00SguL0t2DX"
   },
   "source": [
    "4. Get all the keys from the dictionary:\n",
    "```\n",
    "cars = {'cars':['bmw, tesla'], 'food':['mexican', 'sushi'], 'location': 'hong kong'}\n",
    "```\n",
    "```\n",
    "output:\n",
    "dict_keys(['cars', 'food', 'location'])\n",
    "```\n",
    "\n"
   ]
  },
  {
   "cell_type": "code",
   "execution_count": null,
   "metadata": {},
   "outputs": [],
   "source": [
    "## correct"
   ]
  },
  {
   "cell_type": "code",
   "execution_count": 9,
   "metadata": {
    "colab": {},
    "colab_type": "code",
    "id": "dCce85HAt2DX"
   },
   "outputs": [
    {
     "data": {
      "text/plain": [
       "dict_keys(['cars', 'food', 'location'])"
      ]
     },
     "execution_count": 9,
     "metadata": {},
     "output_type": "execute_result"
    }
   ],
   "source": [
    "cars = {'cars':['bmw, tesla'], 'food':['mexican', 'sushi'], 'location': 'hong kong'}\n",
    "cars.keys()"
   ]
  },
  {
   "cell_type": "markdown",
   "metadata": {
    "colab_type": "text",
    "id": "vovfgUIat2DY"
   },
   "source": [
    "5. Combine the two lists together in the same sequence.\n",
    "\n",
    "```\n",
    "l1 = ['basketball', 'gym', 'football', 'cycling']\n",
    "l2 = ['apples', 'bread', 'oats', 'salmon']\n",
    "```\n",
    "\n",
    "\n",
    "```\n",
    "output:\n",
    "['basketball',\n",
    " 'apples',\n",
    " 'gym',\n",
    " 'bread',\n",
    " 'football',\n",
    " 'oats',\n",
    " 'cycling',\n",
    " 'salmon']\n",
    "```\n",
    "\n"
   ]
  },
  {
   "cell_type": "code",
   "execution_count": null,
   "metadata": {},
   "outputs": [],
   "source": [
    "## correct"
   ]
  },
  {
   "cell_type": "code",
   "execution_count": 10,
   "metadata": {
    "colab": {},
    "colab_type": "code",
    "executionInfo": {
     "elapsed": 841,
     "status": "ok",
     "timestamp": 1596179904697,
     "user": {
      "displayName": "KING CHAK HO",
      "photoUrl": "",
      "userId": "01684497642639073245"
     },
     "user_tz": -480
    },
    "id": "5uTqqpebt2DZ"
   },
   "outputs": [
    {
     "name": "stdout",
     "output_type": "stream",
     "text": [
      "['basketball', 'apples', 'gym', 'bread', 'football', 'oats', 'cycling', 'salmon']\n"
     ]
    }
   ],
   "source": [
    "l1 = ['basketball', 'gym', 'football', 'cycling']\n",
    "l2 = ['apples', 'bread', 'oats', 'salmon']\n",
    "l3= [ ]\n",
    "\n",
    "for i in range(len(l1)):\n",
    "    l3.append(l1[i])\n",
    "    l3.append(l2[i])\n",
    "    \n",
    "print(l3)"
   ]
  },
  {
   "cell_type": "code",
   "execution_count": 41,
   "metadata": {},
   "outputs": [
    {
     "name": "stdout",
     "output_type": "stream",
     "text": [
      "['basketball', 'apples', 'gym', 'bread', 'football', 'oats', 'cycling', 'salmon']\n"
     ]
    }
   ],
   "source": [
    "## Method by using zip( )\n",
    "l1 = ['basketball', 'gym', 'football', 'cycling']\n",
    "l2 = ['apples', 'bread', 'oats', 'salmon']\n",
    "list1= []\n",
    "for i,j in zip(l1, l2):\n",
    "    list1.append(i)\n",
    "    list1.append(j)\n",
    "    \n",
    "print(list1)"
   ]
  },
  {
   "cell_type": "markdown",
   "metadata": {
    "colab_type": "text",
    "id": "0EzGbVInt2Db"
   },
   "source": [
    "6. Take a string and calculate the number of letters and digits within it. Return the result in a dictionary.\n",
    "\n",
    "\n",
    "\n",
    "```\n",
    "e.g. \n",
    "txt = \"H3ll0 Wor1d\"\n",
    "\n",
    "output:\n",
    "{'LETTERS': 7, 'DIGITS': 3}\n",
    "```\n",
    "\n"
   ]
  },
  {
   "cell_type": "code",
   "execution_count": null,
   "metadata": {},
   "outputs": [],
   "source": [
    "##correct"
   ]
  },
  {
   "cell_type": "code",
   "execution_count": 13,
   "metadata": {
    "colab": {},
    "colab_type": "code",
    "id": "Bebfdk4Vt2Dc"
   },
   "outputs": [
    {
     "name": "stdout",
     "output_type": "stream",
     "text": [
      "{'LETTERS': 7, 'DIGITS': 3}\n"
     ]
    }
   ],
   "source": [
    "txt = \"H3ll0 Wor1d\"\n",
    "d= { }\n",
    "letter = 0\n",
    "digit = 0\n",
    "\n",
    "for i in txt:\n",
    "    if (i.isalpha()):\n",
    "        letter+=1\n",
    "    elif (i.isdigit()) :\n",
    "        digit +=1\n",
    "        \n",
    "d['LETTERS'] = letter\n",
    "d['DIGITS'] = digit\n",
    "print(d)"
   ]
  },
  {
   "cell_type": "markdown",
   "metadata": {
    "colab_type": "text",
    "id": "kV5SFMX_t2Dd"
   },
   "source": [
    "7. Given a dictionary containing the names and ages of a group of people, return the name of the oldest person.\n",
    "\n",
    "\n",
    "\n",
    "```\n",
    "input:\n",
    "people = {\"Emma\": 71, \"Jack\": 45, \"Amy\": 15, \"Ben\": 29}\n",
    "\n",
    "output:\n",
    "'Emma'\n",
    "```\n",
    "\n"
   ]
  },
  {
   "cell_type": "code",
   "execution_count": 2,
   "metadata": {
    "colab": {},
    "colab_type": "code",
    "id": "7u40eAz0t2De"
   },
   "outputs": [
    {
     "name": "stdout",
     "output_type": "stream",
     "text": [
      "Emma\n"
     ]
    }
   ],
   "source": [
    "people = {\"Emma\": 71, \"Jack\": 45, \"Amy\": 15, \"Ben\": 29}\n",
    "oldest = max(people, key=people.get)\n",
    "print(oldest)\n"
   ]
  },
  {
   "cell_type": "markdown",
   "metadata": {
    "colab_type": "text",
    "id": "bOMFFOOet2Df"
   },
   "source": [
    "8. Given two strings, return the total number of unique characters from the combined string.\n",
    "\n",
    "\n",
    "\n",
    "```\n",
    "e.g.\n",
    "s1 = \"apple\"\n",
    "s2 = \"play\"\n",
    "\n",
    "ouput:5\n",
    "```\n",
    "\n"
   ]
  },
  {
   "cell_type": "code",
   "execution_count": 8,
   "metadata": {
    "colab": {},
    "colab_type": "code",
    "id": "6UjWA4EMt2Df"
   },
   "outputs": [
    {
     "data": {
      "text/plain": [
       "5"
      ]
     },
     "execution_count": 8,
     "metadata": {},
     "output_type": "execute_result"
    }
   ],
   "source": [
    "s1 = \"apple\"\n",
    "s2 = \"play\"\n",
    "\n",
    "len(set(s1+s2)) "
   ]
  },
  {
   "cell_type": "markdown",
   "metadata": {
    "colab_type": "text",
    "id": "apnfagXOt2Dg"
   },
   "source": [
    "9. You work for a manufacturer, and have been asked to calculate the total profit made on the sales of a product. You are given a dictionary containing the cost price per unit (in dollars), sell price per unit (in dollars), and the starting inventory. Return the total profit made, rounded to the nearest dollar. Assume all of the inventory has been sold.\n",
    "```\n",
    "{\n",
    "  \"cost_price\": 32.67,\n",
    "  \"sell_price\": 45.00,\n",
    "  \"inventory\": 1200\n",
    "}\n",
    "```\n",
    "\n"
   ]
  },
  {
   "cell_type": "code",
   "execution_count": null,
   "metadata": {},
   "outputs": [],
   "source": [
    "## correct"
   ]
  },
  {
   "cell_type": "code",
   "execution_count": 42,
   "metadata": {
    "colab": {},
    "colab_type": "code",
    "id": "b7dnn4ebt2Dg"
   },
   "outputs": [
    {
     "name": "stdout",
     "output_type": "stream",
     "text": [
      "14796\n"
     ]
    }
   ],
   "source": [
    "manuf = {\"cost_price\": 32.67,\"sell_price\": 45.00,\"inventory\": 1200}\n",
    "\n",
    "profit = manuf.get(\"sell_price\") - manuf.get(\"cost_price\") \n",
    "\n",
    "total_profit = round(manuf.get(\"inventory\")*profit)\n",
    "\n",
    "print(total_profit)"
   ]
  },
  {
   "cell_type": "markdown",
   "metadata": {
    "colab_type": "text",
    "id": "6cXhjlgVt2Di"
   },
   "source": [
    "10. Find the smallest number of letter removals so that two strings are anagrams of each other.\n",
    "\n",
    "An anagram of a string is another string that contains same characters, only the order of characters can be different. For example, “abcd” and “dabc” are anagram of each other."
   ]
  },
  {
   "cell_type": "code",
   "execution_count": null,
   "metadata": {},
   "outputs": [],
   "source": [
    "##correct"
   ]
  },
  {
   "cell_type": "code",
   "execution_count": 33,
   "metadata": {
    "colab": {},
    "colab_type": "code",
    "id": "3ObjRQNit2Di"
   },
   "outputs": [
    {
     "name": "stdout",
     "output_type": "stream",
     "text": [
      "{'l': 1, 'i': 1, 's': 1, 't': 1, 'e': 2, 'n': 1, 'd': 1, 'f': 1, 'g': 1}\n",
      "{'s': 1, 'i': 1, 'l': 1, 'e': 1, 'n': 1, 't': 1}\n"
     ]
    }
   ],
   "source": [
    "str1 = 'listendefg'\n",
    "str2 = 'silent'\n",
    "dict1= { }\n",
    "dict2 = { }\n",
    "\n",
    "\n",
    "for i in str1:\n",
    "    if i not in dict1:\n",
    "        dict1[i]=1\n",
    "    else:\n",
    "        dict1[i]+=1\n",
    "            \n",
    "for i in str2:\n",
    "    if i not in dict2:\n",
    "        dict2[i]=1\n",
    "    else:\n",
    "        dict2[i]+=1\n",
    "            \n",
    "print(dict1)\n",
    "print(dict2)\n",
    "\n"
   ]
  },
  {
   "cell_type": "code",
   "execution_count": 34,
   "metadata": {},
   "outputs": [
    {
     "name": "stdout",
     "output_type": "stream",
     "text": [
      "{'d': 1, 'e': 2, 'f': 1, 'g': 1, 'i': 1, 'l': 1, 'n': 1, 's': 1, 't': 1}\n",
      "{'e': 1, 'i': 1, 'l': 1, 'n': 1, 's': 1, 't': 1}\n"
     ]
    }
   ],
   "source": [
    "dict1_sort=dict(sorted(dict1.items()))\n",
    "dict2_sort=dict(sorted(dict2.items()))\n",
    "\n",
    "print(dict1_sort)\n",
    "print(dict2_sort)"
   ]
  },
  {
   "cell_type": "code",
   "execution_count": 35,
   "metadata": {},
   "outputs": [
    {
     "name": "stdout",
     "output_type": "stream",
     "text": [
      "['d', 'e', 'f', 'g', 'i', 'l', 'n', 's', 't']\n",
      "['e', 'i', 'l', 'n', 's', 't']\n"
     ]
    }
   ],
   "source": [
    "dict1_sort_key=sorted(dict1.keys())\n",
    "dict2_sort_key=sorted(dict2.keys())\n",
    "\n",
    "print(dict1_sort_key)\n",
    "print(dict2_sort_key)"
   ]
  },
  {
   "cell_type": "code",
   "execution_count": 37,
   "metadata": {},
   "outputs": [
    {
     "name": "stdout",
     "output_type": "stream",
     "text": [
      "The difference between String1 and String 2 is 4.\n"
     ]
    }
   ],
   "source": [
    "count = 0\n",
    "\n",
    "if dict1_sort == dict2_sort:\n",
    "    print(\"String 1and String 2 are anagram of each other\")\n",
    "    \n",
    "elif len(dict1_sort_key) >len(dict2_sort_key):\n",
    "    for i in dict1_sort_key:\n",
    "        if i in dict2_sort:\n",
    "            count += abs(dict1_sort[i]-dict2_sort[i])\n",
    "        else:\n",
    "            count += dict1_sort[i]\n",
    "            \n",
    "elif len(dict2_sort_key) >len(dict1_sort_key):\n",
    "    for i in dict2_sort_key:\n",
    "        if i in dict1_sort:\n",
    "            count += abs(dict2_sort[i]-dict1_sort[i])\n",
    "        else:\n",
    "            count += dict2_sort[i]\n",
    "            \n",
    "print(f\"The difference between String1 and String 2 is {count}.\")\n",
    "        \n"
   ]
  },
  {
   "cell_type": "code",
   "execution_count": 45,
   "metadata": {},
   "outputs": [
    {
     "name": "stdout",
     "output_type": "stream",
     "text": [
      "Smallest number of letter removals: 7\n"
     ]
    }
   ],
   "source": [
    "## ANS from others\n",
    "\n",
    "s1 = \"happy\"\n",
    "s2 = \"birthday\"\n",
    "char = \"abcedfghijklmnopqrstuvwxyz\"\n",
    "total = 0\n",
    "\n",
    "for x in char:\n",
    "    count = abs(s1.count(x) - s2.count(x))\n",
    "    total = total + count\n",
    "print(\"Smallest number of letter removals: \" + str(total))"
   ]
  }
 ],
 "metadata": {
  "colab": {
   "collapsed_sections": [],
   "name": "DataStructureMethods-Exercise-3A.ipynb",
   "provenance": []
  },
  "kernelspec": {
   "display_name": "Python 3",
   "language": "python",
   "name": "python3"
  },
  "language_info": {
   "codemirror_mode": {
    "name": "ipython",
    "version": 3
   },
   "file_extension": ".py",
   "mimetype": "text/x-python",
   "name": "python",
   "nbconvert_exporter": "python",
   "pygments_lexer": "ipython3",
   "version": "3.8.5"
  },
  "toc": {
   "base_numbering": 1,
   "nav_menu": {},
   "number_sections": true,
   "sideBar": true,
   "skip_h1_title": false,
   "title_cell": "Table of Contents",
   "title_sidebar": "Contents",
   "toc_cell": false,
   "toc_position": {},
   "toc_section_display": true,
   "toc_window_display": false
  },
  "varInspector": {
   "cols": {
    "lenName": 16,
    "lenType": 16,
    "lenVar": 40
   },
   "kernels_config": {
    "python": {
     "delete_cmd_postfix": "",
     "delete_cmd_prefix": "del ",
     "library": "var_list.py",
     "varRefreshCmd": "print(var_dic_list())"
    },
    "r": {
     "delete_cmd_postfix": ") ",
     "delete_cmd_prefix": "rm(",
     "library": "var_list.r",
     "varRefreshCmd": "cat(var_dic_list()) "
    }
   },
   "types_to_exclude": [
    "module",
    "function",
    "builtin_function_or_method",
    "instance",
    "_Feature"
   ],
   "window_display": false
  }
 },
 "nbformat": 4,
 "nbformat_minor": 1
}
