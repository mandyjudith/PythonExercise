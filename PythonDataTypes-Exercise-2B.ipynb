{
 "cells": [
  {
   "cell_type": "markdown",
   "metadata": {
    "colab_type": "text",
    "id": "P9aRb0p9_0RP"
   },
   "source": [
    "# Python Data Types & Containers Exercise 2B"
   ]
  },
  {
   "cell_type": "markdown",
   "metadata": {
    "colab_type": "text",
    "id": "dPhgZHjB_0RR"
   },
   "source": [
    "1. Extend a list without append."
   ]
  },
  {
   "cell_type": "code",
   "execution_count": 4,
   "metadata": {
    "colab": {},
    "colab_type": "code",
    "id": "1R6awE9DUUwD"
   },
   "outputs": [
    {
     "name": "stdout",
     "output_type": "stream",
     "text": [
      "[1, 2, 6, 3, 4, 5]\n"
     ]
    }
   ],
   "source": [
    "list1 = [1,2,3,4,5]\n",
    "list1.insert(2,6)\n",
    "print(list1)"
   ]
  },
  {
   "cell_type": "markdown",
   "metadata": {
    "colab_type": "text",
    "id": "JBgxfDs2_0RV"
   },
   "source": [
    "2. Write a program to clone or copy a list."
   ]
  },
  {
   "cell_type": "code",
   "execution_count": 5,
   "metadata": {
    "colab": {},
    "colab_type": "code",
    "id": "CdUjmgAVUUwN"
   },
   "outputs": [
    {
     "name": "stdout",
     "output_type": "stream",
     "text": [
      "['tony', 'jenny', 'eric']\n"
     ]
    }
   ],
   "source": [
    "name = ['tony', 'jenny','eric']\n",
    "name_copy = [ ]\n",
    "\n",
    "for i in name:\n",
    "    name_copy.append(i)\n",
    "    \n",
    "print(name_copy)"
   ]
  },
  {
   "cell_type": "code",
   "execution_count": 6,
   "metadata": {},
   "outputs": [
    {
     "name": "stdout",
     "output_type": "stream",
     "text": [
      "['tony', 'jenny', 'eric']\n"
     ]
    }
   ],
   "source": [
    "name = ['tony', 'jenny','eric']\n",
    "name_copy = name.copy( )\n",
    "print(name_copy)"
   ]
  },
  {
   "cell_type": "markdown",
   "metadata": {
    "colab_type": "text",
    "id": "Qiqv6oXn_0RY"
   },
   "source": [
    "3. Shuffle and print a specified list. Hint: using shuffle method in random module"
   ]
  },
  {
   "cell_type": "code",
   "execution_count": 7,
   "metadata": {
    "colab": {},
    "colab_type": "code",
    "id": "l6NC9x1MUUwS"
   },
   "outputs": [
    {
     "name": "stdout",
     "output_type": "stream",
     "text": [
      "['cherry', 'banana', 'apple']\n"
     ]
    }
   ],
   "source": [
    "mylist = [\"apple\", \"banana\", \"cherry\"]\n",
    "\n",
    "import random\n",
    "random.shuffle(mylist)\n",
    "\n",
    "print(mylist)"
   ]
  },
  {
   "cell_type": "markdown",
   "metadata": {
    "colab_type": "text",
    "id": "ujc4S5jl_0Rb"
   },
   "source": [
    "4. Get the difference between the two lists.\n",
    "\n",
    "```\n",
    "eg.\n",
    "list1 = [1, 2, 3, 4]\n",
    "list2 = [1, 2]\n",
    "difference = [3, 4]\n",
    "```"
   ]
  },
  {
   "cell_type": "code",
   "execution_count": 17,
   "metadata": {
    "colab": {},
    "colab_type": "code",
    "id": "U12gOFwCUUwW"
   },
   "outputs": [
    {
     "name": "stdout",
     "output_type": "stream",
     "text": [
      "[3, 4]\n"
     ]
    }
   ],
   "source": [
    "list1 = [1,2,3,4]\n",
    "list2 = [1,2]\n",
    "difference = [ ]\n",
    "\n",
    "for i in list1:\n",
    "    if i not in list2 :\n",
    "        difference.append(i)\n",
    "\n",
    "print(difference)\n",
    "    \n",
    "\n",
    "\n"
   ]
  },
  {
   "cell_type": "markdown",
   "metadata": {
    "colab_type": "text",
    "id": "RC9LkzNb_0Rf"
   },
   "source": [
    "5. Append a list to the second list.\n",
    "\n",
    "\n",
    "\n",
    "```\n",
    "e.g. \n",
    "list1 = [1,2,3,0]\n",
    "list2 = ['Red', 'Green', 'Black']\n",
    "newlist = [1,2,3,0, 'Red', 'Green', 'Black'] \n",
    "```\n",
    "\n"
   ]
  },
  {
   "cell_type": "code",
   "execution_count": 23,
   "metadata": {
    "colab": {},
    "colab_type": "code",
    "id": "o-bP-vnpUUwa"
   },
   "outputs": [
    {
     "name": "stdout",
     "output_type": "stream",
     "text": [
      "[1, 2, 3, 0, 'Red', 'Green', 'Black']\n"
     ]
    }
   ],
   "source": [
    "list1 = [1,2,3,0]\n",
    "list2 = ['Red', 'Green', 'Black']\n",
    "newlist = list1 + list2\n",
    "print(newlist)"
   ]
  },
  {
   "cell_type": "markdown",
   "metadata": {
    "colab_type": "text",
    "id": "ud54CsL3UUwc"
   },
   "source": [
    "6. Write a program to store student information in a dictionary. Accept the student’s name, age, and university name.\n",
    "\n",
    "\n",
    "\n",
    "```\n",
    "e.g.\n",
    "Please enter your name: Terrence Tao\n",
    "Please enter your age: 17 \n",
    "Please enter your university: Princeton\n",
    "\n",
    "output: \n",
    "{'Name': 'Terrence Tao', 'Age': 17, 'University': 'Princeton'}\n",
    "```\n",
    "\n"
   ]
  },
  {
   "cell_type": "code",
   "execution_count": 33,
   "metadata": {
    "colab": {},
    "colab_type": "code",
    "id": "AB9yFTuyUUwd"
   },
   "outputs": [
    {
     "name": "stdout",
     "output_type": "stream",
     "text": [
      "Please enter your name: Terrence Tao\n",
      "Please enter your age: 17\n",
      "Please enter your university: Princeton\n",
      "{'Name': 'Terrence Tao', 'Age': '17', 'University': 'Princeton'}\n"
     ]
    }
   ],
   "source": [
    "d = { }\n",
    "\n",
    "name = input('Please enter your name: ')\n",
    "age = input('Please enter your age: ')\n",
    "university = input('Please enter your university: ')\n",
    "\n",
    "d['Name'] = name\n",
    "d['Age'] =age\n",
    "d['University']= university\n",
    "\n",
    "print(d)"
   ]
  },
  {
   "cell_type": "markdown",
   "metadata": {
    "colab_type": "text",
    "id": "vuKiB9NxUUwf"
   },
   "source": [
    "7. Find common items from two lists.\n",
    "\n",
    "\n",
    "\n",
    "```\n",
    "e.g.\n",
    "color1 = \"Red\", \"Green\", \"Orange\", \"White\"\n",
    "color2 = \"Black\", \"Green\", \"White\", \"Pink\"\n",
    "\n",
    "output: \n",
    "{'Green', 'White'}\n",
    "```\n",
    "\n"
   ]
  },
  {
   "cell_type": "code",
   "execution_count": 36,
   "metadata": {
    "colab": {},
    "colab_type": "code",
    "id": "K5FW7LUJUUwg"
   },
   "outputs": [
    {
     "name": "stdout",
     "output_type": "stream",
     "text": [
      "['Green', 'White']\n"
     ]
    }
   ],
   "source": [
    "color1 = \"Red\", \"Green\", \"Orange\", \"White\"\n",
    "color2 = \"Black\", \"Green\", \"White\", \"Pink\"\n",
    "common = [ ]\n",
    "\n",
    "for i in color1:\n",
    "    if i in color2:\n",
    "        common.append(i)\n",
    "        \n",
    "print(common)"
   ]
  },
  {
   "cell_type": "markdown",
   "metadata": {
    "colab_type": "text",
    "id": "bER1raw8UUwi"
   },
   "source": [
    "8. Select the odd items of a list.\n",
    "\n",
    "\n",
    "```\n",
    "e.g.\n",
    " x = [1,2,3,4,5,6,7,8,9]\n",
    " \n",
    "output: [1,3,5,7,9]\n",
    "```\n",
    "\n"
   ]
  },
  {
   "cell_type": "code",
   "execution_count": 38,
   "metadata": {
    "colab": {},
    "colab_type": "code",
    "id": "N2IPZvUmUUwj"
   },
   "outputs": [
    {
     "name": "stdout",
     "output_type": "stream",
     "text": [
      "[1, 3, 5, 7, 9]\n"
     ]
    }
   ],
   "source": [
    " x = [1,2,3,4,5,6,7,8,9]\n",
    "odd= [ ]\n",
    "    \n",
    "for i in x:\n",
    "    if i %2 !=0:\n",
    "        odd.append(i)\n",
    "        \n",
    "print(odd)"
   ]
  },
  {
   "cell_type": "markdown",
   "metadata": {
    "colab_type": "text",
    "id": "v5Bb0fdPUUwl"
   },
   "source": [
    "9. Given the string \"It is a far, far better thing that I do, than I have ever done; it is a far, far better rest that I go to than I have ever known.\", create a new string \"thing rest\" from it."
   ]
  },
  {
   "cell_type": "code",
   "execution_count": 40,
   "metadata": {
    "colab": {},
    "colab_type": "code",
    "id": "DOQajZSeUUwm"
   },
   "outputs": [
    {
     "data": {
      "text/plain": [
       "'thing rest'"
      ]
     },
     "execution_count": 40,
     "metadata": {},
     "output_type": "execute_result"
    }
   ],
   "source": [
    "s = \"It is a far, far better thing that I do, than I have ever done; it is a far, far better rest that I go to than I have ever known.\"\n",
    "new_s = s[24:29] + s[-42:-37]\n",
    "new_s"
   ]
  },
  {
   "cell_type": "markdown",
   "metadata": {
    "colab_type": "text",
    "id": "15aEquboUUwn"
   },
   "source": [
    "10. Find the list in a list of lists whose sum of elements is the highest.\n",
    "\n",
    "```\n",
    "eg.\n",
    "for the list [[2,3,4], [4,5,6], [10,11,12], [7,8,9]]\n",
    "the sublist [10,11,12] has the greatest sum of elements\n",
    "```"
   ]
  },
  {
   "cell_type": "code",
   "execution_count": 43,
   "metadata": {
    "colab": {},
    "colab_type": "code",
    "id": "oUYIUsH0UUwo"
   },
   "outputs": [
    {
     "name": "stdout",
     "output_type": "stream",
     "text": [
      "[10, 11, 12]\n"
     ]
    }
   ],
   "source": [
    "list1 =  [[2,3,4], [4,5,6], [10,11,12], [7,8,9]]\n",
    "print(max(list1, key=sum))\n",
    "        \n"
   ]
  }
 ],
 "metadata": {
  "colab": {
   "collapsed_sections": [],
   "name": "PythonDataTypes-Exercise-2B.ipynb",
   "provenance": []
  },
  "kernelspec": {
   "display_name": "Python 3",
   "language": "python",
   "name": "python3"
  },
  "language_info": {
   "codemirror_mode": {
    "name": "ipython",
    "version": 3
   },
   "file_extension": ".py",
   "mimetype": "text/x-python",
   "name": "python",
   "nbconvert_exporter": "python",
   "pygments_lexer": "ipython3",
   "version": "3.8.5"
  }
 },
 "nbformat": 4,
 "nbformat_minor": 1
}
