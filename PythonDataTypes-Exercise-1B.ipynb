{
 "cells": [
  {
   "cell_type": "markdown",
   "metadata": {
    "colab_type": "text",
    "id": "hoSPPb3HMhW7"
   },
   "source": [
    "# Python Data Types & Containers Exercise 1B"
   ]
  },
  {
   "cell_type": "markdown",
   "metadata": {
    "colab_type": "text",
    "id": "nbDZufp5MhW_"
   },
   "source": [
    "1. Write a program to test whether a number is within 1000 of 10000 or 30000\n",
    "\n",
    "```\n",
    "eg.\n",
    "9500 is within 1000 of 10000, as the difference of 9500 and 10000 is less than 1000\n",
    "likewise 30600 is within 1000 of 30000, as the difference of 30600 and 30000 is less than 1000\n",
    "```"
   ]
  },
  {
   "cell_type": "code",
   "execution_count": 8,
   "metadata": {
    "colab": {},
    "colab_type": "code",
    "id": "SLoLYtejMhXB"
   },
   "outputs": [
    {
     "name": "stdout",
     "output_type": "stream",
     "text": [
      "Enter a number: 30600\n",
      "The number is with 1000 of 30000\n"
     ]
    }
   ],
   "source": [
    "num = int(input('Enter a number: '))\n",
    "\n",
    "\n",
    "if num <= 10000:\n",
    "    if (10000 - num) <1000:\n",
    "        print(\"The number is with 1000 of 10000\")\n",
    "        \n",
    "    else:\n",
    "        print(\"The number is NOT  with 1000 of 10000\")\n",
    "        \n",
    "elif 10000< num :\n",
    "    if num >30000:\n",
    "        if (num-30000)<1000:\n",
    "             print(\"The number is with 1000 of 30000\")\n",
    "        else:\n",
    "            print(\"The number is NOT  with 1000 of 30000\")\n",
    "    \n",
    "    else:\n",
    "        if (30000-num)<1000:\n",
    "             print(\"The number is with 1000 of 30000\")\n",
    "        else:\n",
    "            print(\"The number is NOT  with 1000 of 30000\")\n",
    "    \n",
    "        "
   ]
  },
  {
   "cell_type": "markdown",
   "metadata": {
    "colab_type": "text",
    "id": "0YurI4oTMhXI"
   },
   "source": [
    "2. Get the the volume of a sphere with radius 6. Hint: need to import math library first to get the pi constant\n",
    "\n",
    "```\n",
    "import math\n",
    "math.pi #this is the pi constant\n",
    "```\n",
    "\n"
   ]
  },
  {
   "cell_type": "code",
   "execution_count": 10,
   "metadata": {
    "colab": {},
    "colab_type": "code",
    "id": "7RHhukJUMhXJ"
   },
   "outputs": [
    {
     "data": {
      "text/plain": [
       "904.7786842338603"
      ]
     },
     "execution_count": 10,
     "metadata": {},
     "output_type": "execute_result"
    }
   ],
   "source": [
    "import math\n",
    "\n",
    "V= (4/3)*math.pi*pow(6,3)\n",
    "V"
   ]
  },
  {
   "cell_type": "markdown",
   "metadata": {
    "colab_type": "text",
    "id": "x_si_576MhXO"
   },
   "source": [
    "3. Test whether a number is divisible by 3.\n",
    "\n",
    "e.g. 6 is divsible by 3, 7 is not divisible by 3"
   ]
  },
  {
   "cell_type": "code",
   "execution_count": 11,
   "metadata": {
    "colab": {},
    "colab_type": "code",
    "id": "fXLEtaBCMhXQ"
   },
   "outputs": [
    {
     "name": "stdout",
     "output_type": "stream",
     "text": [
      "Enter a number: 7\n",
      "7is NOT divisible by 3\n"
     ]
    }
   ],
   "source": [
    "num = int(input('Enter a number: '))\n",
    "if num%3 ==0:\n",
    "    print(f'{num}is divisible by 3')\n",
    "else:\n",
    "    print(f'{num}is NOT divisible by 3')\n",
    "    "
   ]
  },
  {
   "cell_type": "markdown",
   "metadata": {
    "colab_type": "text",
    "id": "SHx6EctfMhXT"
   },
   "source": [
    "4. Test whether an input letter is a vowel (i.e. the input only contains a,e,i,o,u characters)"
   ]
  },
  {
   "cell_type": "code",
   "execution_count": 13,
   "metadata": {
    "colab": {},
    "colab_type": "code",
    "id": "Ei4bhZb7MhXU"
   },
   "outputs": [
    {
     "name": "stdout",
     "output_type": "stream",
     "text": [
      "Input a letter:a\n",
      "It is a vowel.\n"
     ]
    }
   ],
   "source": [
    "letter = str(input('Input a letter:'))\n",
    "\n",
    "if letter in ('a', 'e', 'i', 'o', 'u'):\n",
    "    print(\"It is a vowel.\")\n",
    "    \n",
    "else:\n",
    "    print(\"It is NOT a vowel.\")\n",
    "    "
   ]
  },
  {
   "cell_type": "markdown",
   "metadata": {
    "colab_type": "text",
    "id": "ontioKdbMhXX"
   },
   "source": [
    "5. Write a program that accepts the base and height of a triangle and compute the area.\n",
    "\n",
    "Sample input and output\n",
    "\n",
    "Input:\n",
    "\n",
    "`input the base: 5`\n",
    "\n",
    "`input the height: 7`\n",
    "\n",
    "Output:\n",
    "\n",
    "`17.5`"
   ]
  },
  {
   "cell_type": "code",
   "execution_count": 14,
   "metadata": {
    "colab": {},
    "colab_type": "code",
    "id": "fq6o_fAYMhXX"
   },
   "outputs": [
    {
     "data": {
      "text/plain": [
       "17.5"
      ]
     },
     "execution_count": 14,
     "metadata": {},
     "output_type": "execute_result"
    }
   ],
   "source": [
    "b = 5\n",
    "h = 7\n",
    "A = (b*h)/2\n",
    "A"
   ]
  },
  {
   "cell_type": "markdown",
   "metadata": {
    "colab_type": "text",
    "id": "de-_MQ96MhXZ"
   },
   "source": [
    "6. Write a program to calculate the hypotenuse of a right angled triangle.\n",
    "\n",
    "Sample input and output\n",
    "\n",
    "Input:\n",
    "\n",
    "`a: 3`\n",
    "\n",
    "`b: 4`\n",
    "\n",
    "Output:\n",
    "\n",
    "`The length of the hypotenuse is: 5.0`\n",
    "\n"
   ]
  },
  {
   "cell_type": "code",
   "execution_count": 15,
   "metadata": {
    "colab": {},
    "colab_type": "code",
    "id": "4XA-baKJMhXa"
   },
   "outputs": [
    {
     "name": "stdout",
     "output_type": "stream",
     "text": [
      "The length of the hypotenuse is: 5.0\n"
     ]
    }
   ],
   "source": [
    "import math\n",
    "a = 3\n",
    "b = 4\n",
    "c = math.sqrt(3**2+4**2)\n",
    "print(f\"The length of the hypotenuse is: {c}\")"
   ]
  },
  {
   "cell_type": "code",
   "execution_count": null,
   "metadata": {},
   "outputs": [],
   "source": []
  }
 ],
 "metadata": {
  "colab": {
   "collapsed_sections": [],
   "name": "PythonDataTypes-Exercise-1B.ipynb",
   "provenance": []
  },
  "kernelspec": {
   "display_name": "Python 3",
   "language": "python",
   "name": "python3"
  },
  "language_info": {
   "codemirror_mode": {
    "name": "ipython",
    "version": 3
   },
   "file_extension": ".py",
   "mimetype": "text/x-python",
   "name": "python",
   "nbconvert_exporter": "python",
   "pygments_lexer": "ipython3",
   "version": "3.8.5"
  }
 },
 "nbformat": 4,
 "nbformat_minor": 1
}
