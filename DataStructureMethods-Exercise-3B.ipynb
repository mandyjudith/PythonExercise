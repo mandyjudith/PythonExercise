{
 "cells": [
  {
   "cell_type": "markdown",
   "metadata": {
    "colab_type": "text",
    "id": "ry7MxRpCLRHd"
   },
   "source": [
    "# Data Structure Methods & Comprehensions Exercise 3B"
   ]
  },
  {
   "cell_type": "markdown",
   "metadata": {
    "colab_type": "text",
    "id": "SszrTJa6LRHg"
   },
   "source": [
    "1. Write a program to map two lists into a dictionary.\n",
    "```\n",
    "e.g.\n",
    "keys = ['red', 'green', 'blue']\n",
    "values = ['#FF0000','#008000', '#0000FF']\n",
    "output:\n",
    "{'red': '#FF0000', 'green': '#008000', 'blue': '#0000FF'}\n",
    "```\n",
    "\n"
   ]
  },
  {
   "cell_type": "code",
   "execution_count": 1,
   "metadata": {
    "colab": {},
    "colab_type": "code",
    "id": "IaoCcKG_LRHi"
   },
   "outputs": [
    {
     "name": "stdout",
     "output_type": "stream",
     "text": [
      "{'red': '#FF0000', 'green': '#008000', 'blue': '#0000FF'}\n"
     ]
    }
   ],
   "source": [
    "keys = ['red', 'green', 'blue']\n",
    "values = ['#FF0000','#008000', '#0000FF']\n",
    "d = { }\n",
    "\n",
    "for i in range(len(keys)):\n",
    "    d[keys[i]] = values[i]\n",
    "    \n",
    "print(d)"
   ]
  },
  {
   "cell_type": "markdown",
   "metadata": {
    "colab_type": "text",
    "id": "HfkBfic2LRHu"
   },
   "source": [
    "2. Check whether two lists are circularly identical.\n",
    "\n",
    "\n",
    "```\n",
    "eg.\n",
    "list1 = [10, 10, 0, 0, 10]\n",
    "list2 = [10, 10, 10, 0, 0]\n",
    "list1 and list2 are circularly identical.\n",
    "```\n",
    "\n"
   ]
  },
  {
   "cell_type": "code",
   "execution_count": 1,
   "metadata": {
    "colab": {},
    "colab_type": "code",
    "id": "KbeJbR1tLRHw"
   },
   "outputs": [
    {
     "output_type": "stream",
     "name": "stdout",
     "text": [
      "List one and two are being checked\nYes\n"
     ]
    }
   ],
   "source": [
    "list1 = [10, 10, 0, 0, 10]\n",
    "list2 = [10, 10, 10, 0, 0]\n",
    "\n",
    "def circular_identical(list1,list2):\n",
    "    list3 = list1 * 2\n",
    "    for x in range(0,len(list1)):\n",
    "        z = 0\n",
    "        for y in range(x,x+len(list1)):\n",
    "            if list2[z] == list3[y]:\n",
    "                z +=1\n",
    "            else:\n",
    "                break\n",
    "        if z == len(list1):\n",
    "            return True\n",
    "    return False\n",
    "\n",
    "print(\"List one and two are being checked\")\n",
    "if (circular_identical(list1,list2)):\n",
    "    print('Yes')\n",
    "else:\n",
    "    print('No')"
   ]
  },
  {
   "cell_type": "markdown",
   "metadata": {
    "colab_type": "text",
    "id": "9zr3LylLLRH2"
   },
   "source": [
    "3. Write a program to find the highest 3 values in a dictionary.\n",
    "\n",
    "```\n",
    "e.g.\n",
    "my_dict = {'a':500, 'b':5874, 'c': 560,'d':400, 'e':5874, 'f': 20}  \n",
    "\n",
    "output:\n",
    "['b', 'e', 'c']\n",
    "```\n",
    "\n"
   ]
  },
  {
   "cell_type": "code",
   "execution_count": 3,
   "metadata": {
    "colab": {},
    "colab_type": "code",
    "id": "-ARSSJ6QLRH4"
   },
   "outputs": [
    {
     "output_type": "execute_result",
     "data": {
      "text/plain": [
       "['b', 'e', 'c']"
      ]
     },
     "metadata": {},
     "execution_count": 3
    }
   ],
   "source": [
    "my_dict = {'a':500, 'b':5874, 'c': 560,'d':400, 'e':5874, 'f': 20}  \n",
    "\n",
    "my_keys = sorted(my_dict, key=my_dict.get, reverse=True)[:3]\n",
    "my_keys"
   ]
  },
  {
   "cell_type": "markdown",
   "metadata": {
    "colab_type": "text",
    "id": "4oMZFbP3LRH-"
   },
   "source": [
    "4. Merge two dictionaries.\n",
    "\n",
    "\n",
    "```\n",
    "e.g.\n",
    "d1 = {'a': 100, 'b': 200}\n",
    "d2 = {'x': 300, 'y': 200}\n",
    "output:\n",
    "{'a': 100, 'b': 200, 'x': 300, 'y': 200}\n",
    "```\n",
    "\n"
   ]
  },
  {
   "cell_type": "code",
   "execution_count": 8,
   "metadata": {
    "colab": {},
    "colab_type": "code",
    "id": "lgabgkbjLRH_"
   },
   "outputs": [
    {
     "output_type": "stream",
     "name": "stdout",
     "text": [
      "{'a': 100, 'b': 200, 'x': 300, 'y': 200}\n"
     ]
    }
   ],
   "source": [
    "def merge_two_dicts(x,y):\n",
    "    z = x.copy()\n",
    "    z.update(y)\n",
    "    return z\n",
    "\n",
    "d1 = {'a': 100, 'b': 200}\n",
    "d2 = {'x': 300, 'y': 200}\n",
    "\n",
    "d_merge = merge_two_dicts(d1,d2)\n",
    "print(d_merge)"
   ]
  },
  {
   "cell_type": "markdown",
   "metadata": {
    "colab_type": "text",
    "id": "3ZS2zq3wLRIF"
   },
   "source": [
    "5. Write a function that takes three arguments (x, y, z) and returns a list containing x sublists (e.g. [[], [], []]), each containing y number of item z.\n",
    "\n",
    "x Number of sublists contained within the main list.\n",
    "y Number of items contained within each sublist.\n",
    "z Item contained within each sublist.\n",
    "\n",
    "\n",
    "```\n",
    "e.g.\n",
    "x = 3, y = 2, z = 3\n",
    "output:\n",
    "[[3, 3], [3, 3], [3, 3]]\n",
    "```\n",
    "\n"
   ]
  },
  {
   "cell_type": "code",
   "execution_count": 10,
   "metadata": {
    "colab": {},
    "colab_type": "code",
    "id": "CUTKuTjlLRIG"
   },
   "outputs": [
    {
     "output_type": "execute_result",
     "data": {
      "text/plain": [
       "[[3, 3], [3, 3], [3, 3]]"
      ]
     },
     "metadata": {},
     "execution_count": 10
    }
   ],
   "source": [
    "x = 3\n",
    "y = 2\n",
    "z = 3\n",
    "\n",
    "def sublist(x,y,z):\n",
    "    lst = []\n",
    "    big_lst = []\n",
    "    for i in range(y):\n",
    "        lst.append(z)\n",
    "\n",
    "    for j in range(x):\n",
    "        big_lst.append(lst)\n",
    "\n",
    "    return big_lst\n",
    "\n",
    "sublist(x,y,z)\n"
   ]
  },
  {
   "cell_type": "markdown",
   "metadata": {
    "colab_type": "text",
    "id": "iLidFaOPLRIK"
   },
   "source": [
    "6. Write a program to find the list in a list of lists whose sum of elements is the highest.\n",
    "\n",
    "```\n",
    "Sample lists: [1,2,3], [4,5,6], [10,11,12], [7,8,9]\n",
    "Expected Output: [10, 11, 12]\n",
    "```"
   ]
  },
  {
   "cell_type": "code",
   "execution_count": 14,
   "metadata": {
    "colab": {},
    "colab_type": "code",
    "id": "Cu8H5xW-LRIL"
   },
   "outputs": [
    {
     "output_type": "execute_result",
     "data": {
      "text/plain": [
       "[10, 11, 12]"
      ]
     },
     "metadata": {},
     "execution_count": 14
    }
   ],
   "source": [
    "lst = [[1,2,3], [4,5,6], [10,11,12], [7,8,9]]\n",
    "\n",
    "def highest_sum(lst):\n",
    "    num_list = 0\n",
    "    temp = 0\n",
    "    for i in lst:\n",
    "        sum = 0 \n",
    "        for j in i:\n",
    "            sum += j\n",
    "        if sum > temp:\n",
    "            temp = sum\n",
    "            num_list = i\n",
    "    return num_list\n",
    "\n",
    "\n",
    "highest_sum(lst)\n"
   ]
  },
  {
   "cell_type": "markdown",
   "metadata": {
    "colab_type": "text",
    "id": "JgnRB6xkLRIP"
   },
   "source": [
    "7. Write a program to extend a list without append."
   ]
  },
  {
   "cell_type": "code",
   "execution_count": 20,
   "metadata": {
    "colab": {},
    "colab_type": "code",
    "id": "hVh3E768LRIP"
   },
   "outputs": [
    {
     "output_type": "stream",
     "name": "stdout",
     "text": [
      "[10, 11, 12, 14, 15]\n"
     ]
    }
   ],
   "source": [
    "def ext(lst, lst2):\n",
    "    lst.extend(lst2)\n",
    "    return lst\n",
    "\n",
    "lst = [10, 11, 12]\n",
    "lst2 = [14,15]\n",
    "\n",
    "print(ext(lst, lst2))"
   ]
  },
  {
   "cell_type": "markdown",
   "metadata": {
    "colab_type": "text",
    "id": "Fuxndkp0LRIS"
   },
   "source": [
    "8. Write a program to replace the last element in a list with another list.\n",
    "```\n",
    "e.g.\n",
    "num1 = [1, 3, 5, 7, 9, 10]\n",
    "num2 = [2, 4, 6, 8]\n",
    "output:\n",
    "[1, 3, 5, 7, 9, 2, 4, 6, 8]\n",
    "```\n",
    "\n"
   ]
  },
  {
   "cell_type": "code",
   "execution_count": 21,
   "metadata": {
    "colab": {},
    "colab_type": "code",
    "id": "e-msyBsTLRIT"
   },
   "outputs": [
    {
     "output_type": "execute_result",
     "data": {
      "text/plain": [
       "[1, 3, 5, 7, 9, 2, 4, 6, 8]"
      ]
     },
     "metadata": {},
     "execution_count": 21
    }
   ],
   "source": [
    "num1 = [1, 3, 5, 7, 9, 10]\n",
    "num2 = [2, 4, 6, 8]\n",
    "\n",
    "def rep(num1,num2):\n",
    "    num1.pop(-1)\n",
    "    num1.extend(num2)\n",
    "    return num1\n",
    "\n",
    "rep(num1,num2)"
   ]
  },
  {
   "cell_type": "markdown",
   "metadata": {
    "colab_type": "text",
    "id": "3KnckCmMLRIW"
   },
   "source": [
    "9. Add a key to a dictionary using data sctructure methods.\n",
    "\n",
    "\n",
    "```\n",
    "e.g.\n",
    "before: {0: 10, 1: 20}\n",
    "after adding: {0: 10, 1: 20, 2: 30}\n",
    "```\n",
    "\n"
   ]
  },
  {
   "cell_type": "code",
   "execution_count": 22,
   "metadata": {
    "colab": {},
    "colab_type": "code",
    "id": "yx6-OG4gLRIW"
   },
   "outputs": [
    {
     "output_type": "stream",
     "name": "stdout",
     "text": [
      "{0: 10, 1: 20, 2: 30}\n"
     ]
    }
   ],
   "source": [
    "d = {0: 10, 1: 20}\n",
    "d[2]=30\n",
    "print(d)"
   ]
  },
  {
   "cell_type": "markdown",
   "metadata": {
    "colab_type": "text",
    "id": "puXeAiIPLRIZ"
   },
   "source": [
    "10. Write a program to find missing and additional values in two lists.\n",
    "```\n",
    "e.g.\n",
    "list1 = ['a','b','c','d','e','f']\n",
    "list2 = ['d','e','f','g','h']\n",
    "ouptut:\n",
    "Missing values in second list:  {'a', 'b', 'c'}\n",
    "Additional values in second list {'h', 'g'}\n",
    "```\n",
    "\n"
   ]
  },
  {
   "cell_type": "code",
   "execution_count": 24,
   "metadata": {
    "colab": {},
    "colab_type": "code",
    "id": "hbW3wJ1FLRIa"
   },
   "outputs": [
    {
     "output_type": "stream",
     "name": "stdout",
     "text": [
      "Missing values in second list: ['a', 'b', 'c']\nAdditional values in second list: ['g', 'h']\n"
     ]
    }
   ],
   "source": [
    "def missing_additional(lst1,lst2):\n",
    "    temp = lst1.copy()\n",
    "    temp2 = lst2.copy()\n",
    "    for i in lst2:\n",
    "        if i in lst1:\n",
    "            temp.remove(i)\n",
    "\n",
    "    for j in lst1:\n",
    "        if j in lst2:\n",
    "            temp2.remove(j)\n",
    "\n",
    "    print(f'Missing values in second list: {temp}')\n",
    "    print(f'Additional values in second list: {temp2}')\n",
    "\n",
    "    return\n",
    "\n",
    "lst1 = ['a','b','c','d','e','f']\n",
    "lst2 = ['d','e','f','g','h']\n",
    "\n",
    "missing_additional(lst1,lst2)\n"
   ]
  },
  {
   "cell_type": "code",
   "execution_count": null,
   "metadata": {},
   "outputs": [],
   "source": []
  }
 ],
 "metadata": {
  "colab": {
   "collapsed_sections": [],
   "name": "DataStructureMethods-Exercise-3B.ipynb",
   "provenance": []
  },
  "kernelspec": {
   "name": "python376jvsc74a57bd065217befdecd77df966a0fc871a0f674f96e08082e68f0c74d27e5780f39628d",
   "display_name": "Python 3.7.6 64-bit (conda)"
  },
  "language_info": {
   "codemirror_mode": {
    "name": "ipython",
    "version": 3
   },
   "file_extension": ".py",
   "mimetype": "text/x-python",
   "name": "python",
   "nbconvert_exporter": "python",
   "pygments_lexer": "ipython3",
   "version": "3.7.6"
  }
 },
 "nbformat": 4,
 "nbformat_minor": 1
}